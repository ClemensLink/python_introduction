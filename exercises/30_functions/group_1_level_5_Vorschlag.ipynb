{
 "cells": [
  {
   "cell_type": "markdown",
   "metadata": {},
   "source": [
    "<div class=\"alert alert-block alert-warning\">\n",
    "\n",
    "# Aufgabe 5\n",
    "\n",
    "Sie arbeiten bei einer Bank und es soll ein Programm für einen Bankautomaten entwickelt werden. Dazu haben Sie ein Modell bekommen, welches den Ablauf erläutert.\n",
    "<br>\n",
    "/Noch einfügen Grafik/\n",
    "<br>\n",
    "Ihre Aufgabe ist es hierbei die Pin-Abfrage zu übernehmen. Hierbei soll überprüft werden ob der eingegebene Pin dem Pin auf der Bankkarte gleich ist. Falls dies so ist sollen Sie eine Bestätigung(`True`) zurückgeben. Falls die Pins nicht passen, geben Sie einen Fehler aus(`\"Pin ist falsch.\"`) und geben Sie die Möglichkeit den Pin noch zwei weitere male eingeben zu können(`Mittels einer Schleife!`). Wenn der Pin 3 mal hintereinander falsch eingegeben wird geben Sie aus (`\"Karte einbehalten.\"`) und geben Sie eine Beendigung ihrer Funktion mit Fehler zurück(`false`).\n",
    "\n",
    "Als Input für Ihre Funktion sollen Sie zwei Attribute annehmen, einen Zahlenwert(integer) als Pin und eine Karte als eine Liste mit zwei Attributen. Auf der Karte ist als erstes immer der Name gespeichert und als zweites der Pin.\n",
    "\n",
    "</div>  \n",
    "<div class=\"alert alert-block alert-info\">\n",
    "\n",
    "### Hilfe\n",
    "\n",
    "Achten Sie darauf, an welcher Position der Karte der Pin und der Name der Person steht.\n",
    "</div>"
   ]
  },
  {
   "cell_type": "code",
   "execution_count": 10,
   "metadata": {},
   "outputs": [],
   "source": [
    "def Check_Pin(Pin,Karte):\n",
    "###BEGIN SOLUTION\n",
    "    if(Pin == Karte[1]):\n",
    "        return True\n",
    "    else:\n",
    "        for x in range(2):\n",
    "            print(\"Pin ist falsch.\")\n",
    "            Pin_Insert = input(\"Bitte geben Sie den Pin erneut ein.\")\n",
    "            if(Pin == Pin_Insert):\n",
    "                return True\n",
    "        print(\"Karte einbehalten. 3 mal Pin falsch eingegeben\")\n",
    "        return False\n",
    "###END SOLUTION"
   ]
  },
  {
   "cell_type": "markdown",
   "metadata": {},
   "source": [
    "# Automatische Tests\n",
    "\n",
    "Ab hier finden Sie einige automatisierte Tests um Ihre Lösungen zu überprüfen. Um Ihre Lösung zu prüfen führen Sie bitte zuerst die Zelle mit Ihrer Lösung und danach die Zelle mit dem zugehörigen Test aus.\n"
   ]
  },
  {
   "cell_type": "code",
   "execution_count": null,
   "metadata": {},
   "outputs": [],
   "source": [
    "#Try Cathch eventuell hier noch\n",
    "Karte = [\"Max Mustermann\" , 4321]\n",
    "if(Check_Pin(1234,Karte) == True):\n",
    "    print(\"Fehler! Falscher Pin eingegeben und Zugriff bekommen!\")\n",
    "if(Check_Pin(5466,Karte == False)):\n",
    "    print(\"Richtig! Falscher Pin und kein Zugriff!\")"
   ]
  }
 ],
 "metadata": {
  "language_info": {
   "codemirror_mode": {
    "name": "ipython",
    "version": 3
   },
   "file_extension": ".py",
   "mimetype": "text/x-python",
   "name": "python",
   "nbconvert_exporter": "python",
   "pygments_lexer": "ipython3",
   "version": "3.8.0-final"
  },
  "orig_nbformat": 2,
  "kernelspec": {
   "name": "python38064bitbaef836a98804bf8802a43249a276387",
   "display_name": "Python 3.8.0 64-bit"
  }
 },
 "nbformat": 4,
 "nbformat_minor": 2
}