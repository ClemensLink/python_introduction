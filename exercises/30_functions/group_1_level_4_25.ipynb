{
 "cells": [
  {
   "cell_type": "markdown",
   "metadata": {
    "nbgrader": {
     "grade": false,
     "grade_id": "cell-faad107d80e83a73",
     "locked": true,
     "schema_version": 1,
     "solution": false
    }
   },
   "source": [
    "<div class=\"alert alert-block alert-warning\">\n",
    "\n",
    "# Aufgabe 4\n",
    "\n",
    "Es soll ein Programm zur automatischen Analyse von Kontobewegungen implementiert werden. So soll aus einer großen Liste von Zugängen und Abgängen erkannt werden wie der neue Kontostand ist. Außerdem soll der größte Zu- oder Abgang bestimmt werden.\n",
    "\n",
    "Implementieren Sie nun die einzelnen Funktionen `calculate_balance` und `calculate_highest`.  \n",
    "Diese Funktionen erhalten als Parameter jeweils eine Liste `transfers`, welche in Form von Float-Werten die Zugänge und Abgänge auf das Konto angibt (in etwa `[+500.00, -200.00, +0.70, -0.65]`).  \n",
    "Als Ergebnis sollen (je nach Funktion):  \n",
    "Der `Kontostand` in Form eines Float-Wertes zurückgegeben werden (\"balance\").  \n",
    "Der `höchste Transfer` in Form eines Float-Wertes zurückgegeben werden (\"highest_transfer\").  \n",
    "\n",
    "Des Weiteren soll eine Hauptfunktion (`analyse_transfers`) implementiert werden. Diese soll die oben genannten Funktionen nur aufrufen und das Ergebnis ausgeben. Dazu soll auch die Hauptfunktion als Parameter eine Liste `transfers` akzeptieren. Die Ausgabe soll wie folgt aussehen:  \n",
    "`Der Kontostand beträgt: 300.05\n",
    "Der höchste Transfer beträgt: 500.0`\n",
    "\n",
    "\n",
    "Achten Sie bei dieser Aufgabe darauf dass sowohl alle Funktionen einzeln funktionieren, als auch die gesamte Ausgabe über die Hauptfunktion (analyse_transfers).\n",
    "</div>\n",
    "<div class=\"alert alert-block alert-info\">\n",
    "\n",
    "### Hilfe\n",
    "Sie können Ihre Lösung mit den automatisierten [Tests](#Automatische-Tests) weiter unten im Dokument überprüfen.<br>\n",
    "Eine Einführung in die `For-Schleifen` in Python finden Sie [hier](../../50_loops/for_loop.ipynb).\n",
    "</div>"
   ]
  },
  {
   "cell_type": "code",
   "execution_count": 2,
   "metadata": {
    "nbgrader": {
     "grade": false,
     "grade_id": "cell-1a07b590076476d0",
     "locked": false,
     "schema_version": 1,
     "solution": true
    }
   },
   "outputs": [],
   "source": [
    "#Hauptfunktion\n",
    "\n",
    "#calculate_highest Funktion\n",
    "\n",
    "def calculate_balance(transfers):\n",
    "    balance = 0\n",
    "    for transfer in transfers:\n",
    "        balance += transfer\n",
    "    return balance\n",
    "    \n"
   ]
  },
  {
   "cell_type": "markdown",
   "metadata": {
    "nbgrader": {
     "grade": false,
     "grade_id": "cell-f2f9e4db5cbebcb9",
     "locked": true,
     "schema_version": 1,
     "solution": false
    }
   },
   "source": [
    "  ***\n",
    "  # Automatische Tests\n",
    "  Ab hier finden Sie einige automatisierte Tests um Ihre Lösungen zu überprüfen. Um Ihre Lösung zu prüfen führen Sie bitte zuerst die Zelle mit Ihrer Lösung und danach die Zelle mit dem zugehörigen Test aus.\n"
   ]
  },
  {
   "cell_type": "code",
   "execution_count": 3,
   "metadata": {
    "nbgrader": {
     "grade": true,
     "grade_id": "cell-d6c1618d07297752",
     "locked": true,
     "points": 0,
     "schema_version": 1,
     "solution": false
    }
   },
   "outputs": [],
   "source": [
    "try:\n",
    "    calculate_balance([+519.55, -250.00, -19.37])\n",
    "except NotImplementedError:\n",
    "    print(\"Bitte entfernen Sie das \\\"raise NotImplementedError()\\\"\")"
   ]
  },
  {
   "cell_type": "markdown",
   "metadata": {
    "nbgrader": {
     "grade": false,
     "grade_id": "cell-c23bb05f0d23e6b4",
     "locked": true,
     "schema_version": 1,
     "solution": false
    }
   },
   "source": [
    "## Test 1 - Korrekte Berechnung des Kontostands\n",
    "Der Kontostand (`balance`) soll mittels der Funktion `calculate_balance` korrekt berechnet werden."
   ]
  },
  {
   "cell_type": "code",
   "execution_count": 12,
   "metadata": {
    "nbgrader": {
     "grade": true,
     "grade_id": "cell-247d82df8690edfd",
     "locked": true,
     "points": 0,
     "schema_version": 1,
     "solution": false
    }
   },
   "outputs": [
    {
     "name": "stdout",
     "output_type": "stream",
     "text": [
      "Test 1 erfolgreich\n",
      "Test 2 erfolgreich\n",
      "Test 3 erfolgreich\n"
     ]
    }
   ],
   "source": [
    "from nose.tools import assert_equal\n",
    "\n",
    "transfers = [+519.55, -250.00, -19.37, -12.34, +234.56]\n",
    "balance = calculate_balance(transfers)\n",
    "assert_equal(balance, 472.40, \"Das Ergebnis ist falsch\")\n",
    "print(\"Test 1 erfolgreich\")\n",
    "\n",
    "transfers = [+99999999.99, -1234567.89, -9876543.22]\n",
    "balance = calculate_balance(transfers)\n",
    "assert_equal(balance, 88888888.88, \"Das Ergebnis ist falsch\")\n",
    "print(\"Test 2 erfolgreich\")\n",
    "\n",
    "transfers = [-12.34, +20.00]\n",
    "balance = calculate_balance(transfers)\n",
    "assert_equal(balance, 7.66, \"Das Ergebnis ist falsch\")\n",
    "print(\"Test 3 erfolgreich\")"
   ]
  },
  {
   "cell_type": "markdown",
   "metadata": {
    "nbgrader": {
     "grade": false,
     "grade_id": "cell-a19ff426ced0fc79",
     "locked": true,
     "schema_version": 1,
     "solution": false
    }
   },
   "source": [
    "## Test 2 - Korrekte Bestimmung der höchsten Bankbewegung\n",
    "Die höchste Bankbewegung (`highest_transfer`) soll mittels der Funktion `calculate_highest` für jede Liste korrekt bestimmt werden.  \n",
    "Hierbei gilt es insbesondere auch negative Bewegungen zu berücksichtigen."
   ]
  },
  {
   "cell_type": "code",
   "execution_count": 17,
   "metadata": {
    "nbgrader": {
     "grade": true,
     "grade_id": "cell-69e846172462494b",
     "locked": true,
     "points": 0,
     "schema_version": 1,
     "solution": false
    }
   },
   "outputs": [
    {
     "name": "stdout",
     "output_type": "stream",
     "text": [
      "Test 1 erfolgreich\n",
      "Test 2 erfolgreich\n",
      "Test 3 erfolgreich\n",
      "Test 4 erfolgreich\n"
     ]
    }
   ],
   "source": [
    "from nose.tools import assert_equal\n",
    "\n",
    "transfers = [+300.00, -250.00, -23.00, +210.00, +234.00]\n",
    "highest_transfer = calculate_highest(transfers)\n",
    "assert_equal(highest_transfer, 300, \"Das Ergebnis ist falsch\")\n",
    "print(\"Test 1 erfolgreich\")\n",
    "\n",
    "transfers = [+200.00, -200.00, +200.00, -200.00]\n",
    "highest_transfer = calculate_highest(transfers)\n",
    "assert_equal(highest_transfer, 200, \"Das Ergebnis ist falsch\")\n",
    "print(\"Test 2 erfolgreich\")\n",
    "\n",
    "transfers = [+15.00]\n",
    "highest_transfer = calculate_highest(transfers)\n",
    "assert_equal(highest_transfer, 15, \"Das Ergebnis ist falsch\")\n",
    "print(\"Test 3 erfolgreich\")\n",
    "\n",
    "transfers = [+300.00, -500.00, -23.00, +210.00, +234.00]\n",
    "highest_transfer = calculate_highest(transfers)\n",
    "assert_equal(highest_transfer, -500, \"Das Ergebnis ist falsch, beachten Sie auch negative Buchungen\")\n",
    "print(\"Test 4 erfolgreich\")"
   ]
  },
  {
   "cell_type": "markdown",
   "metadata": {
    "nbgrader": {
     "grade": false,
     "grade_id": "cell-39285f82a89eb6eb",
     "locked": true,
     "schema_version": 1,
     "solution": false
    }
   },
   "source": [
    "## Test 3 - Korrekte Ausgabe\n",
    "Die Hauptfunktion `analyse_transfers` soll die beiden oben getesteten Funktionen aufrufen und die Ausgabe erstellen wie im Aufgabentext beschrieben.  \n",
    "**Achtung: Der Ausgabetext muss exakt mit dem aus der Aufgabenstellung übereinstimmen damit dieser Test funktioniert**"
   ]
  },
  {
   "cell_type": "code",
   "execution_count": 18,
   "metadata": {
    "nbgrader": {
     "grade": true,
     "grade_id": "cell-40e2b6b56c4ead9b",
     "locked": true,
     "points": 0,
     "schema_version": 1,
     "solution": false
    }
   },
   "outputs": [
    {
     "name": "stdout",
     "output_type": "stream",
     "text": [
      "Test 1 erfolgreich.\n"
     ]
    }
   ],
   "source": [
    "from unittest import mock\n",
    "from nose.tools import assert_equal\n",
    "import unittest\n",
    "import io\n",
    "\n",
    "with mock.patch('sys.stdout', new=io.StringIO()) as fake_stdout:\n",
    "    analyse_transfers([+300.00, -250.00, -23.00, +210.00, +234.00])\n",
    "\n",
    "assert_equal(fake_stdout.getvalue(), 'Der Kontostand beträgt: 471.0\\nDer höchste Transfer beträgt: 300.0\\n', \"Die Ausgabe ist nicht perfekt.\")\n",
    "print(\"Test 1 erfolgreich.\")"
   ]
  }
 ],
 "metadata": {
  "celltoolbar": "Create Assignment",
  "file_extension": ".py",
  "kernelspec": {
   "display_name": "Python 3",
   "language": "python",
   "name": "python3"
  },
  "language_info": {
   "codemirror_mode": {
    "name": "ipython",
    "version": 3
   },
   "file_extension": ".py",
   "mimetype": "text/x-python",
   "name": "python",
   "nbconvert_exporter": "python",
   "pygments_lexer": "ipython3",
   "version": "3.7.2"
  },
  "mimetype": "text/x-python",
  "name": "python",
  "npconvert_exporter": "python",
  "pygments_lexer": "ipython3",
  "version": 3
 },
 "nbformat": 4,
 "nbformat_minor": 2
}