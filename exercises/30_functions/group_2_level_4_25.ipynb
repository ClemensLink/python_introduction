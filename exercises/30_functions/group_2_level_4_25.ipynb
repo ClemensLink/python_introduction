{
 "cells": [
  {
   "cell_type": "markdown",
   "metadata": {
    "nbgrader": {
     "grade": false,
     "grade_id": "cell-ca2af3a77d525d09",
     "locked": true,
     "schema_version": 1,
     "solution": false
    }
   },
   "source": [
    "<div class=\"alert alert-block alert-warning\">\n",
    "\n",
    "# Aufgabe 4\n",
    "\n",
    "Es soll ein Programm zur automatischen Analyse von Materialeingängen und Materialabgängen implementiert werden. So soll aus einer großen Liste von Eingängen und Abgängen erkannt werden wie der neue Materialbestand ist. Außerdem soll der größte Ein- oder Abgang bestimmt werden.\n",
    "\n",
    "Implementieren Sie nun die einzelnen Funktionen `calculate_stock` und `calculate_highest`.  \n",
    "Diese Funktionen erhalten als Parameter jeweils eine Liste `incoming_outgoing`, welche in Form von Integer-Werten die Eingänge und Abgänge in das Materiallager angibt (in etwa `[+500, -200, +70, -65]`).  \n",
    "Als Ergebnis sollen (je nach Funktion):  \n",
    "Der `Materialbestand` in Form eines Integer-Wertes zurückgegeben werden (\"stock\").  \n",
    "Der `höchste Transfer` in Form eines Integer-Wertes zurückgegeben werden (\"highest_transfer\").  \n",
    "\n",
    "Des Weiteren soll eine Hauptfunktion (`analyse_stock`) implementiert werden. Diese soll die oben genannten Funktionen nur aufrufen und das Ergebnis ausgeben. Dazu soll auch die Hauptfunktion als Parameter eine Liste `incoming_outgoing` akzeptieren. Die Ausgabe soll wie folgt aussehen:  \n",
    "`Der Materialbestand beträgt: 305\n",
    "Der höchste Transfer beträgt: 500`\n",
    "\n",
    "\n",
    "Achten Sie bei dieser Aufgabe darauf dass sowohl alle Funktionen einzeln funktionieren, als auch die gesamte Ausgabe über die Hauptfunktion (analyse_stock).\n",
    "</div>\n",
    "<div class=\"alert alert-block alert-info\">\n",
    "\n",
    "### Hilfe\n",
    "Sie können Ihre Lösung mit den automatisierten [Tests](#Automatische-Tests) weiter unten im Dokument überprüfen.<br>\n",
    "Eine Einführung in die `For-Schleifen` in Python finden Sie [hier](../../50_loops/for_loop.ipynb).\n",
    "</div>"
   ]
  },
  {
   "cell_type": "code",
   "execution_count": 2,
   "metadata": {
    "nbgrader": {
     "grade": false,
     "grade_id": "cell-5e851adeef6de487",
     "locked": false,
     "schema_version": 1,
     "solution": true
    }
   },
   "outputs": [],
   "source": [
    "# Hauptfunktion\n",
    "\n",
    "# calculate_highest Funktion\n",
    "\n",
    "def calculate_stock(incoming_outgoing):\n",
    "    stock = 0\n",
    "    for transfer in incoming_outgoing:\n",
    "        stock += transfer\n",
    "    return stock\n",
    "    "
   ]
  },
  {
   "cell_type": "markdown",
   "metadata": {
    "nbgrader": {
     "grade": false,
     "grade_id": "cell-2a6f15d933ac2ca7",
     "locked": true,
     "schema_version": 1,
     "solution": false
    }
   },
   "source": [
    "  ***\n",
    "  # Automatische Tests\n",
    "  Ab hier finden Sie einige automatisierte Tests um Ihre Lösungen zu überprüfen. Um Ihre Lösung zu prüfen führen Sie bitte zuerst die Zelle mit Ihrer Lösung und danach die Zelle mit dem zugehörigen Test aus.\n"
   ]
  },
  {
   "cell_type": "code",
   "execution_count": 3,
   "metadata": {
    "nbgrader": {
     "grade": true,
     "grade_id": "cell-a459a1e684f8555b",
     "locked": true,
     "points": 0,
     "schema_version": 1,
     "solution": false
    }
   },
   "outputs": [
    {
     "name": "stdout",
     "output_type": "stream",
     "text": [
      "Der Materialbestand beträgt: 203\n",
      "Der höchste Transfer beträgt: 234\n"
     ]
    }
   ],
   "source": [
    "try:\n",
    "    analyse_stock([-19, -12, +234])\n",
    "except NotImplementedError:\n",
    "    print(\"Bitte entfernen Sie das \\\"raise NotImplementedError()\\\"\")"
   ]
  },
  {
   "cell_type": "markdown",
   "metadata": {
    "nbgrader": {
     "grade": false,
     "grade_id": "cell-4ac2f9f102510aba",
     "locked": true,
     "schema_version": 1,
     "solution": false
    }
   },
   "source": [
    "## Test 1 - Korrekte Berechnung des Materialbestands\n",
    "Der Materialbestand (`stock`) soll mittels der Funktion `calculate_stock` korrekt berechnet werden."
   ]
  },
  {
   "cell_type": "code",
   "execution_count": 27,
   "metadata": {
    "nbgrader": {
     "grade": true,
     "grade_id": "cell-73dfdf6644d28eb5",
     "locked": true,
     "points": 0,
     "schema_version": 1,
     "solution": false
    }
   },
   "outputs": [
    {
     "name": "stdout",
     "output_type": "stream",
     "text": [
      "Test 1 erfolgreich\n",
      "Test 2 erfolgreich\n",
      "Test 3 erfolgreich\n"
     ]
    }
   ],
   "source": [
    "from nose.tools import assert_equal\n",
    "\n",
    "incoming_outgoing = [+519, -250, -19, -12, +234]\n",
    "stock = calculate_stock(incoming_outgoing)\n",
    "assert_equal(stock, 472, \"Das Ergebnis ist falsch\")\n",
    "print(\"Test 1 erfolgreich\")\n",
    "\n",
    "incoming_outgoing = [+99999999, -1234567, -9876543]\n",
    "stock = calculate_stock(incoming_outgoing)\n",
    "assert_equal(stock, 88888889, \"Das Ergebnis ist falsch\")\n",
    "print(\"Test 2 erfolgreich\")\n",
    "\n",
    "incoming_outgoing = [-12, +20]\n",
    "stock = calculate_stock(incoming_outgoing)\n",
    "assert_equal(stock, 8, \"Das Ergebnis ist falsch\")\n",
    "print(\"Test 3 erfolgreich\")"
   ]
  },
  {
   "cell_type": "markdown",
   "metadata": {
    "nbgrader": {
     "grade": false,
     "grade_id": "cell-d6029a938ec2ea25",
     "locked": true,
     "schema_version": 1,
     "solution": false
    }
   },
   "source": [
    "## Test 2 - Korrekte Bestimmung der höchsten Materialbewegung\n",
    "Die höchste Materialbewegung (`highest_transfer`) soll mittels der Funktion `calculate_highest` für jede Liste korrekt bestimmt werden.  \n",
    "Hierbei gilt es insbesondere auch negative Bewegungen zu berücksichtigen."
   ]
  },
  {
   "cell_type": "code",
   "execution_count": 28,
   "metadata": {
    "nbgrader": {
     "grade": true,
     "grade_id": "cell-9bc03493d6cfdd2c",
     "locked": true,
     "points": 0,
     "schema_version": 1,
     "solution": false
    }
   },
   "outputs": [
    {
     "name": "stdout",
     "output_type": "stream",
     "text": [
      "Test 1 erfolgreich\n",
      "Test 2 erfolgreich\n",
      "Test 3 erfolgreich\n",
      "Test 4 erfolgreich\n"
     ]
    }
   ],
   "source": [
    "from nose.tools import assert_equal\n",
    "\n",
    "incoming_outgoing = [+300, -250, -23, +210, +234]\n",
    "highest_transfer = calculate_highest(incoming_outgoing)\n",
    "assert_equal(highest_transfer, 300, \"Das Ergebnis ist falsch\")\n",
    "print(\"Test 1 erfolgreich\")\n",
    "\n",
    "incoming_outgoing = [+200, -200, +200, -200]\n",
    "highest_transfer = calculate_highest(incoming_outgoing)\n",
    "assert_equal(highest_transfer, 200, \"Das Ergebnis ist falsch\")\n",
    "print(\"Test 2 erfolgreich\")\n",
    "\n",
    "incoming_outgoing = [+15]\n",
    "highest_transfer = calculate_highest(incoming_outgoing)\n",
    "assert_equal(highest_transfer, 15, \"Das Ergebnis ist falsch\")\n",
    "print(\"Test 3 erfolgreich\")\n",
    "\n",
    "incoming_outgoing = [+300, -500, -23, +210, +234]\n",
    "highest_transfer = calculate_highest(incoming_outgoing)\n",
    "assert_equal(highest_transfer, -500, \"Das Ergebnis ist falsch, beachten Sie auch negative Buchungen\")\n",
    "print(\"Test 4 erfolgreich\")"
   ]
  },
  {
   "cell_type": "markdown",
   "metadata": {
    "nbgrader": {
     "grade": false,
     "grade_id": "cell-835c0c5c51c1e2ef",
     "locked": true,
     "schema_version": 1,
     "solution": false
    }
   },
   "source": [
    "## Test 3 - Korrekte Ausgabe\n",
    "Die Hauptfunktion `analyse_stock` soll die beiden oben getesteten Funktionen aufrufen und die Ausgabe erstellen wie im Aufgabentext beschrieben.  \n",
    "**Achtung: Der Ausgabetext muss exakt mit dem aus der Aufgabenstellung übereinstimmen damit dieser Test funktioniert**"
   ]
  },
  {
   "cell_type": "code",
   "execution_count": 29,
   "metadata": {
    "nbgrader": {
     "grade": true,
     "grade_id": "cell-aa498808ea48d927",
     "locked": true,
     "points": 0,
     "schema_version": 1,
     "solution": false
    }
   },
   "outputs": [
    {
     "name": "stdout",
     "output_type": "stream",
     "text": [
      "Test 1 erfolgreich.\n"
     ]
    }
   ],
   "source": [
    "from unittest import mock\n",
    "from nose.tools import assert_equal\n",
    "import unittest\n",
    "import io\n",
    "\n",
    "with mock.patch('sys.stdout', new=io.StringIO()) as fake_stdout:\n",
    "    analyse_stock([+300, -250, -23, +210, +234])\n",
    "\n",
    "assert_equal(fake_stdout.getvalue(), 'Der Materialbestand beträgt: 471\\nDer höchste Transfer beträgt: 300\\n', \"Die Ausgabe ist nicht perfekt.\")\n",
    "print(\"Test 1 erfolgreich.\")"
   ]
  }
 ],
 "metadata": {
  "celltoolbar": "Create Assignment",
  "file_extension": ".py",
  "kernelspec": {
   "display_name": "Python 3",
   "language": "python",
   "name": "python3"
  },
  "language_info": {
   "codemirror_mode": {
    "name": "ipython",
    "version": 3
   },
   "file_extension": ".py",
   "mimetype": "text/x-python",
   "name": "python",
   "nbconvert_exporter": "python",
   "pygments_lexer": "ipython3",
   "version": "3.7.2"
  },
  "mimetype": "text/x-python",
  "name": "python",
  "npconvert_exporter": "python",
  "pygments_lexer": "ipython3",
  "version": 3
 },
 "nbformat": 4,
 "nbformat_minor": 2
}