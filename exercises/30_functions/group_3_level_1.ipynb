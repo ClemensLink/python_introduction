{
 "cells": [
  {
   "cell_type": "markdown",
   "metadata": {
    "nbgrader": {
     "grade": false,
     "grade_id": "cell-1470d175fc193de3",
     "locked": true,
     "schema_version": 1,
     "solution": false
    }
   },
   "source": [
    " # Aufgabe 1\n",
    "\n",
    " In einer Bank sollen Kreditkartenanträge zukünftig mittels eines Computerprogramms automatisch bearbeitet werden. Sie sollen nun das Regelwerk zur Entscheidung über Anträge mittels `Conditionals` in einem Python Programm umsetzen.\n",
    " Im zweiten Schritt soll überprüft werden ob das Einkommen eines Antragstellers über 1500€ liegt. Nur dann soll eine Kreditkarte ausgestellt werden. Andernfalls ist der Antragsteller nicht berechtigt eine Kreditkarte zu erhalten.\n",
    "\n",
    " Implementieren Sie nun die Funktion `request_verification`. Diese Funktion erhält einen Parameter `monthly_income`, welcher in Form eines float-Wertes das monatliche Einkommen des Antragstellers speichert.\n",
    " Als Ergebnis soll in Form eines Boolean-Wertes zurückgegeben werden ob der Antragsteller berechtigt ist eine Kreditkarte zu erhalten. Ist das monatliche Einkommen unter oder gleich 1500€ so geben Sie `False`zurück. Ansonsten `True`.\n",
    " **Geben Sie zusätzlich mittels print() eine Meldung in die Konsole aus ob der Antrag angenommen oder abgelehnt wird.**\n",
    "\n",
    "\n",
    "\n",
    " ### Hilfe\n",
    " Sie können Ihre Lösung mit den automatisierten [Tests](#Automatische-Tests) weiter unten im Dokument überprüfen.<br>\n",
    " Eine Einführung in die `Kontrollstrukturen`in Python finden Sie [hier](../../30_conditionals/10_conditionals.ipynb)."
   ]
  },
  {
   "cell_type": "code",
   "execution_count": 1,
   "metadata": {
    "nbgrader": {
     "grade": false,
     "grade_id": "cell-1eb95cc76568a4e6",
     "locked": false,
     "schema_version": 1,
     "solution": true
    }
   },
   "outputs": [],
   "source": [
    "###BEGIN SOLUTION\n",
    "def request_verification(monthly_income):\n",
    "    \n",
    "    \n",
    "    is_eligible = True\n",
    "    if monthly_income <= 1500:\n",
    "        is_eligible = False\n",
    "        print(\"Antrag abgelehnt\")\n",
    "    else:\n",
    "        is_eligible = True\n",
    "        print(\"Antrag angenommen\")\n",
    "        \n",
    "    \n",
    "    return is_eligible\n",
    "###END SOLUTION"
   ]
  },
  {
   "cell_type": "markdown",
   "metadata": {
    "nbgrader": {
     "grade": false,
     "grade_id": "cell-a4a7ab3b814138d0",
     "locked": true,
     "schema_version": 1,
     "solution": false
    }
   },
   "source": [
    " ***\n",
    " # Automatische Tests\n",
    " Ab hier finden Sie einige automatisierte Tests um Ihre Lösungen zu überprüfen. Um Ihre Lösung zu prüfen führen Sie bitte zuerst die Zelle mit Ihrer Lösung und danach die Zelle mit dem zugehörigen Test aus.\n"
   ]
  },
  {
   "cell_type": "code",
   "execution_count": 3,
   "metadata": {
    "nbgrader": {
     "grade": true,
     "grade_id": "cell-8b030b90876d6c07",
     "locked": true,
     "points": 0,
     "schema_version": 1,
     "solution": false
    }
   },
   "outputs": [
    {
     "name": "stdout",
     "output_type": "stream",
     "text": [
      "Antrag angenommen\n"
     ]
    }
   ],
   "source": [
    "try:\n",
    "    request_verification(3000)\n",
    "except NotImplementedError:\n",
    "    print(\"Bitte entfernen Sie das \\\"raise NotImplementedError()\\\"\")"
   ]
  },
  {
   "cell_type": "markdown",
   "metadata": {
    "nbgrader": {
     "grade": false,
     "grade_id": "cell-f7a237abf734561f",
     "locked": true,
     "schema_version": 1,
     "solution": false
    }
   },
   "source": [
    " ## Test 1 - Rückgabe als Boolean-Wert\n",
    " Der Rückgabewert (`is_eligible`) soll vom Datenypen Boolean sein."
   ]
  },
  {
   "cell_type": "code",
   "execution_count": 0,
   "metadata": {
    "nbgrader": {
     "grade": true,
     "grade_id": "cell-b9df344b9769d792",
     "locked": true,
     "points": 0,
     "schema_version": 1,
     "solution": false
    }
   },
   "outputs": [],
   "source": [
    "from nose.tools import assert_equal\n",
    "\n",
    "monthly_income = 3000\n",
    "is_eligible = request_verification(monthly_income)\n",
    "\n",
    "assert_equal(isinstance(is_eligible, bool), True, \"Das Ergebnis soll vom Typen Boolean sein.\")\n",
    "assert_equal(isinstance(is_eligible, str), False, \"Das Ergebnis soll nicht vom Typen String sein. Nutzen Sie keine Anführungszeichen für die Zuweisung von Boolean-Werten\")\n",
    "print(\"Test 1 erfolgreich\")\n"
   ]
  },
  {
   "cell_type": "markdown",
   "metadata": {
    "nbgrader": {
     "grade": false,
     "grade_id": "cell-a81dac5440e6d1b2",
     "locked": true,
     "schema_version": 1,
     "solution": false
    }
   },
   "source": [
    " ## Test 2 - Korrekte Bedingung\n",
    " Der Rückgabewert (`is_eligible`) soll *True* sein wenn der Antragsteller ein monatliches Einkommen von über 1500€ hat. Ansonsten soll der Wert *False* sein."
   ]
  },
  {
   "cell_type": "code",
   "execution_count": 0,
   "metadata": {
    "nbgrader": {
     "grade": true,
     "grade_id": "cell-27995c768474732a",
     "locked": true,
     "points": 0,
     "schema_version": 1,
     "solution": false
    }
   },
   "outputs": [],
   "source": [
    "from nose.tools import assert_equal\n",
    "\n",
    "monthly_income = 3000\n",
    "is_eligible = request_verification(monthly_income)\n",
    "\n",
    "assert_equal(is_eligible, True, \"Das Ergebnis soll True sein wenn der Antragsteller ein Einkommen von über 1500€ hat.\")\n",
    "print(\"Test 1 erfolgreich\")\n",
    "\n",
    "monthly_income = 200\n",
    "is_eligible = request_verification(monthly_income)\n",
    "\n",
    "assert_equal(is_eligible, False, \"Das Ergebnis soll False sein wenn der Antragsteller ein Einkommen von unter 1500€ hat.\")\n",
    "print(\"Test 2 erfolgreich\")\n"
   ]
  },
  {
   "cell_type": "markdown",
   "metadata": {
    "nbgrader": {
     "grade": false,
     "grade_id": "cell-da0a7c4a816f46a2",
     "locked": true,
     "schema_version": 1,
     "solution": false
    }
   },
   "source": [
    " ## Test 3 - Beachtung von Randfällen\n",
    " Der Rückgabewert (`is_eligible`) soll auch dann *False* sein wenn der Antragsteller ein monatliches Einkommen von genau 1500€ hat. Jedoch soll der Wert schon *True* sein wenn das Einkommen nur minimal über 1500€ liegt."
   ]
  },
  {
   "cell_type": "code",
   "execution_count": 0,
   "metadata": {
    "nbgrader": {
     "grade": true,
     "grade_id": "cell-c802b5010e1bb8df",
     "locked": true,
     "points": 0,
     "schema_version": 1,
     "solution": false
    }
   },
   "outputs": [],
   "source": [
    "from nose.tools import assert_equal\n",
    "\n",
    "monthly_income = 1500\n",
    "is_eligible = request_verification(monthly_income)\n",
    "\n",
    "assert_equal(is_eligible, False, \"Das Ergebnis soll auch dann False sein wenn der Antragsteller ein Einkommen von genau 1500€ hat.\")\n",
    "print(\"Test 1 erfolgreich\")\n",
    "\n",
    "monthly_income = 1500.01\n",
    "is_eligible = request_verification(monthly_income)\n",
    "\n",
    "assert_equal(is_eligible, True, \"Das Ergebnis soll auch dann True sein wenn der Antragsteller ein Einkommen von nur knapp über 1500€ hat.\")\n",
    "print(\"Test 2 erfolgreich\")\n",
    "\n",
    "\n"
   ]
  }
 ],
 "metadata": {
  "celltoolbar": "Create Assignment",
  "file_extension": ".py",
  "kernelspec": {
   "display_name": "Python 3",
   "language": "python",
   "name": "python3"
  },
  "language_info": {
   "codemirror_mode": {
    "name": "ipython",
    "version": 3
   },
   "file_extension": ".py",
   "mimetype": "text/x-python",
   "name": "python",
   "nbconvert_exporter": "python",
   "pygments_lexer": "ipython3",
   "version": "3.7.2"
  },
  "mimetype": "text/x-python",
  "name": "python",
  "npconvert_exporter": "python",
  "pygments_lexer": "ipython3",
  "version": 3
 },
 "nbformat": 4,
 "nbformat_minor": 2
}
