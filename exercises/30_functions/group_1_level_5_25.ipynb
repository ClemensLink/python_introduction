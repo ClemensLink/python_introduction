{
 "cells": [
  {
   "cell_type": "markdown",
   "metadata": {
    "nbgrader": {
     "grade": false,
     "grade_id": "cell-076562fddc784aef",
     "locked": true,
     "schema_version": 1,
     "solution": false
    }
   },
   "source": [
    "<div class=\"alert alert-block alert-warning\">\n",
    "\n",
    "# Aufgabe 5\n",
    "\n",
    "Es soll ein Programm zur automatischen Berechnung eines Kontostandes anhand von Zugängen und Abgängen auf ein Konto implementiert werden.  \n",
    "**Allerdings sollen Sie hierbei auf Schleifen verzichten. Lösen Sie diese Aufgabe durch eine rekursive Funktion.  \n",
    "Das heißt die Funktion soll sich immer wieder selbst aufrufen mit einem veränderten Parameter.**\n",
    "\n",
    "Implementieren Sie nun die Funktion `calculate_balance`. Diese Funktion erhält als Parameter eine Liste `transfers`, welche in Form von Float-Werten die Zugänge und Abgänge auf das Konto angibt (in etwa `[+500.00, -200.00, +0.70, -0.65]`).  \n",
    "Als Ergebnis soll der Kontostand in Form eines Float-Wertes zurückgegeben werden.\n",
    "</div>\n",
    "<div class=\"alert alert-block alert-info\">\n",
    "\n",
    "### Hilfe\n",
    "Sie können Ihre Lösung mit den automatisierten [Tests](#Automatische-Tests) weiter unten im Dokument überprüfen.<br>\n",
    "Eine Einführung in die `For-Schleifen` in Python finden Sie [hier](../../50_loops/for_loop.ipynb).\n",
    "</div>"
   ]
  },
  {
   "cell_type": "code",
   "execution_count": 1,
   "metadata": {
    "nbgrader": {
     "grade": false,
     "grade_id": "cell-5ae53d3aec3098e8",
     "locked": false,
     "schema_version": 1,
     "solution": true
    }
   },
   "outputs": [],
   "source": [
    "### Dies ist lediglich ein Pseudocode. Sie müssen den Code komplett umschreiben, die Logik sollte jedoch erhalten bleiben\n",
    "\n",
    "def calculate_balance(transfers):\n",
    "    if (die Liste hat nur einen Eintrag):\n",
    "        return (Eintrag aus der Liste)\n",
    "    else:\n",
    "        #"
   ]
  },
  {
   "cell_type": "markdown",
   "metadata": {
    "nbgrader": {
     "grade": false,
     "grade_id": "cell-27c15b3c16b05937",
     "locked": true,
     "schema_version": 1,
     "solution": false
    }
   },
   "source": [
    "  ***\n",
    "  # Automatische Tests\n",
    "  Ab hier finden Sie einige automatisierte Tests um Ihre Lösungen zu überprüfen. Um Ihre Lösung zu prüfen führen Sie bitte zuerst die Zelle mit Ihrer Lösung und danach die Zelle mit dem zugehörigen Test aus.\n"
   ]
  },
  {
   "cell_type": "code",
   "execution_count": 2,
   "metadata": {
    "nbgrader": {
     "grade": true,
     "grade_id": "cell-6c118496ffadc703",
     "locked": true,
     "points": 0,
     "schema_version": 1,
     "solution": false
    }
   },
   "outputs": [],
   "source": [
    "try:\n",
    "    calculate_balance([+519.55, -250.00, -19.37])\n",
    "except NotImplementedError:\n",
    "    print(\"Bitte entfernen Sie das \\\"raise NotImplementedError()\\\"\")"
   ]
  },
  {
   "cell_type": "markdown",
   "metadata": {
    "nbgrader": {
     "grade": false,
     "grade_id": "cell-e81abfdd41e8779d",
     "locked": true,
     "schema_version": 1,
     "solution": false
    }
   },
   "source": [
    "## Test 1 - Korrekte Berechnung\n",
    "Der Kontostand (`balance`) soll für jede Liste korrekt berechnet werden.  \n",
    "**Diese Testfälle können nicht überprüfen ob Sie die Aufgabe rekursiv gelöst haben. Achten Sie selbst darauf dass Sie keine Schleifen in Ihrem Programm nutzen.**"
   ]
  },
  {
   "cell_type": "code",
   "execution_count": 6,
   "metadata": {
    "nbgrader": {
     "grade": true,
     "grade_id": "cell-45e429fa047a093a",
     "locked": true,
     "points": 0,
     "schema_version": 1,
     "solution": false
    }
   },
   "outputs": [
    {
     "name": "stdout",
     "output_type": "stream",
     "text": [
      "Test 1 erfolgreich\n",
      "Test 2 erfolgreich\n",
      "Test 3 erfolgreich\n"
     ]
    }
   ],
   "source": [
    "from nose.tools import assert_equal\n",
    "\n",
    "transfers = [+519.55, -250.00, -19.37, -12.34, +234.56]\n",
    "balance = calculate_balance(transfers)\n",
    "assert_equal(balance, 472.40, \"Das Ergebnis ist falsch\")\n",
    "print(\"Test 1 erfolgreich\")\n",
    "\n",
    "transfers = [+99999999.99, -1234567.89, -9876543.22]\n",
    "balance = calculate_balance(transfers)\n",
    "assert_equal(balance, 88888888.88, \"Das Ergebnis ist falsch\")\n",
    "print(\"Test 2 erfolgreich\")\n",
    "\n",
    "transfers = [-12.34, +20.00]\n",
    "balance = calculate_balance(transfers)\n",
    "assert_equal(balance, 7.66, \"Das Ergebnis ist falsch\")\n",
    "print(\"Test 3 erfolgreich\")"
   ]
  }
 ],
 "metadata": {
  "celltoolbar": "Create Assignment",
  "file_extension": ".py",
  "kernelspec": {
   "display_name": "Python 3",
   "language": "python",
   "name": "python3"
  },
  "language_info": {
   "codemirror_mode": {
    "name": "ipython",
    "version": 3
   },
   "file_extension": ".py",
   "mimetype": "text/x-python",
   "name": "python",
   "nbconvert_exporter": "python",
   "pygments_lexer": "ipython3",
   "version": "3.7.2"
  },
  "mimetype": "text/x-python",
  "name": "python",
  "npconvert_exporter": "python",
  "pygments_lexer": "ipython3",
  "version": 3
 },
 "nbformat": 4,
 "nbformat_minor": 2
}