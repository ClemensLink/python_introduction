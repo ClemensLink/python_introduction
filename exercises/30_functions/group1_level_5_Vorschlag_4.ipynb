{
 "cells": [
  {
   "cell_type": "markdown",
   "metadata": {},
   "source": [
    "<div class=\"alert alert-block alert-warning\">\n",
    "\n",
    "# Aufgabe 5\n",
    "\n",
    "Sie arbeiten für eine Firma, welche sich auf das Herstellen und beziehen von Sitzen spezialisiert hat. \n",
    "Ein normaler Vorgang benötigt Leder, eine Naht , Arbeiter und sonstige individuelle Teile.\n",
    "Sie sind der Abteilungsleiter und müssen Ihren Gewinn für das Quartal ausrechnen. Ihr Gewinn setzt sich üblicherweise aus Umsatz und Kosten zusammen. Da Sie für jeden Kunden individuelle Sitze anfertigen, ist für jeden ein Datensatz mit den verwendeten Materialien und den individuell bezahlten Preis des Kunden von der Buchhaltung hinterlegt. Am Ende Ihrer Berechnung möchte Ihr Vorgesetzter den Umsatz, die Kosten und den Gewinn spererat ausgerechnet haben. Geben Sie dazu diesen als Return Wert zurück in der Reihenfolge Gewinn, Umsatz , Kosten.\n",
    "</div>\n",
    "<div class=\"alert alert-block alert-info\">\n",
    "\n",
    "### Hilfe\n",
    "\n",
    "1. Die Materialien sind als einzelne Kostenpunkte hinterlegt.\n",
    "2. Die Materialien sind \"Leder\", \"Naht\" , \"Arbeitsaufwand\" , \"Sonstiges\" und Preis ist \"Preis\"\n",
    "3. Die Materialien und der Preis sind als Dictionaries gespeichtert.\n",
    "4. Achten Sie auf die Reihenfolge der Reutrn Werte.\n",
    "</div>"
   ]
  },
  {
   "cell_type": "code",
   "execution_count": null,
   "metadata": {},
   "outputs": [],
   "source": [
    "def Get_Gewinn(Kunden):\n",
    "###BEGIN SOLUTION\n",
    "    Umsatz = 0\n",
    "    Kosten = 0\n",
    "    for x in Kunden:\n",
    "        Kosten += Kunden[x][\"Leder\"]\n",
    "        Kosten += Kunden[x][\"Naht\"]\n",
    "        Kosten += Kunden[x][\"Arbeitsaufwand\"]\n",
    "        Kosten += Kunden[x][\"Sonstiges\"]\n",
    "        Umsatz += Kunden[x][\"Preis\"]\n",
    "    Gewinn = Umsatz - Kosten\n",
    "    return (Gewinn,Umsatz,Kosten)\n",
    "###END SOLUTION"
   ]
  },
  {
   "cell_type": "markdown",
   "metadata": {},
   "source": [
    "# Automatische Tests\n",
    "\n",
    "Ab hier finden Sie einige automatisierte Tests um Ihre Lösungen zu überprüfen. Um Ihre Lösung zu prüfen führen Sie bitte zuerst die Zelle mit Ihrer Lösung und danach die Zelle mit dem zugehörigen Test aus.\n"
   ]
  },
  {
   "cell_type": "code",
   "execution_count": null,
   "metadata": {},
   "outputs": [],
   "source": [
    "import random\n",
    "Kunden = {}\n",
    "Kosten = 0\n",
    "Umsatz = 0\n",
    "for x in range(10):\n",
    "    Datensatz = {}\n",
    "    Leder = random.uniform(20, 600)\n",
    "    Datensatz[\"Leder\"] = Leder\n",
    "    Naht = random.uniform(2, 6)\n",
    "    Datensatz[\"Naht\"] = Naht\n",
    "    Arbeitsaufwand = random.uniform(2, 20)\n",
    "    Datensatz[\"Arbeitsaufwand\"] = Arbeitsaufwand\n",
    "    Sonstiges = random.uniform(0, 10)\n",
    "    Datensatz[\"Sonstiges\"] = Sonstiges\n",
    "    Preis = random.uniform(200, 1500)\n",
    "    Datensatz[\"Preis\"] = Preis\n",
    "    Kunden[x] = Datensatz\n",
    "    Umsatz += Preis\n",
    "    Kosten += Leder + Naht + Arbeitsaufwand + Sonstiges\n",
    "Gewinn = Umsatz - Kosten\n",
    "y = Get_Gewinn(Kunden)\n",
    "if(y[0] <= Gewinn + 0.01 and y[0] >= Gewinn - 0.01):\n",
    "    print(\"Gewinn ist richtig berechnet!\")\n",
    "else:\n",
    "    print(\"Gewinn ist nicht richtig berechnet!\")\n",
    "if(y[1] <= Umsatz + 0.01 and y[1] >= Umsatz - 0.01):\n",
    "    print(\"Umsatz ist richtig berechnet!\")\n",
    "else:\n",
    "    print(\"Umsatz ist richtig berechnet!\")\n",
    "if(y[2] <= Kosten + 0.01 and y[2] >= Kosten - 0.01):\n",
    "    print(\"Kosten ist richtig berechnet!\")\n",
    "else:\n",
    "    print(\"Kosten ist richtig berechnet!\")"
   ]
  }
 ],
 "metadata": {
  "language_info": {
   "codemirror_mode": {
    "name": "ipython",
    "version": 3
   },
   "file_extension": ".py",
   "mimetype": "text/x-python",
   "name": "python",
   "nbconvert_exporter": "python",
   "pygments_lexer": "ipython3",
   "version": "3.8.0-final"
  },
  "orig_nbformat": 2,
  "kernelspec": {
   "name": "python38064bitbaef836a98804bf8802a43249a276387",
   "display_name": "Python 3.8.0 64-bit"
  }
 },
 "nbformat": 4,
 "nbformat_minor": 2
}