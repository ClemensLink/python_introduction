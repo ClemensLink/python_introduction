{
 "cells": [
  {
   "cell_type": "markdown",
   "metadata": {
    "nbgrader": {
     "grade": false,
     "grade_id": "cell-44b81f14427f4d0b",
     "locked": true,
     "schema_version": 1,
     "solution": false
    }
   },
   "source": [
    "<div class=\"alert alert-block alert-warning\">\n",
    "\n",
    "# Aufgabe 1\n",
    "\n",
    "In einem Versicherungsunternehmen soll, im Rahmen der Gebäudeversicherungen, ein Programm zur automatischen Risikobewertung implementiert werden. Im zweiten Schritt wollen Sie überprüfen ob das Alter eines Gebäudes unter oder gleich 10 Jahren ist. Ist dies der Fall so ist die Risikoklasse in jedem Fall \"A\".  \n",
    "\n",
    "Implementieren Sie nun die Funktion `insurance_classification`. Diese Funktion erhält einen Parameter `age`, welcher in Form eines Integer-Wertes angibt wie alt das Gebäude ist (in Jahren).  \n",
    "Als Ergebnis soll jedoch die Risikoklasse in Form eines Buchstabens zurückgegeben werden. Ist das Gebäude älter als 10 Jahre, so geben Sie \"D\" zurück. Ansonsten geben Sie \"A\" zurück. Zusätzlich geben Sie bitte mittels print() in die Konsole aus ob das Gebäude als \"neuwertig\" oder \"alt\" eingestuft wurde.\n",
    "</div>\n",
    "<div class=\"alert alert-block alert-info\">\n",
    "\n",
    "### Hilfe\n",
    "Sie können Ihre Lösung mit den automatisierten [Tests](#Automatische-Tests) weiter unten im Dokument überprüfen.<br>\n",
    "Eine Einführung in die `Kontrollstrukturen`in Python finden Sie [hier](../../30_conditionals/10_conditionals.ipynb).\n",
    "</div>"
   ]
  },
  {
   "cell_type": "code",
   "execution_count": 2,
   "metadata": {
    "nbgrader": {
     "grade": false,
     "grade_id": "cell-b4793346c766032e",
     "locked": false,
     "schema_version": 1,
     "solution": true
    }
   },
   "outputs": [],
   "source": [
    "\n",
    "    \n",
    "    insurance_class = \"D\"\n",
    "    if age <= 10:\n",
    "        insurance_class = \"A\"\n",
    "        print(\"Eingestuft als neuwertig.\")\n",
    "    #Else-Fall\n",
    "    \n",
    "    "
   ]
  },
  {
   "cell_type": "markdown",
   "metadata": {
    "nbgrader": {
     "grade": false,
     "grade_id": "cell-90a6f9f5e3035b0d",
     "locked": true,
     "schema_version": 1,
     "solution": false
    }
   },
   "source": [
    "***\n",
    "# Automatische Tests\n",
    "Ab hier finden Sie einige automatisierte Tests um Ihre Lösungen zu überprüfen. Um Ihre Lösung zu prüfen führen Sie bitte zuerst die Zelle mit Ihrer Lösung und danach die Zelle mit dem zugehörigen Test aus.\n"
   ]
  },
  {
   "cell_type": "code",
   "execution_count": 1,
   "metadata": {
    "nbgrader": {
     "grade": true,
     "grade_id": "cell-e174a2b35a81205d",
     "locked": true,
     "points": 0,
     "schema_version": 1,
     "solution": false
    }
   },
   "outputs": [],
   "source": [
    "try:\n",
    "    insurance_classification(20)\n",
    "except NotImplementedError:\n",
    "    print(\"Bitte entfernen Sie das \\\"raise NotImplementedError()\\\"\")"
   ]
  },
  {
   "cell_type": "markdown",
   "metadata": {
    "nbgrader": {
     "grade": false,
     "grade_id": "cell-576ab1c7f34568cf",
     "locked": true,
     "schema_version": 1,
     "solution": false
    }
   },
   "source": [
    "## Test 1 - Korrekte Bedingung\n",
    "Die Risikoklasse (`insurance_class`) soll \"D\" sein wenn das Gebäude älter als 10 Jahre ist. Ansonsten soll sie \"A\" sein."
   ]
  },
  {
   "cell_type": "code",
   "execution_count": 2,
   "metadata": {
    "nbgrader": {
     "grade": true,
     "grade_id": "cell-67a7104f4b6c7489",
     "locked": true,
     "points": 0,
     "schema_version": 1,
     "solution": false
    }
   },
   "outputs": [
    {
     "output_type": "error",
     "ename": "ModuleNotFoundError",
     "evalue": "No module named 'nose'",
     "traceback": [
      "\u001b[1;31m---------------------------------------------------------------------------\u001b[0m",
      "\u001b[1;31mModuleNotFoundError\u001b[0m                       Traceback (most recent call last)",
      "\u001b[1;32m<ipython-input-2-ef3e768c74f5>\u001b[0m in \u001b[0;36m<module>\u001b[1;34m\u001b[0m\n\u001b[1;32m----> 1\u001b[1;33m \u001b[1;32mfrom\u001b[0m \u001b[0mnose\u001b[0m\u001b[1;33m.\u001b[0m\u001b[0mtools\u001b[0m \u001b[1;32mimport\u001b[0m \u001b[0massert_equal\u001b[0m\u001b[1;33m\u001b[0m\u001b[1;33m\u001b[0m\u001b[0m\n\u001b[0m\u001b[0;32m      2\u001b[0m \u001b[1;33m\u001b[0m\u001b[0m\n\u001b[0;32m      3\u001b[0m \u001b[0mage\u001b[0m \u001b[1;33m=\u001b[0m \u001b[1;36m20\u001b[0m\u001b[1;33m\u001b[0m\u001b[1;33m\u001b[0m\u001b[0m\n\u001b[0;32m      4\u001b[0m \u001b[0minsurance_class\u001b[0m \u001b[1;33m=\u001b[0m \u001b[0minsurance_classification\u001b[0m\u001b[1;33m(\u001b[0m\u001b[0mage\u001b[0m\u001b[1;33m)\u001b[0m\u001b[1;33m\u001b[0m\u001b[1;33m\u001b[0m\u001b[0m\n\u001b[0;32m      5\u001b[0m \u001b[1;33m\u001b[0m\u001b[0m\n",
      "\u001b[1;31mModuleNotFoundError\u001b[0m: No module named 'nose'"
     ]
    }
   ],
   "source": [
    "from nose.tools import assert_equal\n",
    "\n",
    "age = 20\n",
    "insurance_class = insurance_classification(age)\n",
    "\n",
    "assert_equal(insurance_class, \"D\", \"Das Ergebnis soll \\\"D\\\" sein wenn das Gebäude älter als 10 Jahre ist.\")\n",
    "print(\"Test 1 erfolgreich\")\n",
    "\n",
    "age = 5\n",
    "insurance_class = insurance_classification(age)\n",
    "\n",
    "assert_equal(insurance_class, \"A\", \"Das Ergebnis soll \\\"A\\\" sein wenn das Gebäude noch keine 10 Jahre alst ist.\")\n",
    "print(\"Test 2 erfolgreich\")\n"
   ]
  },
  {
   "cell_type": "markdown",
   "metadata": {
    "nbgrader": {
     "grade": false,
     "grade_id": "cell-ae5e8fa3ab47b601",
     "locked": true,
     "schema_version": 1,
     "solution": false
    }
   },
   "source": [
    "## Test 2 - Beachtung der Randfälle\n",
    "Die Risikoklasse (`insurance_class`) soll auch dann \"A\" sein wenn das Gebäude *genau* 10 Jahre alt ist. Jedoch ab 11 Jahren soll die Klasse \"D\" sein."
   ]
  },
  {
   "cell_type": "code",
   "execution_count": 7,
   "metadata": {
    "nbgrader": {
     "grade": true,
     "grade_id": "cell-95aa7cd60a07f3c3",
     "locked": true,
     "points": 0,
     "schema_version": 1,
     "solution": false
    }
   },
   "outputs": [
    {
     "name": "stdout",
     "output_type": "stream",
     "text": [
      "Eingestuft als alt.\n",
      "Test 1 erfolgreich\n",
      "Eingestuft als neuwertig.\n",
      "Test 2 erfolgreich\n"
     ]
    }
   ],
   "source": [
    "from nose.tools import assert_equal\n",
    "\n",
    "age = 11\n",
    "insurance_class = insurance_classification(age)\n",
    "\n",
    "assert_equal(insurance_class, \"D\", \"Das Ergebnis soll \\\"D\\\" sein auch wenn das Gebäude nur knapp älter als 10 Jahre ist.\")\n",
    "print(\"Test 1 erfolgreich\")\n",
    "\n",
    "age = 10\n",
    "insurance_class = insurance_classification(age)\n",
    "\n",
    "assert_equal(insurance_class, \"A\", \"Das Ergebnis soll \\\"A\\\" sein auch wenn das Gebäude genau 10 Jahre alst ist.\")\n",
    "print(\"Test 2 erfolgreich\")"
   ]
  }
 ],
 "metadata": {
  "celltoolbar": "Create Assignment",
  "file_extension": ".py",
  "kernelspec": {
   "display_name": "Python 3",
   "language": "python",
   "name": "python3"
  },
  "language_info": {
   "codemirror_mode": {
    "name": "ipython",
    "version": 3
   },
   "file_extension": ".py",
   "mimetype": "text/x-python",
   "name": "python",
   "nbconvert_exporter": "python",
   "pygments_lexer": "ipython3",
   "version": "3.8.0-final"
  },
  "mimetype": "text/x-python",
  "name": "python",
  "npconvert_exporter": "python",
  "pygments_lexer": "ipython3",
  "version": 3
 },
 "nbformat": 4,
 "nbformat_minor": 2
}
