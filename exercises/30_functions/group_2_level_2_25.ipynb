{
 "cells": [
  {
   "cell_type": "markdown",
   "metadata": {
    "nbgrader": {
     "grade": false,
     "grade_id": "cell-ac355299348f4449",
     "locked": true,
     "schema_version": 1,
     "solution": false
    }
   },
   "source": [
    "# Aufgabe 2\n",
    "\n",
    "In einem Versicherungsunternehmen soll, im Rahmen der Gebäudeversicherungen, ein Programm zur automatischen Risikobewertung implementiert werden. Im vierten Schritt soll weiter zwischen den Risikoklassen differenziert werden. Ein Gebäude soll immer dann in Risikoklasse \"D\" eingestuft werden wenn es sich um ein Mehrfamilienhaus handelt *oder* es älter als 20 Jahre ist. Andernfalls soll folgendes überprüft werden:  \n",
    "Ist das Alter eines Gebäudes unter oder gleich 10 Jahren, so gehört es in die Risikoklasse \"A\".  \n",
    "Ist ein Gebäude im Alter von 11-20 Jahren, so ist die Risikoklasse \"B\". \n",
    "\n",
    "Implementieren Sie nun die Funktion `insurance_classification`. Diese Funktion erhält einen Parameter `age`, welcher in Form eines Integer-Wertes angibt wie alt das Gebäude ist (in Jahren). Sowie den Parameter `is_apartement_building`, der in Form eines Boolean-Wertes angibt ob das Gebäude ein Mehrfamilienhaus ist (True oder False).  \n",
    "Als Ergebnis soll jedoch die Risikoklasse in Form eines Buchstabens zurückgegeben werden (\"A\",\"B\" oder \"D\"). \n",
    "\n",
    "\n",
    "### Hilfe\n",
    "Sie können Ihre Lösung mit den automatisierten [Tests](#Automatische-Tests) weiter unten im Dokument überprüfen.<br>\n",
    "Eine Einführung in die `Kontrollstrukturen`in Python finden Sie [hier](../../30_conditionals/10_conditionals.ipynb)."
   ]
  },
  {
   "cell_type": "code",
   "execution_count": 2,
   "metadata": {
    "nbgrader": {
     "grade": false,
     "grade_id": "cell-ca05203a84dbc45b",
     "locked": false,
     "schema_version": 1,
     "solution": true
    }
   },
   "outputs": [],
   "source": [
    "\n",
    "    \n",
    "    insurance_class = \"A\"\n",
    "    if #Bedingung wann Gebäude als Klasse \"D\" eingestuft werden soll:\n",
    "        insurance_class = \"D\"\n",
    "    elif # Bedingung für Klasse \"A\":\n",
    "        insurance_class = \"A\"\n",
    "    # Else-Fall\n",
    "        \n",
    "        "
   ]
  },
  {
   "cell_type": "markdown",
   "metadata": {
    "nbgrader": {
     "grade": false,
     "grade_id": "cell-a3b7964c5f6c121b",
     "locked": true,
     "schema_version": 1,
     "solution": false
    }
   },
   "source": [
    "***\n",
    "# Automatische Tests\n",
    "Ab hier finden Sie einige automatisierte Tests um Ihre Lösungen zu überprüfen. Um Ihre Lösung zu prüfen führen Sie bitte zuerst die Zelle mit Ihrer Lösung und danach die Zelle mit dem zugehörigen Test aus.\n"
   ]
  },
  {
   "cell_type": "code",
   "execution_count": 3,
   "metadata": {
    "nbgrader": {
     "grade": true,
     "grade_id": "cell-3f5d8b80f1189754",
     "locked": true,
     "points": 0,
     "schema_version": 1,
     "solution": false
    }
   },
   "outputs": [],
   "source": [
    "try:\n",
    "    insurance_classification(21, True)\n",
    "except NotImplementedError:\n",
    "    print(\"Bitte entfernen Sie das \\\"raise NotImplementedError()\\\"\")"
   ]
  },
  {
   "cell_type": "markdown",
   "metadata": {
    "nbgrader": {
     "grade": false,
     "grade_id": "cell-628ead14976c97b3",
     "locked": true,
     "schema_version": 1,
     "solution": false
    }
   },
   "source": [
    "## Test 1 - Korrekte Bedingungen\n",
    "Die Risikoklasse (`insurance_class`) soll \"D\" sein, wenn es sich bei dem Gebäude um ein Mehrfamilienhaus handelt *oder* das Gebäude älter als 20 Jahre ist.  \n",
    "Ist dies nicht der Fall so soll die Risikoklasse \"B\" oder \"A\" sein, je nachdem ob das Gebäude jünger als 10 Jahre ist (A) oder zwischen 11 und 20 Jahren (B)."
   ]
  },
  {
   "cell_type": "code",
   "execution_count": 7,
   "metadata": {
    "nbgrader": {
     "grade": true,
     "grade_id": "cell-21d61db97fac3cca",
     "locked": true,
     "points": 0,
     "schema_version": 1,
     "solution": false
    }
   },
   "outputs": [
    {
     "name": "stdout",
     "output_type": "stream",
     "text": [
      "Test 1 erfolgreich\n",
      "Test 2 erfolgreich\n",
      "Test 3 erfolgreich\n",
      "Test 4 erfolgreich\n",
      "Test 5 erfolgreich\n"
     ]
    }
   ],
   "source": [
    "from nose.tools import assert_equal\n",
    "\n",
    "age = 5\n",
    "is_apartement_building = True\n",
    "insurance_class = insurance_classification(age, is_apartement_building)\n",
    "\n",
    "assert_equal(insurance_class, \"D\", \"Das Ergebnis soll \\\"D\\\" sein wenn das Gebäude ein Mehrfamilienhaus ist.\")\n",
    "print(\"Test 1 erfolgreich\")\n",
    "\n",
    "age = 25\n",
    "is_apartement_building = False\n",
    "insurance_class = insurance_classification(age, is_apartement_building)\n",
    "\n",
    "assert_equal(insurance_class, \"D\", \"Das Ergebnis soll \\\"D\\\" sein wenn das Gebäude älter als 20 Jahre ist.\")\n",
    "print(\"Test 2 erfolgreich\")\n",
    "\n",
    "age = 15\n",
    "is_apartement_building = False\n",
    "insurance_class = insurance_classification(age, is_apartement_building)\n",
    "\n",
    "assert_equal(insurance_class, \"B\", \"Das Ergebnis soll \\\"B\\\" sein wenn das Gebäude kein Mehrfamilienhaus ist und zwischen 11 und 20 Jahren alt.\")\n",
    "print(\"Test 3 erfolgreich\")\n",
    "\n",
    "age = 5\n",
    "is_apartement_building = False\n",
    "insurance_class = insurance_classification(age, is_apartement_building)\n",
    "\n",
    "assert_equal(insurance_class, \"A\", \"Das Ergebnis soll \\\"A\\\" sein wenn das Gebäude kein Mehrfamilienhaus ist und noch nicht älter als 10 Jahre.\")\n",
    "print(\"Test 4 erfolgreich\")\n",
    "\n",
    "age = 25\n",
    "is_apartement_building = True\n",
    "insurance_class = insurance_classification(age, is_apartement_building)\n",
    "\n",
    "assert_equal(insurance_class, \"D\", \"Das Ergebnis soll \\\"D\\\" sein wenn das Gebäude sowohl ein Mehrfamilienhaus, als auch älter als 20 ist.\")\n",
    "print(\"Test 5 erfolgreich\")\n"
   ]
  },
  {
   "cell_type": "markdown",
   "metadata": {
    "nbgrader": {
     "grade": false,
     "grade_id": "cell-e990e5b8145b6e62",
     "locked": true,
     "schema_version": 1,
     "solution": false
    }
   },
   "source": [
    "## Test 2 - Beachtung der Randfälle\n",
    "Die Risikoklasse (`insurance_class`) soll auch dann \"A\" sein wenn das Gebäude kein Mehrfamilienhaus ist und *genau* 10 Jahre alt ist. Ebenso gehört ein *genau* 20 Jahre altes Gebäude noch zur Risikoklasse \"B\"."
   ]
  },
  {
   "cell_type": "code",
   "execution_count": 9,
   "metadata": {
    "nbgrader": {
     "grade": true,
     "grade_id": "cell-544bf9ec81461f19",
     "locked": true,
     "points": 0,
     "schema_version": 1,
     "solution": false
    }
   },
   "outputs": [
    {
     "name": "stdout",
     "output_type": "stream",
     "text": [
      "Test 1 erfolgreich\n",
      "Test 2 erfolgreich\n"
     ]
    }
   ],
   "source": [
    "from nose.tools import assert_equal\n",
    "\n",
    "age = 10\n",
    "is_apartement_building = False\n",
    "insurance_class = insurance_classification(age, is_apartement_building)\n",
    "\n",
    "assert_equal(insurance_class, \"A\", \"Das Ergebnis soll \\\"A\\\" sein auch wenn das Gebäude genau 10 Jahre alt ist.\")\n",
    "print(\"Test 1 erfolgreich\")\n",
    "\n",
    "age = 20\n",
    "is_apartement_building = False\n",
    "insurance_class = insurance_classification(age, is_apartement_building)\n",
    "\n",
    "assert_equal(insurance_class, \"B\", \"Das Ergebnis soll \\\"B\\\" sein auch wenn das Gebäude genau 20 Jahre alt ist.\")\n",
    "print(\"Test 2 erfolgreich\")"
   ]
  }
 ],
 "metadata": {
  "celltoolbar": "Create Assignment",
  "file_extension": ".py",
  "kernelspec": {
   "display_name": "Python 3",
   "language": "python",
   "name": "python3"
  },
  "language_info": {
   "codemirror_mode": {
    "name": "ipython",
    "version": 3
   },
   "file_extension": ".py",
   "mimetype": "text/x-python",
   "name": "python",
   "nbconvert_exporter": "python",
   "pygments_lexer": "ipython3",
   "version": "3.7.2"
  },
  "mimetype": "text/x-python",
  "name": "python",
  "npconvert_exporter": "python",
  "pygments_lexer": "ipython3",
  "version": 3
 },
 "nbformat": 4,
 "nbformat_minor": 2
}
