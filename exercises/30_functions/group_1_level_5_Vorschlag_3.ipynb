{
 "cells": [
  {
   "cell_type": "markdown",
   "metadata": {},
   "source": [
    "<div class=\"alert alert-block alert-warning\">\n",
    "\n",
    "# Aufgabe 5\n",
    "\n",
    "Sie arbeiten bei einem Unternehmen, dass Bilanzen prüft. Ihre Aufgabe ist es, alle Buchungen des Bank-Kontos mit den Belegen abzugleichen. Hierzu erhalten Sie die vorgenommen Buchungen und alle Belege. Hier sollen Sie nun alle Buchungen durchgehen und den dazu passenden Beleg raussuchen. Zur \n",
    "\n",
    "</div>  \n",
    "<div class=\"alert alert-block alert-info\">\n",
    "\n",
    "### Hilfe\n",
    "\n",
    "1.Nutzen Sie die Funktion .append(0) , .append(1) und .append(2) um einem array einen resultatswert hinzuzufügen. 0 steht hierbei für Beleg nicht gefunden, 1 für Beleg gefunden mit unterschiedlichem Betrag und 2 für Beleg mit richtigem Betrag gefunden.<br>\n",
    "2.Um einen array zu definieren nutzen Sie Index_List = []<br>\n",
    "3.Buchungen und Belege sind Dictionaries. Sie beinhalten nur string Werte.<br>\n",
    "\n",
    "</div>"
   ]
  },
  {
   "cell_type": "code",
   "execution_count": null,
   "metadata": {},
   "outputs": [],
   "source": [
    "def Check_Bank(Buchungen,Belege):\n",
    "###BEGIN SOLUTION\n",
    "    Index_List = []\n",
    "    for Buch_Schluessel in Buchungen:\n",
    "        Item_found = False\n",
    "        Money = False\n",
    "        for Beleg_Schluessel in Belege: \n",
    "            if(Buch_Schluessel == Beleg_Schluessel):\n",
    "                Item_found = True\n",
    "                if(Buchungen[Buch_Schluessel] == Belege[Beleg_Schluessel]):\n",
    "                    Money = True\n",
    "                break\n",
    "        if(Item_found == False):\n",
    "            print(\"Beleg NR: \", Beleg_Schluessel , \" nicht gefunden.\")\n",
    "            Index_List.append(0)\n",
    "        else:\n",
    "            if(Money == False):\n",
    "                print(\"Beleg NR: \" , Beleg_Schluessel , \" mit falschem Betrag gefunden.\")\n",
    "                Index_List.append(1)\n",
    "            else:\n",
    "                print(\"Beleg NR: \" , Beleg_Schluessel , \" korrekt verbucht.\")\n",
    "                Index_List.append(2)\n",
    "    return Index_List\n",
    "###END SOLUTION"
   ]
  },
  {
   "cell_type": "markdown",
   "metadata": {},
   "source": [
    "***\n",
    "  # Automatische Tests\n",
    "  Ab hier finden Sie einige automatisierte Tests um Ihre Lösungen zu überprüfen. Um Ihre Lösung zu prüfen führen Sie bitte zuerst die Zelle mit Ihrer Lösung und danach die Zelle mit dem zugehörigen Test aus."
   ]
  },
  {
   "cell_type": "code",
   "execution_count": null,
   "metadata": {},
   "outputs": [],
   "source": [
    "Buchungen = {\"75896\" : \"150,73\" , \"56665\" : \"890,14\" , \"78921\" : \"403,25\"}\n",
    "Belege = {\"75896\" : \"200,00\" , \"56645\" : \"890,14\" , \"78921\" : \"403,25\"}\n",
    "x = Check_Bank(Buchungen,Belege)\n",
    "if(x[0] != 1):\n",
    "    print(\"Fehler , Falscher Code : \" , x[0] , \". Richtiger Code wäre 1 .\")\n",
    "if(x[1] != 0):\n",
    "    print(\"Fehler , Falscher Code : \" , x[1] , \". Richtiger Code wäre 0\")\n",
    "if(x[2] != 2):\n",
    "    print(\"Fehler , Falscher Code : \" , x[2] , \". Richtiger Code wäre 2\")"
   ]
  }
 ],
 "metadata": {
  "language_info": {
   "codemirror_mode": {
    "name": "ipython",
    "version": 3
   },
   "file_extension": ".py",
   "mimetype": "text/x-python",
   "name": "python",
   "nbconvert_exporter": "python",
   "pygments_lexer": "ipython3",
   "version": "3.8.0-final"
  },
  "orig_nbformat": 2,
  "kernelspec": {
   "name": "python38064bitbaef836a98804bf8802a43249a276387",
   "display_name": "Python 3.8.0 64-bit"
  }
 },
 "nbformat": 4,
 "nbformat_minor": 2
}