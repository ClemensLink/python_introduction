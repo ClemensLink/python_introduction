{
 "cells": [
  {
   "cell_type": "markdown",
   "metadata": {},
   "source": [
    "<div class=\"alert alert-block alert-warning\">\n",
    "\n",
    "# Aufgabe 5\n",
    "\n",
    "Sie arbeiten in einem großen Speditions Unternehmen und wurden beauftragt ein Programm für den Zu und Abgang von den Waren `Schrauben` , `Dübel` und `Hammer` zu erarbeiten. Hierbei soll Schrauben mit `S`, Dübel mit `D` und Hammer mit `H` abgekürzt werden. Ein Zugang wird mit dem Buchstaben `P` abgekürtzt und ein Abgang mit dem Buchstaben `M`. Diese werden hier als Change bezeichnet. Wenn sie ein Warenteil bekommen, welches nicht mit den oben gennanten Abkürzungen übereinstimmt, geben Sie eine Meldung aus und beenden den Einlagerungsprozess mit dem Fehlercode `F98Lo2`. Wenn alles richtig ist, soll die Ware zum Lagerbestand subbtrahiert bzw. addiert werden. Sollte der Lagerbestand negativ werden, so nehmen Sie keine Bestandsveränderung vor und geben den Fehlercode `F76nI1` zurück. Wenn alles richtig gelaufen ist , geben Sie den Code `R34Tu` zurück. \n",
    "</div>  \n",
    "<div class=\"alert alert-block alert-info\">\n",
    "\n",
    "### Hilfe\n",
    "\n",
    "Lagerbestand an der Stelle `S` = Schrauben usw.\n",
    "\n",
    "</div>"
   ]
  },
  {
   "cell_type": "code",
   "execution_count": 2,
   "metadata": {},
   "outputs": [],
   "source": [
    "def Update_Storage(Change,Ware,Menge,Lagerbestand):\n",
    "###BEGIN SOLUTION\n",
    "    if(Ware != \"S\" and Ware !=\"D\" and Ware !=\"H\"):\n",
    "        print(\"Falsche Abteilung\")\n",
    "        return \"F98Lo2\"\n",
    "    if(Change == \"P\"):\n",
    "        Lagerbestand[Ware] = Lagerbestand[Ware] + Menge\n",
    "        return \"R34TU\"\n",
    "    else:\n",
    "        if(Lagerbestand[Ware] - Menge < 0):\n",
    "            return \"F76nI1\"\n",
    "        else:\n",
    "            Lagerbestand[Ware] = Lagerbestand[Ware] - Menge\n",
    "            return \"R34TU\"\n",
    "    \n",
    "###END SOLUTION"
   ]
  },
  {
   "cell_type": "markdown",
   "metadata": {},
   "source": [
    " ***\n",
    "  # Automatische Tests\n",
    "  Ab hier finden Sie einige automatisierte Tests um Ihre Lösungen zu überprüfen. Um Ihre Lösung zu prüfen führen Sie bitte zuerst die Zelle mit Ihrer Lösung und danach die Zelle mit dem zugehörigen Test aus."
   ]
  },
  {
   "cell_type": "code",
   "execution_count": 4,
   "metadata": {},
   "outputs": [],
   "source": [
    "Lager ={\"S\":1000,\"D\":0,\"H\":150}\n",
    "\n",
    "if(Update_Storage(\"P\",\"D\",100,Lager) != \"R34TU\"):\n",
    "    print(\"Fehler! Es sollte eingelagert werden, mit Code R34TU.\")\n",
    "if(Update_Storage(\"M\",\"D\",200,Lager) != \"F76nI1\"):\n",
    "    print(\"Fehler! Es sollte ein zu großer Betrag ausgelagert werden mit Code F76nI1\")\n",
    "if(Update_Storage(\"M\",\"D\",100,Lager) != \"R34TU\"):\n",
    "    print(\"Fehler! Es sollte ein Betrag ausgelagert werden mit Code R34TU\")\n",
    "if(Lager[\"S\"] != 1000 or Lager[\"D\"] != 0 or Lager[\"H\"] != 150):\n",
    "    print(\"Fehler! Es wurde eine falsche Berechnung der Lagerbestände durchgeführt.\")"
   ]
  }
 ],
 "metadata": {
  "language_info": {
   "codemirror_mode": {
    "name": "ipython",
    "version": 3
   },
   "file_extension": ".py",
   "mimetype": "text/x-python",
   "name": "python",
   "nbconvert_exporter": "python",
   "pygments_lexer": "ipython3",
   "version": "3.8.0-final"
  },
  "orig_nbformat": 2,
  "kernelspec": {
   "name": "python38064bitbaef836a98804bf8802a43249a276387",
   "display_name": "Python 3.8.0 64-bit"
  }
 },
 "nbformat": 4,
 "nbformat_minor": 2
}