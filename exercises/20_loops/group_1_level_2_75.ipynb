{
 "cells": [
  {
   "cell_type": "markdown",
   "metadata": {
    "nbgrader": {
     "grade": false,
     "grade_id": "cell-3b8cdecf8a1eef88",
     "locked": true,
     "schema_version": 1,
     "solution": false
    }
   },
   "source": [
    "Aufgabe 2 - Lagerbestandsberechnung\n",
    "------------\n",
    "Gegeben sind die Absatzprognosen sowie Produktionsmengen eines Produktes für die nächsten 12 Monate in gleichnamigen Listen.\n",
    "Erstellen Sie eine neue Liste, in der Sie die Lagerbestände für die jeweiligen Monate speichern.  \n",
    "Beachten Sie die Lagerbestände aus dem jeweils vorhergehenden Monat in den nächsten Monat zu übernehmen."
   ]
  },
  {
   "cell_type": "code",
   "execution_count": 1,
   "metadata": {
    "nbgrader": {
     "grade": false,
     "grade_id": "cell-073db0e144d454aa",
     "locked": false,
     "schema_version": 1,
     "solution": true
    }
   },
   "outputs": [],
   "source": [
    "def create_stock_forecast(sales_plan, production_plan):\n",
    "    \n",
    "    stock_forecast = []\n",
    "    previous_stock = 0\n",
    "    for month in range(len(sales_plan)):\n",
    "        # Berechnung des Lagerbestands für den aktuellen Monat\n",
    "        previous_stock = stock_forecast[month]\n",
    "        \n",
    "    return stock_forecast\n",
    "\n",
    "print(\"Bei \\\"sales_plan = [20, 30, 40]\\\" und \\\"production_plan = [50, 60, 65]\\\" liefert Ihre Funktion:\", create_stock_forecast([20, 30, 40], [50, 60, 65]))"
   ]
  },
  {
   "cell_type": "markdown",
   "metadata": {
    "nbgrader": {
     "grade": false,
     "grade_id": "cell-4c873c12ede654fe",
     "locked": true,
     "schema_version": 1,
     "solution": false
    }
   },
   "source": [
    "   ***\n",
    "# Automatische Tests\n",
    "Ab hier finden Sie einige automatisierte Tests um Ihre Lösungen zu überprüfen. Um Ihre Lösung zu prüfen führen Sie bitte zuerst die Zelle mit Ihrer Lösung und danach die Zelle mit dem zugehörigen Test aus.\n"
   ]
  },
  {
   "cell_type": "code",
   "execution_count": 4,
   "metadata": {
    "nbgrader": {
     "grade": true,
     "grade_id": "cell-264810029e59bd40",
     "locked": true,
     "points": 0,
     "schema_version": 1,
     "solution": false
    }
   },
   "outputs": [],
   "source": [
    "try:\n",
    "    create_stock_forecast([0, 0, 0, 0], [0, 0, 0, 0])\n",
    "except NotImplementedError:\n",
    "    print(\"Bitte entfernen Sie das \\\"raise NotImplementedError()\\\"\")"
   ]
  },
  {
   "cell_type": "markdown",
   "metadata": {
    "nbgrader": {
     "grade": false,
     "grade_id": "cell-e284171606fc1c4a",
     "locked": true,
     "schema_version": 1,
     "solution": false
    }
   },
   "source": [
    "## Test 1 - Länge der Ergebnisliste\n",
    "Das von der Funktion `create_stock_forecast` zurückgegebene Ergebnis  `stock_forecast` ist eine Liste.\n",
    "Diese Liste muss genau so viele Einträge enthalten wie\n",
    "die übergebenen Listen `sales_plan` und `production_plan`. In diesem Test hat die übergebene Liste die Länge 12."
   ]
  },
  {
   "cell_type": "code",
   "execution_count": 5,
   "metadata": {
    "nbgrader": {
     "grade": true,
     "grade_id": "cell-b1d2a40bbb45242f",
     "locked": true,
     "points": 1,
     "schema_version": 1,
     "solution": false
    }
   },
   "outputs": [
    {
     "name": "stdout",
     "output_type": "stream",
     "text": [
      "Test 1 erfolgreich\n"
     ]
    }
   ],
   "source": [
    "from nose.tools import assert_equal, assert_is_instance\n",
    "\n",
    "sales_plan = [0, 0, 0, 0, 0, 0, 0, 0, 0, 0, 0, 0]\n",
    "production_plan = [0, 0, 0, 0, 0, 0, 0, 0, 0, 0, 0, 0]\n",
    "stock_forecast = create_stock_forecast(sales_plan, production_plan)\n",
    "try:\n",
    "    assert_is_instance(stock_forecast, list)\n",
    "    assert_equal(len(stock_forecast), 12)\n",
    "    print(\"Test 1 erfolgreich\")\n",
    "except AssertionError as e:\n",
    "    print(\"Die Lagerbestände sollen als Liste ausgegeben werden.\\nDie zurückgegebene Liste muss 12 Einträge enthalten.\")\n",
    "    print(e)"
   ]
  },
  {
   "cell_type": "markdown",
   "metadata": {
    "nbgrader": {
     "grade": false,
     "grade_id": "cell-27cce21b3ffff279",
     "locked": true,
     "schema_version": 1,
     "solution": false
    }
   },
   "source": [
    "## Test 2 - Korrekte Berechnung der Lagerbestände\n",
    "Die von der Funktion `create_stock_forecast` zurückgegebene Liste `stock_forecast` muss die korrekten Lagerbestände in\n",
    "Abhängigkeit von den übergebenen Absatzmengen und Produktionsmengen enthalten."
   ]
  },
  {
   "cell_type": "code",
   "execution_count": 22,
   "metadata": {
    "nbgrader": {
     "grade": true,
     "grade_id": "cell-504e093f2573e140",
     "locked": true,
     "points": 0,
     "schema_version": 1,
     "solution": false
    }
   },
   "outputs": [
    {
     "name": "stdout",
     "output_type": "stream",
     "text": [
      "Test 2 erfolgreich\n"
     ]
    }
   ],
   "source": [
    "from nose.tools import assert_equal, assert_is_instance\n",
    "\n",
    "sales_plan = [570, 500, 520, 500, 600, 550, 530, 520, 530, 590, 600, 590]\n",
    "production_plan = [600, 520, 520, 520, 650, 650, 500, 530, 500, 600, 620, 610]\n",
    "try:\n",
    "    expected_stock_forecast = [30, 50, 50, 70, 120, 220, 190, 200, 170, 180, 200, 220]\n",
    "    assert_equal(create_stock_forecast(sales_plan, production_plan), expected_stock_forecast)\n",
    "    print(\"Test 2 erfolgreich\")\n",
    "except AssertionError as e:\n",
    "print(\"Die berechneten Lagerbestände sind nicht korrekt.\")\n",
    "print(e)"
   ]
  }
 ],
 "metadata": {
  "celltoolbar": "Create Assignment",
  "kernelspec": {
   "display_name": "Python 3",
   "language": "python",
   "name": "python3"
  },
  "language_info": {
   "codemirror_mode": {
    "name": "ipython",
    "version": 3
   },
   "file_extension": ".py",
   "mimetype": "text/x-python",
   "name": "python",
   "nbconvert_exporter": "python",
   "pygments_lexer": "ipython3",
   "version": "3.7.2"
  }
 },
 "nbformat": 4,
 "nbformat_minor": 2
}
