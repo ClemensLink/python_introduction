{
 "cells": [
  {
   "cell_type": "markdown",
   "metadata": {
    "nbgrader": {
     "grade": false,
     "grade_id": "cell-7590e37bc8fb12f6",
     "locked": true,
     "schema_version": 1,
     "solution": false
    }
   },
   "source": [
    "   # Aufgabe 1 - Produktionsplanung\n",
    "   Im Rahmen der operativen Planung in einem Fertigungsunternehmen sollen auf der Basis eines gegebenen\n",
    "   Absatzplans eine Produktionsplanung für die nächsten 12 Monate erstellt werden. Zur Berechnung der\n",
    "   Produktionsplanung wird folgende Formel verwendet\n",
    "\n",
    "   $ P_t = A_t * 1,1 $\n",
    "\n",
    "   In dieser Formel steht $P_t$ für die Produktionsmenge in einem Monat $t$ und $A_t$ für die geplante Absatzmenge in einem\n",
    "   Monat $t$.\n",
    "   Implementieren Sie nun die Funktion `create_production_plan`. Die Funktion erhält als Parameter\n",
    "   `sales_plan` eine Liste von geplanten Absatzmengen der nächsten 12 Monate. Als Ergebnis soll eine neue Liste\n",
    "   `production_plan` erstellt werden, die die Propduktonsmenge der nächsten 12 Monate enthällt.\n",
    "\n",
    "  ## Hilfe\n",
    "   Sie können Ihre Lösung mit den automatisierten [Tests](#Automatische-Test) weiter unten im Dokument überprüfen.<br>\n",
    "   Eine Einführung in die `for`-Schleife in Python finden Sie [hier](../for_loop.ipynb)."
   ]
  },
  {
   "cell_type": "code",
   "execution_count": 18,
   "metadata": {
    "nbgrader": {
     "grade": false,
     "grade_id": "cell-319c848acf6498ba",
     "locked": false,
     "schema_version": 1,
     "solution": true
    }
   },
   "outputs": [
    {
     "name": "stdout",
     "output_type": "stream",
     "text": [
      "Bei \"sales_plan = [20, 30, 40]\" liefert Ihre Funktion: [22.0, 33.0, 44.0]\n"
     ]
    }
   ],
   "source": [
    "def create_production_plan(sales_plan):\n",
    "    \n",
    "    ###BEGIN SOLUTION\n",
    "    production_plan = []\n",
    "    for sales_quantity in sales_plan:\n",
    "        production_plan.append(sales_quantity * 1.10)\n",
    "    ###END SOLUTION\n",
    "    return production_plan \n",
    "\n",
    "print(\"Bei \\\"sales_plan = [20, 30, 40]\\\" liefert Ihre Funktion:\", create_production_plan([20, 30, 40]))"
   ]
  },
  {
   "cell_type": "markdown",
   "metadata": {
    "nbgrader": {
     "grade": false,
     "grade_id": "cell-b1274ac8e6a45913",
     "locked": true,
     "schema_version": 1,
     "solution": false
    }
   },
   "source": [
    "\n",
    "---\n",
    "# Automatische Tests\n",
    "Ab hier finden Sie einige automatisierte Tests um Ihre Lösungen zu überprüfen. Um Ihre Lösung zu prüfen führen Sie bitte zuerst die Zelle mit Ihrer Lösung und danach die Zelle mit dem zugehörigen Test aus.\n"
   ]
  },
  {
   "cell_type": "code",
   "execution_count": 9,
   "metadata": {
    "nbgrader": {
     "grade": true,
     "grade_id": "cell-04328beebda841a6",
     "locked": true,
     "points": 0,
     "schema_version": 1,
     "solution": false
    }
   },
   "outputs": [],
   "source": [
    "try:\n",
    "    create_production_plan([0, 0, 0, 0])\n",
    "except NotImplementedError:\n",
    "    print(\"Bitte entfernen Sie das \\\"raise NotImplementedError()\\\"\")"
   ]
  },
  {
   "cell_type": "markdown",
   "metadata": {
    "nbgrader": {
     "grade": false,
     "grade_id": "cell-260da9237e7376b2",
     "locked": true,
     "schema_version": 1,
     "solution": false
    }
   },
   "source": [
    "   ## Test 1 - Länge der Ergebnisliste\n",
    "   Das von der Funktion `create_production_plan` zurückgegebne Ergebnis  `production_plan` ist eine Liste.\n",
    "   Diese Liste muss genau so viele Einträge enthalten wie\n",
    "   die übergebene List `sales_plan`. In diesem Test hat die übergebene Liste die Länge 12."
   ]
  },
  {
   "cell_type": "code",
   "execution_count": 11,
   "metadata": {
    "nbgrader": {
     "grade": false,
     "grade_id": "cell-2c6ef8a0c2eb5395",
     "locked": false,
     "schema_version": 1,
     "solution": true
    }
   },
   "outputs": [
    {
     "name": "stdout",
     "output_type": "stream",
     "text": [
      "Test 1 erfolgreich\n"
     ]
    }
   ],
   "source": [
    "from nose.tools import assert_equal, assert_is_instance\n",
    "\n",
    "sales_plan = (0, 0, 0, 0, 0, 0, 0, 0, 0, 0, 0, 0)\n",
    "production_plan = create_production_plan(sales_plan)\n",
    "try:\n",
    "    assert_is_instance(production_plan, list)\n",
    "    assert_equal(len(production_plan), 12)\n",
    "    print(\"Test 1 erfolgreich\")\n",
    "except AssertionError as e:\n",
    "    print(\"Der Produktionsplan soll als Liste ausgegeben werden.\\nDie zurückgegebene Liste muss 12 Einträge enthalten.\")\n",
    "    print(e)\n",
    "\n",
    "\n",
    "   \n",
    "except AssertionError as e:\n",
    "    print()\n",
    "    print(e)"
   ]
  },
  {
   "cell_type": "markdown",
   "metadata": {
    "nbgrader": {
     "grade": false,
     "grade_id": "cell-547054669a381ff6",
     "locked": true,
     "schema_version": 1,
     "solution": false
    }
   },
   "source": [
    "   ## Test 2 - Korrekte Berechnung der Produktionsmenge\n",
    "   Die von der Funktion `create_production_plan` zurückgegebne Liste `production_plan` muss die korrekten Produktionsmengen in\n",
    "   Abhängigkeit von den übergebenen Absatzmengen enthalten."
   ]
  },
  {
   "cell_type": "code",
   "execution_count": 12,
   "metadata": {
    "nbgrader": {
     "grade": false,
     "grade_id": "cell-584f358963cdf4b6",
     "locked": false,
     "schema_version": 1,
     "solution": true
    }
   },
   "outputs": [
    {
     "name": "stdout",
     "output_type": "stream",
     "text": [
      "Test 2 erfolgreich\n"
     ]
    }
   ],
   "source": [
    "from nose.tools import assert_equal, assert_is_instance\n",
    "\n",
    "sales_plan = [570, 500, 520, 500, 600, 550, 530, 520, 530, 590, 600, 590]\n",
    "try:\n",
    "    expected_production_plan = [627, 550, 572, 550, 660, 605, 583, 572, 583, 649, 660, 649]\n",
    "    assert_equal(create_production_plan(sales_plan), expected_production_plan)\n",
    "    print(\"Test 2 erfolgreich\")\n",
    "except AssertionError as e:\n",
    "    print(\"Die berechneten Produktionsmengen sind nicht korrekt.\")\n",
    "    print(e)"
   ]
  }
 ],
 "metadata": {
  "celltoolbar": "Create Assignment",
  "file_extension": ".py",
  "kernelspec": {
   "display_name": "Python 3",
   "language": "python",
   "name": "python3"
  },
  "language_info": {
   "codemirror_mode": {
    "name": "ipython",
    "version": 3
   },
   "file_extension": ".py",
   "mimetype": "text/x-python",
   "name": "python",
   "nbconvert_exporter": "python",
   "pygments_lexer": "ipython3",
   "version": "3.7.2"
  },
  "mimetype": "text/x-python",
  "name": "python",
  "npconvert_exporter": "python",
  "pygments_lexer": "ipython3",
  "version": 3
 },
 "nbformat": 4,
 "nbformat_minor": 2
}
