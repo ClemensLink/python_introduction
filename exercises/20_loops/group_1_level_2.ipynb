{
 "cells": [
  {
   "cell_type": "markdown",
   "metadata": {},
   "source": [
    "<nav>\n",
    "    <a href=\"for_loop_exercises.ipynb\">&#9664; Übungsaufgaben zu Schleifen</a> |\n",
    "    <a href=\"group_1_level_2_75.ipynb\">Viel Unterstützung &#9685;</a> |\n",
    "    <a href=\"group_1_level_2_25.ipynb\">Wenig Unterstützung &#9684;</a> |\n",
    "</nav>"
   ]
  },
  {
   "cell_type": "markdown",
   "metadata": {
    "nbgrader": {
     "grade": false,
     "grade_id": "cell-3b8cdecf8a1eef88",
     "locked": true,
     "schema_version": 1,
     "solution": false
    }
   },
   "source": [
    "<div class=\"alert alert-warning\"><strong>Aufgabe 2 - Lagerbestandsberechnung</strong>\n",
    "\n",
    "Gegeben sind die Absatzprognosen `sales_plan` sowie Produktionsmengen eines Produktes `production_plan` für die nächsten 12 Monate in gleichnamigen Listen.\n",
    "Erstellen Sie eine neue Liste, in der Sie die Lagerbestände für die jeweiligen Monate speichern.  \n",
    "Beachten Sie die Lagerbestände aus dem jeweils vorhergehenden Monat in den nächsten Monat zu übernehmen.\n",
    "</dev>"
   ]
  },
  {
   "cell_type": "code",
   "execution_count": 7,
   "metadata": {
    "nbgrader": {
     "grade": false,
     "grade_id": "cell-073db0e144d454aa",
     "locked": false,
     "schema_version": 1,
     "solution": true
    }
   },
   "outputs": [
    {
     "name": "stdout",
     "output_type": "stream",
     "text": [
      "Bei \"sales_plan = [20, 30, 40]\" und \"production_plan = [50, 60, 65]\" liefert Ihre Funktion: [30, 60]\n"
     ]
    }
   ],
   "source": [
    "def create_stock_forecast(sales_plan, production_plan):\n",
    "    \n",
    "    ###BEGIN SOLUTION\n",
    "    stock_forecast = []\n",
    "    previous_stock = 0\n",
    "    for month in range(len(sales_plan)-1):\n",
    "        stock_forecast.append(production_plan[month] - sales_plan[month] + previous_stock)\n",
    "        previous_stock = stock_forecast[month]\n",
    "    ###END SOLUTION\n",
    "    return stock_forecast\n",
    "\n",
    "print(\"Bei \\\"sales_plan = [20, 30, 40]\\\" und \\\"production_plan = [50, 60, 65]\\\" liefert Ihre Funktion:\", create_stock_forecast([20, 30, 40], [50, 60, 65]))"
   ]
  },
  {
   "cell_type": "markdown",
   "metadata": {
    "nbgrader": {
     "grade": false,
     "grade_id": "cell-4c873c12ede654fe",
     "locked": true,
     "schema_version": 1,
     "solution": false
    }
   },
   "source": [
    "   ***\n",
    "# Automatische Tests\n",
    "Ab hier finden Sie einige automatisierte Tests um Ihre Lösungen zu überprüfen. Um Ihre Lösung zu prüfen führen Sie bitte zuerst die Zelle mit Ihrer Lösung und danach die Zelle mit dem zugehörigen Test aus.\n"
   ]
  },
  {
   "cell_type": "code",
   "execution_count": 8,
   "metadata": {
    "nbgrader": {
     "grade": true,
     "grade_id": "cell-264810029e59bd40",
     "locked": true,
     "points": 0,
     "schema_version": 1,
     "solution": false
    }
   },
   "outputs": [],
   "source": [
    "try:\n",
    "    create_stock_forecast([0, 0, 0, 0], [0, 0, 0, 0])\n",
    "except NotImplementedError:\n",
    "    print(\"Bitte entfernen Sie das \\\"raise NotImplementedError()\\\"\")"
   ]
  },
  {
   "cell_type": "markdown",
   "metadata": {
    "nbgrader": {
     "grade": false,
     "grade_id": "cell-e284171606fc1c4a",
     "locked": true,
     "schema_version": 1,
     "solution": false
    }
   },
   "source": [
    "## Test 1 - Länge der Ergebnisliste\n",
    "Das von der Funktion `create_stock_forecast` zurückgegebene Ergebnis  `stock_forecast` ist eine Liste.\n",
    "Diese Liste muss genau so viele Einträge enthalten wie\n",
    "die übergebenen Listen `sales_plan` und `production_plan`. In diesem Test hat die übergebene Liste die Länge 12."
   ]
  },
  {
   "cell_type": "markdown",
   "metadata": {
    "nbgrader": {
     "grade": false,
     "grade_id": "cell-27cce21b3ffff279",
     "locked": true,
     "schema_version": 1,
     "solution": false
    }
   },
   "source": [
    "## Test 2 - Korrekte Berechnung der Lagerbestände\n",
    "Die von der Funktion `create_stock_forecast` zurückgegebene Liste `stock_forecast` muss die korrekten Lagerbestände in\n",
    "Abhängigkeit von den übergebenen Absatzmengen und Produktionsmengen enthalten."
   ]
  },
  {
   "cell_type": "code",
   "execution_count": 10,
   "metadata": {},
   "outputs": [
    {
     "name": "stderr",
     "output_type": "stream",
     "text": [
      "test_correct_result (__main__.TestNotebookClass)\n",
      "<code style=\"background:yellow;color:black\">Test2: Sind die berechneten Lagerbestände korrekt?</code> ... FAIL\n",
      "test_length (__main__.TestNotebookClass)\n",
      "Test1: Is die Ausgabe eine Liste mit 12 Einträgen? ... FAIL\n",
      "\n",
      "======================================================================\n",
      "FAIL: test_correct_result (__main__.TestNotebookClass)\n",
      "<code style=\"background:yellow;color:black\">Test2: Sind die berechneten Lagerbestände korrekt?</code>\n",
      "----------------------------------------------------------------------\n",
      "Traceback (most recent call last):\n",
      "  File \"<ipython-input-10-3ae7d744ee5b>\", line 10, in test_correct_result\n",
      "    self.assertEqual(create_stock_forecast(sales_plan, production_plan), expected_stock_forecast)\n",
      "AssertionError: Lists differ: [30, 50, 50, 70, 120, 220, 190, 200, 170, 180, 200] != [30, 50, 50, 70, 120, 220, 190, 200, 170, 180, 200, 220]\n",
      "\n",
      "Second list contains 1 additional elements.\n",
      "First extra element 11:\n",
      "220\n",
      "\n",
      "- [30, 50, 50, 70, 120, 220, 190, 200, 170, 180, 200]\n",
      "+ [30, 50, 50, 70, 120, 220, 190, 200, 170, 180, 200, 220]\n",
      "?                                                   +++++\n",
      "\n",
      "\n",
      "======================================================================\n",
      "FAIL: test_length (__main__.TestNotebookClass)\n",
      "Test1: Is die Ausgabe eine Liste mit 12 Einträgen?\n",
      "----------------------------------------------------------------------\n",
      "Traceback (most recent call last):\n",
      "  File \"<ipython-input-10-3ae7d744ee5b>\", line 18, in test_length\n",
      "    self.assertEqual(len(stock_forecast), 12)\n",
      "AssertionError: 11 != 12\n",
      "\n",
      "----------------------------------------------------------------------\n",
      "Ran 2 tests in 0.021s\n",
      "\n",
      "FAILED (failures=2)\n"
     ]
    },
    {
     "data": {
      "text/plain": [
       "<unittest.runner.TextTestResult run=2 errors=0 failures=2>"
      ]
     },
     "execution_count": 10,
     "metadata": {},
     "output_type": "execute_result"
    }
   ],
   "source": [
    "import unittest\n",
    "class TestNotebookClass(unittest.TestCase):\n",
    "    \"\"\"Testing function creat_stock_forecast\"\"\"\n",
    "    \n",
    "    def test_correct_result(self):\n",
    "        \"\"\"Test2: Sind die berechneten Lagerbestände korrekt?\"\"\"\n",
    "        sales_plan = [570, 500, 520, 500, 600, 550, 530, 520, 530, 590, 600, 590]\n",
    "        production_plan = [600, 520, 520, 520, 650, 650, 500, 530, 500, 600, 620, 610]\n",
    "        expected_stock_forecast = [30, 50, 50, 70, 120, 220, 190, 200, 170, 180, 200, 220]\n",
    "        self.assertEqual(create_stock_forecast(sales_plan, production_plan), expected_stock_forecast)\n",
    "    \n",
    "    def test_length(self):\n",
    "        \"\"\"Test1: Is die Ausgabe eine Liste mit 12 Einträgen?\"\"\"\n",
    "        sales_plan = [0, 0, 0, 0, 0, 0, 0, 0, 0, 0, 0, 0]\n",
    "        production_plan = [0, 0, 0, 0, 0, 0, 0, 0, 0, 0, 0, 0]\n",
    "        stock_forecast = create_stock_forecast(sales_plan, production_plan)\n",
    "        self.assertTrue(isinstance(stock_forecast, list))\n",
    "        self.assertEqual(len(stock_forecast), 12)\n",
    "    \n",
    "import sys\n",
    "suite = unittest.TestLoader().loadTestsFromTestCase(TestNotebookClass)\n",
    "unittest.TextTestRunner(verbosity=4,stream=sys.stderr).run(suite)\n",
    "\n"
   ]
  }
 ],
 "metadata": {
  "celltoolbar": "Create Assignment",
  "kernelspec": {
   "display_name": "Python 3",
   "language": "python",
   "name": "python3"
  },
  "language_info": {
   "codemirror_mode": {
    "name": "ipython",
    "version": 3
   },
   "file_extension": ".py",
   "mimetype": "text/x-python",
   "name": "python",
   "nbconvert_exporter": "python",
   "pygments_lexer": "ipython3",
   "version": "3.7.1"
  }
 },
 "nbformat": 4,
 "nbformat_minor": 2
}
