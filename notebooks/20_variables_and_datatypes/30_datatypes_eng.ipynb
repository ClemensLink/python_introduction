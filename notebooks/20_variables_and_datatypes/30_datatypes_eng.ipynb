{
 "cells": [
  {
   "cell_type": "markdown",
   "metadata": {},
   "source": [
    "# Data types\n",
    "## Prerequisites\n",
    "This unit assumes that you are familiar with the following content: Variables, Input and Output.\n",
    "\n",
    "## Primitive data types\n",
    "In Python, as in other programming languages, the result of evaluating an expression always has one *Data type*.\n",
    "In previous units we used a number of these *data types*, without explicitly mentioning it.\n",
    "For example, the following expression contains two values of the *data type* `integer` (set of integers)"
   ]
  },
  {
   "cell_type": "code",
   "execution_count": null,
   "metadata": {},
   "outputs": [],
   "source": [
    "1 + 2"
   ]
  },
  {
   "cell_type": "markdown",
   "metadata": {},
   "source": [
    "A basic distinction is made in Python between the primitive and complex *data types*. In this unite we first introduce the different primitive *data types*. in Python there as shown in the table below\n",
    "primitive *data types* available.\n",
    "\n",
    " | Description   | Python Datatype | Examples    |\n",
    " |----------------|-----------------|--------------|\n",
    " | set of Integers   | `Integer`         | 42, 0, -11   |\n",
    " | Decimal numbers    | `Float`           | 2.0, -3.14   |\n",
    " | Truth values | `Boolean`         | True, False  |\n",
    " | Strings  | `String`          | \"Hallo Welt\" |"
   ]
  },
  {
   "cell_type": "markdown",
   "metadata": {},
   "source": [
    "The built-in Python function `type()` (see ![docs](https://docs.python.org/3/library/functions.html#type)) \n",
    "can be used to determine the *data type* of an expression.\n",
    "In the following cell the function `type()` is used to convert the *data type* of the values 41, -3.14, True and \n",
    "to display \"Hello World\"."
   ]
  },
  {
   "cell_type": "code",
   "execution_count": null,
   "metadata": {},
   "outputs": [],
   "source": [
    "print(type(42))\n",
    "print(type(-3.14))\n",
    "print(type(True))\n",
    "\n",
    "s = \"Hello World\"\n",
    "print(type(s))\n"
   ]
  },
  {
   "cell_type": "markdown",
   "metadata": {},
   "source": [
    "A brief explanation on the spelling of `print(type (42))`: The two functions `print()` and `type()` are nested.\n",
    "That means, `type()` receives the input value 42. The output of `type()` is now the value `<class 'int'>`.\n",
    "This output serves as input for `print()`. The value is then displayed as the output of `print()`.\n",
    "\n",
    "Functions can be nested in each other. Nested functions are called from inside out.\n",
    "The output of the inner function then serves as input for the next outer function."
   ]
  },
  {
   "cell_type": "markdown",
   "metadata": {},
   "source": [
    "## Integer\n",
    "The first primitive *data type* that we will discuss in detail is the *data type* `integer`.\n",
    "The *data type* `integer` is used to represent integers. The range of values of the *Data type* includes\n",
    " the numbers .., -3, -2, -1, 0, 1, 2, 3, ...\n",
    "\n",
    "The value range of `Integer` in Python is limited through the available memory.\n",
    "This means that Python can also perform calculations with very large numbers.\n",
    "The following cell shows some examples of the *data type* `integer`.\n",
    "Test some numbers yourself."
   ]
  },
  {
   "cell_type": "code",
   "execution_count": null,
   "metadata": {},
   "outputs": [],
   "source": [
    "print(type(2))\n",
    "print(type(-5))\n",
    "\n",
    "x = 10000000000000000000000000000000000000\n",
    "print(type(x))\n",
    "\n",
    "x_square = x * x\n",
    "print(x_square)\n",
    "print(type(x_square))\n",
    "\n",
    "\n"
   ]
  },
  {
   "cell_type": "markdown",
   "metadata": {},
   "source": [
    "## Float\n",
    "In contrast to the *data type* `Integer`, the *data type*` Float` is used to represent floating-point numbers.\n",
    "Decimal places are separated by a dot (`.`). As in the cell below, the *data type* `float` also supports exponential notation.\n",
    "The notation 6.62e-34 stands for the number $ 6.62 \\cdot 10^{-34} $."
   ]
  },
  {
   "cell_type": "code",
   "execution_count": null,
   "metadata": {},
   "outputs": [],
   "source": [
    "print(type(0.1))\n",
    "print(type(0.0))\n",
    "\n",
    "h = 6.63e-34            # https://de.wikipedia.org/wiki/Plancksches_Wirkungsquantum\n",
    "print(h)\n",
    "print(type(h))\n",
    "\n",
    "g = 1e100               # https://de.wikipedia.org/wiki/Googol\n",
    "print(g)\n",
    "print(type(g))\n"
   ]
  },
  {
   "cell_type": "markdown",
   "metadata": {},
   "source": [
    "## Operators\n",
    "You already learned about several Operators for primitive data types in the introduction to variables.\n",
    "The following table shows the most important operations.\n",
    "\n",
    "|  Description   | Operator | Example     | Result    |\n",
    "|-----------------|----------|--------------|------------|\n",
    "| Addition        | +        | 2 + 3        | 5          |\n",
    "| Subtraction     | -        | 2 - 3        | -1         |\n",
    "| Multiplication  | *        | 2 * 3        | 6          |\n",
    "| Division        | /        | 7 / 3        | 2.3333333333333335 |\n",
    "| Float Division | //  | 7 // 3       | 2          |\n",
    "| Modulo          | %        | 7 % 3        | 1          |\n",
    "| Exponentiation  | **       | 2 ** 0.5     | 1.4142135623730951 |\n",
    "\n",
    "As already mentioned, Python applies the usual priorities for arithmetic operations.\n",
    "Parentheses can be used to control the order of the evaluation."
   ]
  },
  {
   "cell_type": "markdown",
   "metadata": {},
   "source": [
    "## Exercise\n",
    "Test different Operators for the *data types* `Integer` and` Float`.\n",
    "Use type() function to determine the type of a variable.\n",
    "Which data type is created when an `integer` value is combined with a` float` value using an operator?\n",
    "Will operations on `integers` always result in `integer` values?"
   ]
  },
  {
   "cell_type": "code",
   "execution_count": null,
   "metadata": {},
   "outputs": [],
   "source": [
    "integer_value = 5\n",
    "print(type(integer_value))\n",
    "\n",
    "float_value = 6.78\n",
    "print(type(float_value))\n",
    "\n",
    "combined_value = integer_value + float_value\n",
    "print(\"Der kombinierte Wert ist vom Typ:\", type(combined_value))\n",
    "\n",
    "# More values to experiment with:\n",
    "print(-12345678900000000000.0)\n",
    "print(3/1)\n",
    "print(2e306 * 10)\n",
    "\n"
   ]
  },
  {
   "cell_type": "markdown",
   "metadata": {},
   "source": [
    "## Accuracy of operations on `float` values\n",
    "Run the calculations in the following two cells.\n",
    "Are the calculated results correct? What could be the reason for these results?"
   ]
  },
  {
   "cell_type": "code",
   "execution_count": null,
   "metadata": {},
   "outputs": [],
   "source": [
    "a = 0.1\n",
    "b = 0.2\n",
    "\n",
    "sum = a + b\n",
    "print(sum)\n"
   ]
  },
  {
   "cell_type": "code",
   "execution_count": null,
   "metadata": {},
   "outputs": [],
   "source": [
    "square_root_of_2 = 2 ** 0.5\n",
    "\n",
    "two = square_root_of_2 ** 2\n",
    "print(two)\n"
   ]
  },
  {
   "cell_type": "markdown",
   "metadata": {},
   "source": [
    "Python internally represents floating-point numbers with an accuracy of 15 to 16 digits in the binary system\n",
    "(https://de.wikipedia.org/wiki/IEEE_754). This representation can be used with both very large and very small numbers.\n",
    "However, roundoff errors occur in certain cases. Other numbers cannot be represented exactly in the Binary system\n",
    "(similar to the number $1/3$ in the decimal system).\n",
    "\n",
    "Some more examples of possible blows when working with floating-point numbers can be found here:\n",
    "https://docs.python.org/3/tutorial/floatingpoint.html."
   ]
  },
  {
   "cell_type": "markdown",
   "metadata": {},
   "source": [
    "## Boolean\n",
    "Truth values are represented with the data type `Boolean`. The data type `Boolean` can only take two values,\n",
    " `True` or` False`.\n",
    "\n",
    "There several special logical operators for the `Boolean` data type.\n",
    "\n",
    "| Operator       | explanation                 | Example             |\n",
    "|----------------|---------------------------|-----------------------|\n",
    "| not            | negation                  | not y                 |\n",
    "| and            | logical and             | x and y               |\n",
    "| or             | logical or            | a or b or c           |\n",
    "\n",
    "## Exercise\n",
    "The following cell contains some examples of the usage of `Boolean` values.\n",
    "What happens if you combine a `Boolean` value with an` Integer` value? What about a combination with a `Float` value?\n",
    " Which operators can you use in this case?\n",
    "What is the resulting data type?"
   ]
  },
  {
   "cell_type": "code",
   "execution_count": null,
   "metadata": {},
   "outputs": [],
   "source": [
    "print(False and False)\n",
    "print(not False)\n",
    "\n",
    "a = True\n",
    "b = False\n",
    "\n",
    "print(\"True and True: \",True and True)\n",
    "print(\"a and b: \", a and b)\n",
    "print(\"a or b: \",a or b)\n",
    "\n",
    "print(\"Complex logical expression: \", a and (b or (True and False)))"
   ]
  },
  {
   "cell_type": "markdown",
   "metadata": {},
   "source": [
    "## String\n",
    "The data type `String` is used to process character strings. `String` strictly speaking is not a primitive data type\n",
    " but a sequential one. Due to the fact that Character strings are very common in simple programs, the data type `String` is already included.\n",
    "\n",
    "In Python, `strings` can be created with either single or double-quotes.\n",
    "There are subtle differences between the two variants, which we, for now, will be not handling.\n",
    "We will be using preferably double quotes when working with `strings`.\n"
   ]
  },
  {
   "cell_type": "code",
   "execution_count": null,
   "metadata": {},
   "outputs": [],
   "source": [
    "print(type(\"Hello World\"))\n",
    "\n",
    "a = \"Hallo\"\n",
    "b = \"World\"\n",
    "\n",
    "print(a, b)\n",
    "print(a+b)\n",
    "\n",
    "print(3*a)\n"
   ]
  },
  {
   "cell_type": "markdown",
   "metadata": {},
   "source": [
    "\n",
    "### String methods\n",
    "Python has a number of methods for editing `strings` (https://docs.python.org/3/library/string.html).\n",
    "A small selection of these methods is\n",
    "* `.lower ()` changes all uppercase letters to lowercase letters.\n",
    "* `.upper ()` changes all lowercase letters to uppercase.\n",
    "* `.replace ()` is used to replace a certain character string inside a `string` with another character string."
   ]
  },
  {
   "cell_type": "markdown",
   "metadata": {},
   "source": [
    "## Exercise\n",
    "Test different operations on`strings`.\n",
    "What happens if you try to add a `string` and an `integer`?\n",
    "Also use the methods above to edit `strings`."
   ]
  },
  {
   "cell_type": "code",
   "execution_count": null,
   "metadata": {},
   "outputs": [],
   "source": [
    "a = \"Ramones\"\n",
    "print(a.upper())\n",
    "\n",
    "print(\"hitchhiker\".replace(\"hi\", \"ma\"))\n"
   ]
  },
  {
   "cell_type": "markdown",
   "metadata": {},
   "source": [
    "## Exercise\n",
    "Read two numbers that the user should enter (Note: use the function `input()`).\n",
    "Add up the numbers entered and display the result.\n",
    "\n",
    "What is the problem? What data type has those entered values?"
   ]
  },
  {
   "cell_type": "code",
   "execution_count": null,
   "metadata": {},
   "outputs": [],
   "source": [
    "a = input(\"Bitte eine Zahl A eingeben: \")\n",
    "\n",
    "# Bitte die folgenden Zeilen ergänzen\n",
    "\n",
    "b = \n",
    "\n",
    "\n"
   ]
  },
  {
   "cell_type": "markdown",
   "metadata": {},
   "source": [
    "## Conversion\n",
    "Operations on `strings` sometimes lead to unexpected results.\n",
    "Trying a `string` and adding an `integer` results in an error message.\n",
    "The addition of two `strings` leads to a concatenation.\n",
    "\n",
    "This is a common problem when working with user input. The data type of the input is always a `string`.\n",
    "It may need to be transformed to another data type (hence convert) before going forward.\n",
    "There are several built-in functions available in Python for conversion between the different data types (https://docs.python.org/3/library/functions.html)\n",
    "\n",
    " | function       | discription                                                        | example             |\n",
    " |----------------|------------------------------------------------------------------|----------------------|\n",
    " | int()          | Converts the passed parameter into the data type `Integer´. | int(\"10\")            |\n",
    " | float()        | Converts the passed parameter into the data type `Float´.   | float(\"3.14\")        |\n",
    " | bool()         | Converts the passed parameter into the data type `Boolean´. | bool(\"Hello \")       |\n",
    " | str()          | Converts the passed parameter into the data type `String  . | str(True)        |"
   ]
  },
  {
   "cell_type": "markdown",
   "metadata": {},
   "source": [
    "## Exercise\n",
    "Do some conversions between different data types.\n",
    "Analyze which data type and what value the result of the conversion has.\n",
    "What happens if you concatenate different conversions?"
   ]
  },
  {
   "cell_type": "code",
   "execution_count": null,
   "metadata": {},
   "outputs": [],
   "source": [
    "s = \"Hello\"\n",
    "i = 2019\n",
    "print(s + str(i))\n",
    "\n",
    "print(bool(0))\n",
    "\n",
    "print(int(bool(3)))\n",
    "\n",
    "bool(\" \")\n",
    "\n"
   ]
  },
  {
   "cell_type": "markdown",
   "metadata": {},
   "source": [
    "## conversion and the function `input()`\n",
    "As already mentioned, the result of the function `input ()` is always of the datatype `String`.\n",
    "If you need a different data type, you have to convert the entered data first. The necessary procedure\n",
    "is shown in the following cells"
   ]
  },
  {
   "cell_type": "code",
   "execution_count": null,
   "metadata": {},
   "outputs": [],
   "source": [
    "age = input(\"Please enter your age: \")\n",
    "age = int(age)\n",
    "print(age)\n",
    "type(age)\n",
    "\n"
   ]
  },
  {
   "cell_type": "code",
   "execution_count": null,
   "metadata": {},
   "outputs": [],
   "source": [
    "# Alternative auch durch die Verkettung von Funktionen möglich\n",
    "age = int(input(\"Please enter your age: \"))\n",
    "type(age)\n"
   ]
  },
  {
   "cell_type": "markdown",
   "metadata": {},
   "source": [
    "## Exercise\n",
    "Create a new version of the cuboid program that reads in length, width, and height using the input function.\n",
    "\n",
    "Hints:\n",
    "- You can output several parameters in the `print()` function. These must be separated by commas. Example: `print (a, b, c)`\n",
    "- You can also pass `strings` directly as parameters in the print() function. Example: `print (\" The result is: \")`"
   ]
  },
  {
   "cell_type": "code",
   "execution_count": null,
   "metadata": {},
   "outputs": [],
   "source": []
  }
 ],
 "metadata": {
  "file_extension": ".py",
  "kernelspec": {
   "display_name": "Python 3",
   "language": "python",
   "name": "python3"
  },
  "language_info": {
   "codemirror_mode": {
    "name": "ipython",
    "version": 3
   },
   "file_extension": ".py",
   "mimetype": "text/x-python",
   "name": "python",
   "nbconvert_exporter": "python",
   "pygments_lexer": "ipython3",
   "version": "3.7.6"
  },
  "mimetype": "text/x-python",
  "name": "python",
  "npconvert_exporter": "python",
  "pygments_lexer": "ipython3",
  "version": 3,
  "pycharm": {
   "stem_cell": {
    "cell_type": "raw",
    "source": [],
    "metadata": {
     "collapsed": false
    }
   }
  }
 },
 "nbformat": 4,
 "nbformat_minor": 2
}