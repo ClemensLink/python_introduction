{
 "cells": [
  {
   "cell_type": "markdown",
   "metadata": {},
   "source": [
    "# Inputs and outputs\n",
    "## Prerequisites\n",
    "This unit assumes that you know the following: Variables.\n",
    "## Outputs\n",
    "If a Jupyter notebook cell is executed, only the result of the last instruction will be shown.\n",
    "However, if the last statement has no representable result (such as the assignment\n",
    "of a value to a variable), there is no output either.\n",
    "With the Python function `print()` it is possible to generate output anywhere in a Python program."
   ]
  },
  {
   "cell_type": "code",
   "execution_count": null,
   "metadata": {},
   "outputs": [],
   "source": [
    "print(\"Hello\")\n",
    "print(42)\n",
    "\n",
    "name = \"Joey\"\n",
    "print(name)\n"
   ]
  },
  {
   "cell_type": "markdown",
   "metadata": {},
   "source": [
    "What is to be displayed is passed to the `print()` function as a parameter.\n",
    "\n",
    "It is also possible to pass several parameters to the `print` function. These then have passed separated by a comma (`,`)."
   ]
  },
  {
   "cell_type": "code",
   "execution_count": null,
   "metadata": {},
   "outputs": [],
   "source": [
    "name = \"Joey\"\n",
    "lastname = \"Ramone\"\n",
    "\n",
    "print(name, lastname)\n"
   ]
  },
  {
   "cell_type": "markdown",
   "metadata": {},
   "source": [
    "## Inputs\n",
    "Do you remember the exercise for calculating the surface and volume of a cuboid?\n",
    "So far, calculating the values for a new cuboid has been quite tedious. You must:\n",
    "- Go into the cell of the notebook and change the Python program\n",
    "- Execute the cell again\n",
    "\n",
    "It would be easier if the program asked for the data to be processed as *input*. The Python program should be independent of fixed values for edge lengths of a certain cuboid.\n",
    "This is the classic structure of a program based on the IPO Model: Input → Processing → Output\n",
    "\n",
    "\n",
    "### Function input()\n",
    "\n",
    "With the function `input()` you can read entered user input. A typical call of the function `input ()` is:\n",
    "\n",
    "```python\n",
    "i = input(\"Please enter a number:\")\n",
    "print(i)\n",
    "```"
   ]
  },
  {
   "cell_type": "code",
   "execution_count": null,
   "metadata": {},
   "outputs": [],
   "source": [
    "i = input(\"Please enter a number:\")\n",
    "print(i)\n"
   ]
  },
  {
   "cell_type": "markdown",
   "metadata": {},
   "source": [
    "The function `input()` first outputs the passed parameter (\"Please ...\").\n",
    "The function then waits for user input. The user enters a value and ends the entry with the return key (enter key).\n",
    "The entered value is then assigned to the variable *i*."
   ]
  },
  {
   "cell_type": "markdown",
   "metadata": {},
   "source": [
    "## Exercise:\n",
    "Write a program that asks for `input()` values for first name, last name, and email address.\n",
    "Then display the entered values."
   ]
  },
  {
   "cell_type": "code",
   "execution_count": null,
   "metadata": {},
   "outputs": [],
   "source": [
    "\n"
   ]
  }
 ],
 "metadata": {
  "file_extension": ".py",
  "kernelspec": {
   "display_name": "Python 3",
   "language": "python",
   "name": "python3"
  },
  "language_info": {
   "codemirror_mode": {
    "name": "ipython",
    "version": 3
   },
   "file_extension": ".py",
   "mimetype": "text/x-python",
   "name": "python",
   "nbconvert_exporter": "python",
   "pygments_lexer": "ipython3",
   "version": "3.7.6"
  },
  "mimetype": "text/x-python",
  "name": "python",
  "npconvert_exporter": "python",
  "pygments_lexer": "ipython3",
  "version": 3,
  "pycharm": {
   "stem_cell": {
    "cell_type": "raw",
    "source": [],
    "metadata": {
     "collapsed": false
    }
   }
  }
 },
 "nbformat": 4,
 "nbformat_minor": 2
}