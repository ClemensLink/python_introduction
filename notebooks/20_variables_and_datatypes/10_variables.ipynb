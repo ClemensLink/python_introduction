{
 "cells": [
  {
   "cell_type": "markdown",
   "metadata": {},
   "source": [
    " # Anweisungen und Variablen\n",
    " ## Anweisungen\n",
    " Alle Python-Programme bestehen aus einer Reihe von *Anweisungen*. Die Anweisungen beschreiben\n",
    " welche Schritte der Computer bei der Ausführung eines Python-Programms durchführt. Ein Beispiel für eine Anweisung\n",
    " ist die Multiplikation von zwei Zahlen. Die Multiplikation wird in Python durch das Zeichen `*` dargestellt. Die\n",
    "Ausführung einer Anweisung durch den Computer wir als *auswerten* bezeichent. In Code-Zellen von Jupyter\n",
    "Notebooks wird das Ergebnis der Auswertung der letzten Anweisung unterhalb der Zelle ausgegeben."
   ]
  },
  {
   "cell_type": "code",
   "execution_count": null,
   "metadata": {},
   "outputs": [],
   "source": [
    "3*5\n",
    "\n"
   ]
  },
  {
   "cell_type": "markdown",
   "metadata": {},
   "source": [
    " Das Zeichen `*`wird in Python als *Operator* bezeichnet. Folgende Tabelle enthällt eine Liste von\n",
    " häufig verwendeten Operatoren.\n",
    "\n",
    " |  Beschreibung   | Operator | Beispiel     | Ergebis    |\n",
    " |-----------------|----------|--------------|------------|\n",
    " | Addition        | +        | 2 + 3        | 5          |\n",
    " | Subtraktion     | -        | 2 - 3        | -1         |\n",
    " | Multiplikation  | *        | 2 * 3        | 6          |\n",
    " | Division        | /        | 7 / 3        | 2.3333333333333335 |\n",
    " | Modulo          | %        | 7 % 3        | 1          |\n",
    " | Exponentiation  | **       | 2 ** 0.5     | 1.4142135623730951 |\n",
    "\n",
    " Für Anweisungen in Python gelten die aus der Algebra bekannten Prioritäten für Operatoren. \n",
    " Multiplikation und Division werden vor der Addition und Subtraktion durchgeführt. Klammern können\n",
    " verwendet werden, um die Reihenfolge der Auswertung zu beeinflussen."
   ]
  },
  {
   "cell_type": "code",
   "execution_count": null,
   "metadata": {},
   "outputs": [],
   "source": [
    "1 + 2 * 3 * 4 * 5 - 6 / 7 % 8 ** 9\n"
   ]
  },
  {
   "cell_type": "code",
   "execution_count": null,
   "metadata": {},
   "outputs": [],
   "source": [
    "1 + 2 * (3 * 4 * 5 - 6) / (7 % 8) ** 9\n"
   ]
  },
  {
   "cell_type": "markdown",
   "metadata": {},
   "source": [
    " ## Variablen\n",
    "\n",
    " In (fast) jeder Programmiersprache existieren *Variablen*. Dieser Begriff hat in der Programmierung\n",
    " jedoch eine andere Bedeutung als in der Mathematik. In der Programmierungen ist eine *Variablen*\n",
    " ein Name, dem ein Wert zugewiesen werden kann. Aus technischer Sicht ist eine Variable ein Bereich im\n",
    " Speicher, der zu einem Zeitpunkt einen bestimmten Wert hat.\n",
    "\n",
    " Der Wert einer *Variable* kann durch den Zuweisungsoperator `=` gesetzt werden. In nachfolgenden Anweisungen\n",
    " wird der Name der *Variable* dann durch ihren Wert ersetzt.\n",
    "\n",
    " **Achtung:** Im Gegensatz zur Programmierung ist `a = 2` in der Mathematik eine Aussage. Diese ist\n",
    " entweder wahr oder falsch."
   ]
  },
  {
   "cell_type": "code",
   "execution_count": null,
   "metadata": {},
   "outputs": [],
   "source": [
    "a = 2\n",
    "b = 3\n",
    "a * b\n"
   ]
  },
  {
   "cell_type": "markdown",
   "metadata": {},
   "source": [
    " Der Wert einer Variablen kann durch eine Zuweisung auch geändert werden."
   ]
  },
  {
   "cell_type": "code",
   "execution_count": null,
   "metadata": {},
   "outputs": [],
   "source": [
    "a = 2\n",
    "b = 5\n",
    "\n",
    "a = a + 1\n",
    "a * b\n"
   ]
  },
  {
   "cell_type": "markdown",
   "metadata": {},
   "source": [
    " Außer ihrem Namen besitzt jede Variable auch einen Datentyp. Diese Eigenscahft wird später noch genauer erklärt.\n",
    "\n",
    " Wie im vorherigen Beispiel schon zu sehen, können auf der rechten Seite einer Zuweisung auch komplexe Ausdrücke stehen,\n",
    " die wiederum *Variablen* enthalten."
   ]
  },
  {
   "cell_type": "code",
   "execution_count": null,
   "metadata": {},
   "outputs": [],
   "source": [
    "b = 3\n",
    "c = 5\n",
    "\n",
    "a_quadrat = b ** 2 + c ** 2  \n"
   ]
  },
  {
   "cell_type": "markdown",
   "metadata": {},
   "source": [
    " ### Variablennamen\n",
    " Für Variablennamen existieren in Python eine Reihe von Regeln. Ein Variablenname muss immer mit einem Buchstaben oder\n",
    " einem Unterstrich (`_`) beginnen. Danach kann eine belibige Anzahl von Buchstaben, Ziffern und Unterstrichen\n",
    " folgen.\n",
    "\n",
    " Variablenamen dürfen keine Sonderzeichen und keine Leerzeichen enthalten. Somit sind z.B. folgende Variablennamen\n",
    " zulässig:"
   ]
  },
  {
   "cell_type": "code",
   "execution_count": null,
   "metadata": {},
   "outputs": [],
   "source": [
    "Name = 'David'\n",
    "nachname = 'Bowie'\n",
    "kontostand = -2000\n",
    "_neuer_kontostand = 1000\n"
   ]
  },
  {
   "cell_type": "markdown",
   "metadata": {},
   "source": [
    " Im Gegensatz dazu sind folgende Variablennamen unzulässig"
   ]
  },
  {
   "cell_type": "code",
   "execution_count": null,
   "metadata": {},
   "outputs": [],
   "source": [
    "1_konto = 1234\n",
    "email@fh = 'drumm@fh-aachen.de'\n"
   ]
  },
  {
   "cell_type": "markdown",
   "metadata": {},
   "source": [
    " In Python wird bei Variablennamen zwischen Groß- und Kleinschreibung unterschieden. Das heißt, dass in\n",
    " einem Python Programm `name` und `Name` unterschiedliche Variablen darstellen. Dies wird an folgendem Beispiel\n",
    "verdeutlicht."
   ]
  },
  {
   "cell_type": "code",
   "execution_count": null,
   "metadata": {},
   "outputs": [],
   "source": [
    "name = 'Joey'\n",
    "Name = 'Ramone'\n",
    "\n",
    "name + ' ' + Name\n"
   ]
  },
  {
   "cell_type": "markdown",
   "metadata": {},
   "source": [
    " Zusletzt gibt es in Python eine Reihe von reservierten *Schlüsselworten*, die nicht als Variablennamen verwendet werden\n",
    " dürfen. Diese *Schlüsselworte* haben in Python eine spezielle Bedeutung, die Sie im Rahmen der Vorlesung\n",
    " noch kennen lernen werden.\n",
    " Beispiel für reservierte *Schlüsselworte* sind `and`, `while` oder `if`"
   ]
  },
  {
   "cell_type": "code",
   "execution_count": null,
   "metadata": {},
   "outputs": [],
   "source": [
    "if = 42 \n"
   ]
  },
  {
   "cell_type": "markdown",
   "metadata": {},
   "source": [
    " ### Konventionen für Variablennamen\n",
    " In der Python-Community wird die Kleinschreibung von Variablennamen bevorzugt. Es wird also `name`\n",
    " statt `Name` verwedet. Variablenamen, die aus mehreren Wörten bestehen, werden durch einen\n",
    " Unterstrich `_` getrennnt, z.B. `konto_nummer` oder `minimaler_kontostand`.\n",
    "\n",
    " Nicht jeder erlaubte Variablenname ist auch ein guter Variablenname! Ein guter Programmiestil (nicht nur in Python)\n",
    " zeichnet sich dadurch aus, dass ein Programm für einen Menschen leicht zu verstehen ist.\n",
    "\n",
    " > Any fool can write code that a computer can understand. Good programmers write code that humans can understand. <br>\n",
    " > Martin Fowler, 2008.\n",
    "\n",
    " Aus diesem Grund sollten Sie Variablennamen verwenden, die eine Bedeutung haben.\n",
    " - `kontostand_neu` ist besser als `kn`\n",
    " - `laenge_auto` ist besser als `laenge`\n",
    "\n",
    " Machen Sie Ihre Programme durch gute Variablennamen so lesbar, dass Sie auch in einem Jahr noch verstehen,\n",
    " was das Programm berechnen soll.\n",
    " ---\n",
    " ### Übung\n",
    " Erstellen Sie einige *Variablen* und testen Sie welche Namen zulässig sind. Schauen Sie sich an was passiert\n",
    " wenn ein Name nicht zulässig ist.\n",
    " Weisen Sie Ihren *Variablen* Werte zu und testen Sie was (nicht) möglich ist.\n",
    " Das unten verwendete `print()` dient der Ausgabe von Variablen und anderer Parameter. Details dazu später."
   ]
  },
  {
   "cell_type": "code",
   "execution_count": null,
   "metadata": {},
   "outputs": [],
   "source": [
    "a = 5\n",
    "print(a)\n",
    "a = 7\n",
    "print(a) \n",
    "\n",
    "a = 5 + 6 \n",
    "print(a)\n"
   ]
  },
  {
   "cell_type": "markdown",
   "metadata": {},
   "source": [
    " ### Zuweisungen im Detail\n",
    " Noch ein wichtiger Hinweis zu Zuweisungen. In der Programierung ist `a = b` etwas anderes als `b = a`.\n",
    " In der Mathematik wäre die Aussage identisch. In der Programmierung wird jedoch das Ergebnis des\n",
    " Ausdrucks auf der rechten Seite des Zuweisungsoperators `=` der Variablen auf der linken Seite zugeweisen."
   ]
  },
  {
   "cell_type": "code",
   "execution_count": null,
   "metadata": {},
   "outputs": [],
   "source": [
    "a = 5\n",
    "b = 7\n",
    "a = b\n",
    "print(a)\n"
   ]
  },
  {
   "cell_type": "code",
   "execution_count": null,
   "metadata": {},
   "outputs": [],
   "source": [
    "a = 5\n",
    "b = 7\n",
    "b = a\n",
    "print(a)\n",
    "print(b)\n"
   ]
  },
  {
   "cell_type": "markdown",
   "metadata": {},
   "source": [
    " ### Weitere Details zu Variablen\n",
    " In Python wird eine *Variable* bei  erstmaliger Verwendung in einer Zuweisung angelegt. Variablen müssen also nicht,\n",
    " wie in einingen anderen Programmiersprachen, zuerst deklariert werden.\n",
    "\n",
    " Eine *Variable* kann gleichzeitig sowohl auf der rechten als auch auf der linken Seite des Zuweisungsoperators stehen."
   ]
  },
  {
   "cell_type": "code",
   "execution_count": null,
   "metadata": {},
   "outputs": [],
   "source": [
    "a = 10\n",
    "a = a + 1\n",
    "print(a)\n"
   ]
  },
  {
   "cell_type": "markdown",
   "metadata": {},
   "source": [
    " In der Programmierung bedeutet  dieses Konstrukt, dass der Wert von a um 1 erhöht wird. Dieses Konstrukt kommt\n",
    " sehr häufig vor. Daher stellt Python die verkürzte Schreibweise `a += 1` zur Verfügung."
   ]
  },
  {
   "cell_type": "code",
   "execution_count": null,
   "metadata": {},
   "outputs": [],
   "source": [
    "a = 1\n",
    "a += 1  \n",
    "print(a)"
   ]
  },
  {
   "cell_type": "markdown",
   "metadata": {},
   "source": [
    " Das gleiche funktioniert auch mit anderen Operatoren (z.B. - oder *) und anderen Werten."
   ]
  },
  {
   "cell_type": "code",
   "execution_count": null,
   "metadata": {},
   "outputs": [],
   "source": [
    "a = 10 \n",
    "a *= 2\n",
    "a -= 100\n",
    "print(a)\n"
   ]
  },
  {
   "cell_type": "markdown",
   "metadata": {},
   "source": [
    " ---\n",
    " ## Übung\n",
    " Berechnen Sie Volumen und Oberfläche eines Würfels (Seitenlängen a, b, c gleich lang) bzw. eines Quaders (Seitenlängen a, b, c unterschiedlich).\n",
    " Gehen Sie hierzu wie folgt vor:\n",
    " 1. Definieren Sie vernünftige Namen für die Variablen zur Darstellung der Seitelänge des Würfels und wiesen Sie diesen Werte zu\n",
    " 1. Berechnen Sie die Fläche des Würfels und weisen Sie das Ergebnis der Variable `wuerfel_flaeche` zu\n",
    " 1. Berechnen Sie das Volumen des Würfels und weisen Sie das Ergebnis der Variable `wuerfel_volumen` zu\n",
    " 1. Geben Sie das Ergebnis der Berechnug mit Hilfe folgender Anweisungen aus:\n",
    "   - print(wuerfel_flaeche)\n",
    "   - print(wuerfel_volumen)\n",
    "\n",
    " 1. Wiederholen Sie die Schritte 1 - 4 für den Quader."
   ]
  },
  {
   "cell_type": "code",
   "execution_count": null,
   "metadata": {},
   "outputs": [],
   "source": [
    "laenge = 5\n",
    "breite = 5\n",
    "wuerfel_flaeche = laenge * breite\n",
    "print(wuerfel_flaeche)"
   ]
  }
 ],
 "metadata": {
  "file_extension": ".py",
  "kernelspec": {
   "display_name": "Python 3",
   "language": "python",
   "name": "python3"
  },
  "language_info": {
   "codemirror_mode": {
    "name": "ipython",
    "version": 3
   },
   "file_extension": ".py",
   "mimetype": "text/x-python",
   "name": "python",
   "nbconvert_exporter": "python",
   "pygments_lexer": "ipython3",
   "version": "3.7.4"
  },
  "mimetype": "text/x-python",
  "name": "python",
  "npconvert_exporter": "python",
  "pygments_lexer": "ipython3",
  "version": 3
 },
 "nbformat": 4,
 "nbformat_minor": 2
}
