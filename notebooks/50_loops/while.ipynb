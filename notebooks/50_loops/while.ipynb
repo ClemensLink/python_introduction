{
 "cells": [
  {
   "cell_type": "markdown",
   "metadata": {},
   "source": [
    "# While-Schleife\n",
    "```python\n",
    "while bedingung:\n",
    "    Anweisung 1\n",
    "    ...\n",
    "    Anweisung n\n",
    "```"
   ]
  },
  {
   "cell_type": "code",
   "execution_count": 1,
   "metadata": {},
   "outputs": [
    {
     "name": "stdout",
     "output_type": "stream",
     "text": [
      "0\n",
      "1\n",
      "2\n",
      "3\n",
      "4\n",
      "5\n",
      "6\n",
      "7\n",
      "8\n",
      "9\n"
     ]
    }
   ],
   "source": [
    "i = 0\n",
    "while i < 10:\n",
    "    print(i)\n",
    "    i += 1\n"
   ]
  },
  {
   "cell_type": "code",
   "execution_count": 9,
   "metadata": {},
   "outputs": [
    {
     "name": "stdout",
     "output_type": "stream",
     "text": [
      "Bitte PIN eingeben: 1234\n",
      "1234 ist richtig\n"
     ]
    }
   ],
   "source": [
    "geheime_pin = 1234\n",
    "\n",
    "pin = int(input(\"Bitte PIN eingeben: \"))\n",
    "\n",
    "while pin != geheime_pin:\n",
    "    print(\"Die PIN war leider falsch.\")\n",
    "    pin = int(input(\"Bitte PIN eingeben: \"))\n",
    "\n",
    "print(pin, \"ist richtig\")"
   ]
  },
  {
   "cell_type": "code",
   "execution_count": null,
   "metadata": {},
   "outputs": [
    {
     "name": "stdout",
     "output_type": "stream",
     "text": [
      "Bitte eine Zahl raten: 50\n",
      "Die Zahl war zu groß.\n"
     ]
    }
   ],
   "source": [
    "import random\n",
    "\n",
    "geheime_zahl = random.randint(1,100)\n",
    "\n",
    "geratene_zahl = int(input(\"Bitte eine Zahl raten: \"))\n",
    "\n",
    "while geratene_zahl != geheime_zahl:\n",
    "    if geratene_zahl < geheime_zahl:\n",
    "        print(\"Die Zahl war zu klein.\")\n",
    "    else: \n",
    "        print(\"Die Zahl war zu groß.\")\n",
    "        \n",
    "    geratene_zahl = int(input(\"Bitte eine Zahl raten: \"))\n",
    "\n",
    "print(\"Richtig!\", geratene_zahl, \"war die gesuchte Zahl.\")"
   ]
  },
  {
   "cell_type": "code",
   "execution_count": null,
   "metadata": {},
   "outputs": [],
   "source": [
    "while True:\n",
    "    sleep(30)\n",
    "    print(...)"
   ]
  },
  {
   "cell_type": "code",
   "execution_count": null,
   "metadata": {},
   "outputs": [],
   "source": []
  }
 ],
 "metadata": {
  "kernelspec": {
   "display_name": "Python 3",
   "language": "python",
   "name": "python3"
  },
  "language_info": {
   "codemirror_mode": {
    "name": "ipython",
    "version": 3
   },
   "file_extension": ".py",
   "mimetype": "text/x-python",
   "name": "python",
   "nbconvert_exporter": "python",
   "pygments_lexer": "ipython3",
   "version": "3.7.3"
  }
 },
 "nbformat": 4,
 "nbformat_minor": 2
}
