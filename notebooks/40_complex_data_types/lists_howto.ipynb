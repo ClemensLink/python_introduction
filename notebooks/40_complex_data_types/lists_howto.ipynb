{
 "cells": [
  {
   "cell_type": "markdown",
   "metadata": {},
   "source": [
    "# Listen - HowTo (Procedural Information)\n",
    "- [Leere Liste erstellen](#LeereListe)\n",
    "- [Liste mit Elementen erstellen](#ListeErstellen)\n",
    "- [Element hinten an eine Liste anhängen](#ElementAnhängen)\n",
    "- [Element in die Mitte einer Liste einfügen](#ElementEinfügen)\n",
    "- [Liste leeren](#ListeLeeren)\n",
    "- [Element löschen](#ElementLöschen)\n",
    "- [Das letzte Element einer Liste löschen](#LetztesElementLöschen)\n",
    "- [Ein Listenelement lesen](#ElementLesen)\n",
    "- [Einem Listenelement einen neuen Wert zuweisen](#WertZuweisen)\n",
    "- [Teillisten (Slice-Operator)](#Teillisten)\n",
    "- [Anzahl Elemente einer Liste (Länge einer Liste)](#ListeLänge)\n",
    "- [Liste sortieren](#ListeSortieren)"
   ]
  },
  {
   "cell_type": "markdown",
   "metadata": {},
   "source": [
    "### Leere Liste erstellen\n",
    "<a id=\"LeereListe\">"
   ]
  },
  {
   "cell_type": "code",
   "execution_count": null,
   "metadata": {},
   "outputs": [],
   "source": [
    "list1 = []\n",
    "print(list1)"
   ]
  },
  {
   "cell_type": "markdown",
   "metadata": {},
   "source": [
    "### Liste Erstellen\n",
    "<a id=\"ListeErstellen\">"
   ]
  },
  {
   "cell_type": "code",
   "execution_count": null,
   "metadata": {},
   "outputs": [],
   "source": [
    "list1 = [1, 3, \"listen\", True, 4.56]\n",
    "print(list1)"
   ]
  },
  {
   "cell_type": "markdown",
   "metadata": {},
   "source": [
    "### Element hinten an eine Liste hängen\n",
    "<a id=\"ElementAnhängen\">"
   ]
  },
  {
   "cell_type": "code",
   "execution_count": null,
   "metadata": {},
   "outputs": [],
   "source": [
    "list1 = [1, 3, \"listen\", True, 4.56]\n",
    "list1.append(23)\n",
    "print(list1)"
   ]
  },
  {
   "cell_type": "markdown",
   "metadata": {},
   "source": [
    "### Element in die Mitte einer Liste einfügen\n",
    "<a id=\"ElementEinfügen\">"
   ]
  },
  {
   "cell_type": "code",
   "execution_count": null,
   "metadata": {},
   "outputs": [],
   "source": [
    "list1 = [1, 3, \"listen\", True, 4.56]\n",
    "list1.insert(4, \"Neues Element\")\n",
    "print(list1)"
   ]
  },
  {
   "cell_type": "markdown",
   "metadata": {},
   "source": [
    "### Liste leeren\n",
    "<a id=\"ListeLeeren\">"
   ]
  },
  {
   "cell_type": "code",
   "execution_count": null,
   "metadata": {},
   "outputs": [],
   "source": [
    "list1 = [1, 3, \"listen\", True, 4.56]\n",
    "list1.clear()\n",
    "print(list1)"
   ]
  },
  {
   "cell_type": "markdown",
   "metadata": {},
   "source": [
    "### Ein Element der Liste löschen\n",
    "<a id=\"ElementLöschen\">"
   ]
  },
  {
   "cell_type": "code",
   "execution_count": null,
   "metadata": {},
   "outputs": [],
   "source": [
    "list1 = [1, 3, \"listen\", True, 4.56]\n",
    "list1.remove(\"listen\")\n",
    "print(list1)"
   ]
  },
  {
   "cell_type": "markdown",
   "metadata": {},
   "source": [
    "### Letztes Element der Liste löschen\n",
    "<a id=\"LetztesElementLöschen\">"
   ]
  },
  {
   "cell_type": "code",
   "execution_count": null,
   "metadata": {},
   "outputs": [],
   "source": [
    "list1 = [1, 3, \"listen\", True, 4.56]\n",
    "elem = list1.pop()\n",
    "print(elem)\n",
    "print(list1)"
   ]
  },
  {
   "cell_type": "markdown",
   "metadata": {},
   "source": [
    "### Einzelnes Listeelement lesen\n",
    "<a id=\"ElementLesen\">"
   ]
  },
  {
   "cell_type": "code",
   "execution_count": null,
   "metadata": {},
   "outputs": [],
   "source": [
    "list1 = [1, 3, \"listen\", True, 4.56]\n",
    "elem = list1[2]\n",
    "print(elem)"
   ]
  },
  {
   "cell_type": "markdown",
   "metadata": {},
   "source": [
    "### Einem Listenelement einen neuen Wert zuweisen\n",
    "<a id=\"WertZuweisen\">"
   ]
  },
  {
   "cell_type": "code",
   "execution_count": null,
   "metadata": {},
   "outputs": [],
   "source": [
    "list1 = [1, 3, \"listen\", True, 4.56]\n",
    "list1[2] = \"disturb\"\n",
    "print(list1)"
   ]
  },
  {
   "cell_type": "markdown",
   "metadata": {},
   "source": [
    "### Teillisten (Slice-Operator)\n",
    "<a id=\"Teillisten\">"
   ]
  },
  {
   "cell_type": "code",
   "execution_count": null,
   "metadata": {},
   "outputs": [],
   "source": [
    "list1 = [1, 3, \"listen\", True, 4.56]\n",
    "print(list1[2:4])\n",
    "print(list1[:3])\n",
    "print(list1[1:])"
   ]
  },
  {
   "cell_type": "markdown",
   "metadata": {},
   "source": [
    "### Anzahl Elemente einer Liste (Länge einer Liste)\n",
    "<a id=\"ListeLänge\">"
   ]
  },
  {
   "cell_type": "code",
   "execution_count": null,
   "metadata": {},
   "outputs": [],
   "source": [
    "list1 = [1, 3, \"listen\", True, 4.56]\n",
    "print(len(list1))"
   ]
  },
  {
   "cell_type": "markdown",
   "metadata": {},
   "source": [
    "### Liste sortieren (funktioniert nur, wenn Elemente \"sortierbar\")\n",
    "<a id=\"ListeSortieren\"></a>\n",
    "    \n",
    "Bitte den folgenden Unterschied beachten: Die Methode `.sort` sortiert die Liste, auf die die Methode angewendet wird. Die Funktion `sorted()` liefert als Rückgabewert eine sortierte Liste. Die als Argument übergebene Liste bleibt unverändert."
   ]
  },
  {
   "cell_type": "code",
   "execution_count": null,
   "metadata": {},
   "outputs": [],
   "source": [
    "list1 = [3, 45, -20, 7, 2, 1, 1]\n",
    "print(sorted(list1))\n",
    "print(list1)\n",
    "list1.sort()\n",
    "print(list1)"
   ]
  }
 ],
 "metadata": {
  "kernelspec": {
   "display_name": "Python 3",
   "language": "python",
   "name": "python3"
  },
  "language_info": {
   "codemirror_mode": {
    "name": "ipython",
    "version": 3
   },
   "file_extension": ".py",
   "mimetype": "text/x-python",
   "name": "python",
   "nbconvert_exporter": "python",
   "pygments_lexer": "ipython3",
   "version": "3.7.6"
  }
 },
 "nbformat": 4,
 "nbformat_minor": 2
}
