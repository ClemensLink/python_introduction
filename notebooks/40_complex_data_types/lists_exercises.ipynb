{
 "cells": [
  {
   "cell_type": "markdown",
   "metadata": {},
   "source": [
    "# Übungsaufgaben zu Listen\n",
    "In folgender Tabelle finden Sie eine Reihe von Übungsaufgaben zum Themenblock Listen in Python. Starten Sie mit einer der Aufgabe in der Stufe 1....\n",
    "\n",
    "## Hilfe\n",
    "Eine detaillierte Beschreibung der `Listen` finden Sie [hier](./01_Liste.ipynb).<br>\n",
    "Eine Liste der wichtigsten Funktionen und Methoden bzgl. `Listen` finden Sie [hier](./02_Liste_HowTo_ProceduralInformation.ipynb).<br>\n",
    "Einfache Übungsaufgaben zu `Listen` finden Sie [hier](./03_Liste_PartTaskPractice.ipynb).\n",
    "\n",
    "## Erklärung zu den Leveln, Gruppen und Stufen\n",
    "Wie oben schon angedeutet, werden die Aufgaben von Stufe zu Stufe schwieriger. Die Level bei den Listen sind wie folgt definiert:\n",
    "Die ersten beiden Level sind zum aufwärmen ...\n",
    "\n",
    " - Level 1: Liste definieren, Elemente hinzufügen und löschen\n",
    " - Level 2: Länge der Liste, Kontrolle ob Elemente in Listen vorhanden sind\n",
    "\n",
    "Ab Level 3 werden for-Schleifen benötigt. Tatsächlich werden die Listen erst durch die Verwendung von Schleifen richtig interessant!\n",
    "\n",
    " - Level 3: Mit for-Schleife über Liste iterieren\n",
    " - Level 4: Verschachtelte Listen\n",
    " - Level 5: Komplexere Aufgaben mit Listen wie z.B. Sortieren einer Liste, Geheimtext umwandeln, Listen vergleichen, ...\n",
    " \n",
    "Um die Übungen abwechslungsreicher zu gestalten, gibt es zu jedem Level mehrere unterschiedliche Aufgaben.\n",
    "Jede Aufgabe wird mit unterschielich viel Unterstützung angeboten, in unterschiedlichen (Schwierigkeits-)Stufen angeboten. Die Unterstützung reicht von:\n",
    " - keiner Unterstützung (0%, 🏆)\n",
    " - die Aufgabe wird durch Kommentare oder Zellen vorstrukturiert, es ist aber kein Programmcode gegeben (25%, 🥇)\n",
    " - es wird weniger oder mehr Programmcode zur Verfügung gestellt, der Rest muss \"nur\" ergänzt werden (50%, 🥈) bzw. (75%, 🥉)\n",
    " - es existiert eine vorgegebene zum Teil kommentierte Lösung (100%). \n",
    "\n",
    "Sie brauchen nicht alle Aufgaben zu lösen. Versuchen Sie zuerst eine 0%-Aufgabe zu lösen. \n",
    "\n",
    " - Wenn das ohne Schwierigkeiten geht, gehen Sie zum nächsten Level. \n",
    " - Wenn es nicht direkt klappt, dann wechseln Sie zur gleichen Aufgabe mit entsprechend mehr Hilfe (25%, 50%, ...) an. Versuchen Sie anschließend auf dem _gleichen_ Level eine andere Aufgabe. \n",
    " - Wenn Sie die Ansätze gar nicht verstehen, dann nutzen Sie die grundsätzlichen Erklärungen zum Thema (s.o.). Versuchen Sie anschließend erneut, die gleiche Aufgabe zu lösen.\n",
    " \n",
    "Ziel ist es, mindestens eine Aufgabe der höchsten Level ohne Hilfe (also Stufe 0%) zu schaffen.\n",
    "Es gibt nicht auf jedem Level die gleiche Anzahl an Aufgaben. Es gibt nicht für jede Aufgabe alle Stufen!"
   ]
  },
  {
   "cell_type": "markdown",
   "metadata": {},
   "source": [
    "## Übungsaufgaben\n",
    " \n",
    " | Übungsaufgaben | Level 1 | Level 2 | Level 3 | Level 4 | Level 5 |\n",
    " |:----------|:--------|:--------|:--------|:--------|:--------|\n",
    " | 1 Würfeln | 🥉 [viel Unterstützung](./level_1/level_1_75.ipynb) <br>🥈 [wenig Unterstützung](./level_1/level_1_25.ipynb) <br> 🥇 [keine Unterstützung](./level_1/level_1.ipynb) | 🥉 [viel Unterstützung](./level_2/Level2-75_.ipynb) <br>🥈 [wenig Unterstützung](./level_2/Level2-25_.ipynb) <br>🥇 [keine Unterstützung](./level_2/Level2.ipynb) | 🥉 [viel Unterstützung](./level_3/Level3-75_.ipynb) <br>🥈 [wenig Unterstützung](./level_3/Level3-25_.ipynb) <br>🥇 [keine Unterstützung](./level_3/Level3.ipynb) | 🥉 [viel Unterstützung](./level_4/Level4-75_.ipynb) <br>🥈 [wenig Unterstützung](./level_4/Level4-25_.ipynb) <br>🥇 [keine Unterstützung](./level_4/Level4.ipynb)  | Level 5 |\n",
    " | Gruppe 2 | 🥉 [viel Unterstützung](./level_1/level_1_75.ipynb) <br>🥈 [wenig Unterstützung](./level_1/level_1_25.ipynb) <br> 🥇 [keine Unterstützung](./level_1/level_1.ipynb) | 🥉 [viel Unterstützung](./level_2/Level2-75_.ipynb) <br>🥈 [wenig Unterstützung](./level_2/Level2-25_.ipynb) <br>🥇 [keine Unterstützung](./level_2/Level2.ipynb) | 🥉 [viel Unterstützung](./level_3/Level3-75_.ipynb) <br>🥈 [wenig Unterstützung](./level_3/Level3-25_.ipynb) <br>🥇 [keine Unterstützung](./level_3/Level3.ipynb) | 🥉 [viel Unterstützung](./level_4/Level4-75_.ipynb) <br>🥈 [wenig Unterstützung](./level_4/Level4-25_.ipynb) <br>🥇 [keine Unterstützung](./level_4/Level4.ipynb)  | Level 5 |\n",
    "  | Gruppe 3 | 🥉 [viel Unterstützung](./level_1/level_1_75.ipynb) <br>🥈 [wenig Unterstützung](./level_1/level_1_25.ipynb) <br> 🥇 [keine Unterstützung](./level_1/level_1.ipynb) | 🥉 [viel Unterstützung](./level_2/Level2-75_.ipynb) <br>🥈 [wenig Unterstützung](./level_2/Level2-25_.ipynb) <br>🥇 [keine Unterstützung](./level_2/Level2.ipynb) | 🥉 [viel Unterstützung](./level_3/Level3-75_.ipynb) <br>🥈 [wenig Unterstützung](./level_3/Level3-25_.ipynb) <br>🥇 [keine Unterstützung](./level_3/Level3.ipynb) | 🥉 [viel Unterstützung](./level_4/Level4-75_.ipynb) <br>🥈 [wenig Unterstützung](./level_4/Level4-25_.ipynb) <br>🥇 [keine Unterstützung](./level_4/Level4.ipynb)  | Level 5 |\n",
    "  | Gruppe 4 | 🥉 [viel Unterstützung](./level_1/level_1_75.ipynb) <br>🥈 [wenig Unterstützung](./level_1/level_1_25.ipynb) <br> 🥇 [keine Unterstützung](./level_1/level_1.ipynb) | 🥉 [viel Unterstützung](./level_2/Level2-75_.ipynb) <br>🥈 [wenig Unterstützung](./level_2/Level2-25_.ipynb) <br>🥇 [keine Unterstützung](./level_2/Level2.ipynb) | 🥉 [viel Unterstützung](./level_3/Level3-75_.ipynb) <br>🥈 [wenig Unterstützung](./level_3/Level3-25_.ipynb) <br>🥇 [keine Unterstützung](./level_3/Level3.ipynb) | 🥉 [viel Unterstützung](./level_4/Level4-75_.ipynb) <br>🥈 [wenig Unterstützung](./level_4/Level4-25_.ipynb) <br>🥇 [keine Unterstützung](./level_4/Level4.ipynb)  | Level 5 |\n",
    "  | Gruppe 5 | 🥉 [viel Unterstützung](./level_1/level_1_75.ipynb) <br>🥈 [wenig Unterstützung](./level_1/level_1_25.ipynb) <br> 🥇 [keine Unterstützung](./level_1/level_1.ipynb) | 🥉 [viel Unterstützung](./level_2/Level2-75_.ipynb) <br>🥈 [wenig Unterstützung](./level_2/Level2-25_.ipynb) <br>🥇 [keine Unterstützung](./level_2/Level2.ipynb) | 🥉 [viel Unterstützung](./level_3/Level3-75_.ipynb) <br>🥈 [wenig Unterstützung](./level_3/Level3-25_.ipynb) <br>🥇 [keine Unterstützung](./level_3/Level3.ipynb) | 🥉 [viel Unterstützung](./level_4/Level4-75_.ipynb) <br>🥈 [wenig Unterstützung](./level_4/Level4-25_.ipynb) <br>🥇 [keine Unterstützung](./level_4/Level4.ipynb)  | Level 5 |"
   ]
  },
  {
   "cell_type": "code",
   "execution_count": null,
   "metadata": {},
   "outputs": [],
   "source": []
  }
 ],
 "metadata": {
  "file_extension": ".py",
  "kernelspec": {
   "display_name": "Python 3",
   "language": "python",
   "name": "python3"
  },
  "language_info": {
   "codemirror_mode": {
    "name": "ipython",
    "version": 3
   },
   "file_extension": ".py",
   "mimetype": "text/x-python",
   "name": "python",
   "nbconvert_exporter": "python",
   "pygments_lexer": "ipython3",
   "version": "3.7.4"
  },
  "mimetype": "text/x-python",
  "name": "python",
  "npconvert_exporter": "python",
  "pygments_lexer": "ipython3",
  "version": 3
 },
 "nbformat": 4,
 "nbformat_minor": 2
}
