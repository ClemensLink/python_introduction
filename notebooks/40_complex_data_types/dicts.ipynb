{
 "cells": [
  {
   "cell_type": "markdown",
   "metadata": {},
   "source": [
    "# Dictionaries\n",
    "\n",
    "## Voraussetzungen\n",
    "Diese Einheit setzt voraus, dass Sie folgende Inhalte kennen: [Variablen](../20_variables_and_datatypes/10_variables.ipynb), [Ein- und Ausgabe](../20_variables_and_datatypes/20_in_and_output.ipynb), [primitive Datentypen](../20_variables_and_datatypes/30_datatypes.ipynb), [bedingte Anweisungen](../30_conditionals/30_conditionals.ipynb) und [Listen](./lists.ipynb).\n",
    "## Motivation\n",
    "Ein Nachteil der Darstellung von strukturierten Daten als Listen oder Tupel ist, dass man den Index der Element kennen muss. In folgendem Beispiel werden die Daten von Studierenden als Liste dargestllt. Um auf die Vornamen der Studierenden zugreifen zu künnen muss man wissen, dass der Vorname unter den Index 0 gespeichert ist. \n",
    "\n",
    "Dies ist insbesonder dann ein Problem, wenn sich die Datensturktur irgendwann ändert und zusätzliche Daten hinzukommen."
   ]
  },
  {
   "cell_type": "code",
   "execution_count": 2,
   "metadata": {},
   "outputs": [
    {
     "name": "stdout",
     "output_type": "stream",
     "text": [
      "Vornamen:  Max , Lisa , Markus\n"
     ]
    }
   ],
   "source": [
    "students = [[\"Max\", \"Meier\", 12345678, \"mm@web.de\"],[\"Lisa\", \"Müller\", 87654321, \"ml@web.de\"], [\"Markus\", \"Peter\", 11223344, \"mp@google.de\"]]\n",
    "\n",
    "print(\"Vornamen: \", students[0][0], \",\", students[1][0], \",\", students[2][0])"
   ]
  },
  {
   "cell_type": "markdown",
   "metadata": {},
   "source": [
    "## Dictionaries\n",
    "Besser wäre es, wenn die Elemente einen Namen hätten. Genau diese Eigenschaft stellen [`Dictionarie`](https://docs.python.org/3/library/stdtypes.html#mapping-types-dict)s zur Verfügung. Ein `Dictionary` enthälte, genau wie ein Wörterbuch, Paare von Schlüsseln (engl. Key) und zugehörigen Werten (engl. Values). `Dictionaries` werden durch folgende Syntax erstellt: `{<key> : <value> }`."
   ]
  },
  {
   "cell_type": "code",
   "execution_count": 5,
   "metadata": {},
   "outputs": [
    {
     "name": "stdout",
     "output_type": "stream",
     "text": [
      "{'Vorname': 'Max', 'Nachname': 'Meier', 'Matrikelnummer': 12345678, 'Email': 'mm@web.de'}\n"
     ]
    }
   ],
   "source": [
    "s = {\"Vorname\" : \"Max\", \"Nachname\" : \"Meier\", \"Matrikelnummer\" : 12345678, \"Email\" : \"mm@web.de\"}\n",
    "print(s)"
   ]
  },
  {
   "cell_type": "markdown",
   "metadata": {},
   "source": [
    "Der Zugriff aud die Werte eines `Dictionaries`erfolt unter Verwendung der eckigen Klammern (`[]`). Allerdings wird innerhalb der eckigen Klammern kein Index sonder einer der `key`s verwendet."
   ]
  },
  {
   "cell_type": "code",
   "execution_count": 7,
   "metadata": {},
   "outputs": [
    {
     "name": "stdout",
     "output_type": "stream",
     "text": [
      "Max\n",
      "mm@web.de\n"
     ]
    }
   ],
   "source": [
    "vorname = s[\"Vorname\"]\n",
    "print(vorname)\n",
    "\n",
    "print(s[\"Email\"])"
   ]
  },
  {
   "cell_type": "markdown",
   "metadata": {},
   "source": [
    "## Dictionaries können verändert werden\n",
    "`Dictionaries` können auf verschiende Arten verändert werden:\n",
    "- Einzelne Werte können geändert werden\n",
    "- Schlüssel-Wert-Paare können eingefügt werden"
   ]
  },
  {
   "cell_type": "code",
   "execution_count": 12,
   "metadata": {},
   "outputs": [
    {
     "name": "stdout",
     "output_type": "stream",
     "text": [
      "{'Vorname': 'Max', 'Nachname': 'Meier', 'Matrikelnummer': 12345678, 'Email': 'mm1234s@alumni.fh-aachen.de'}\n",
      "{'Vorname': 'Max', 'Nachname': 'Meier', 'Matrikelnummer': 12345678, 'Email': 'mm1234s@alumni.fh-aachen.de', 'Noten': [1.0, 2.3, 4.0]}\n",
      "{'Vorname': 'Max', 'Nachname': 'Meier', 'Email': 'mm1234s@alumni.fh-aachen.de', 'Noten': [1.0, 2.3, 4.0]}\n"
     ]
    }
   ],
   "source": [
    "s = {\"Vorname\" : \"Max\", \"Nachname\" : \"Meier\", \"Matrikelnummer\" : 12345678, \"Email\" : \"mm@web.de\"}\n",
    "s[\"Email\"] = \"mm1234s@alumni.fh-aachen.de\"\n",
    "print(s)\n",
    "\n",
    "s[\"Noten\"] = [1.0, 2.3, 4.0]\n",
    "print(s)\n"
   ]
  },
  {
   "cell_type": "markdown",
   "metadata": {},
   "source": [
    "## Fehlerfreier Zugriff auf Dictionaries\n",
    "Was passiert, falls mit einem `key`, der nicht existiert, auf ein `Dictionary` zugegriffen wird?"
   ]
  },
  {
   "cell_type": "code",
   "execution_count": 14,
   "metadata": {},
   "outputs": [
    {
     "ename": "KeyError",
     "evalue": "'yellow'",
     "output_type": "error",
     "traceback": [
      "\u001b[0;31m------------------------------------------------------------\u001b[0m",
      "\u001b[0;31mKeyError\u001b[0m                   Traceback (most recent call last)",
      "\u001b[0;32m<ipython-input-14-c1993ce9b59b>\u001b[0m in \u001b[0;36m<module>\u001b[0;34m\u001b[0m\n\u001b[1;32m      1\u001b[0m \u001b[0men_de\u001b[0m \u001b[0;34m=\u001b[0m \u001b[0;34m{\u001b[0m \u001b[0;34m\"red\"\u001b[0m \u001b[0;34m:\u001b[0m \u001b[0;34m\"rot\"\u001b[0m\u001b[0;34m,\u001b[0m \u001b[0;34m\"blue\"\u001b[0m \u001b[0;34m:\u001b[0m \u001b[0;34m\"blau\"\u001b[0m\u001b[0;34m,\u001b[0m \u001b[0;34m\"green\"\u001b[0m \u001b[0;34m:\u001b[0m \u001b[0;34m\"grün\"\u001b[0m\u001b[0;34m,\u001b[0m \u001b[0;34m\"pink\"\u001b[0m \u001b[0;34m:\u001b[0m \u001b[0;34m\"rosa\"\u001b[0m\u001b[0;34m}\u001b[0m\u001b[0;34m\u001b[0m\u001b[0;34m\u001b[0m\u001b[0m\n\u001b[0;32m----> 2\u001b[0;31m \u001b[0mprint\u001b[0m\u001b[0;34m(\u001b[0m\u001b[0men_de\u001b[0m\u001b[0;34m[\u001b[0m\u001b[0;34m\"yellow\"\u001b[0m\u001b[0;34m]\u001b[0m\u001b[0;34m)\u001b[0m\u001b[0;34m\u001b[0m\u001b[0;34m\u001b[0m\u001b[0m\n\u001b[0m",
      "\u001b[0;31mKeyError\u001b[0m: 'yellow'"
     ]
    }
   ],
   "source": [
    "en_de = { \"red\" : \"rot\", \"blue\" : \"blau\", \"green\" : \"grün\", \"pink\" : \"rosa\"}\n",
    "print(en_de[\"yellow\"])"
   ]
  },
  {
   "cell_type": "markdown",
   "metadata": {},
   "source": [
    "Mit dem Schlüsselwort `in` kann geprüft werde, ob ein Schlüssel in einem `Dictionary` vorkommt."
   ]
  },
  {
   "cell_type": "code",
   "execution_count": 16,
   "metadata": {},
   "outputs": [
    {
     "name": "stdout",
     "output_type": "stream",
     "text": [
      "Die Übersetzung von yellow ist leider nicht bekannt\n"
     ]
    }
   ],
   "source": [
    "en_de = { \"red\" : \"rot\", \"blue\" : \"blau\", \"green\" : \"grün\", \"pink\" : \"rosa\"}\n",
    "english_word = \"yellow\"\n",
    "\n",
    "if english_word in en_de:\n",
    "     print(\"Die Übersetzung von\", english_word, \"ist\", en_de[english_word])\n",
    "else:\n",
    "     print(\"Die Übersetzung von\", english_word, \"ist leider nicht bekannt\")"
   ]
  },
  {
   "cell_type": "markdown",
   "metadata": {},
   "source": [
    "## Methoden für Dictionaries\n",
    "Auch für [`Dictionaries`](https://docs.python.org/3/library/stdtypes.html#mapping-types-dict) sind in der Python-Standardbibliothek viele nützliche Methoden definiert. Einige dieser Methoden werden in folgendem kurz vorgestellt.\n",
    "\n",
    "Mit `clear()`werden alle Einträge eines `Dictionaries` gelöscht."
   ]
  },
  {
   "cell_type": "code",
   "execution_count": 17,
   "metadata": {},
   "outputs": [
    {
     "name": "stdout",
     "output_type": "stream",
     "text": [
      "{}\n"
     ]
    }
   ],
   "source": [
    "en_de = { \"red\" : \"rot\", \"blue\" : \"blau\", \"green\" : \"grün\", \"pink\" : \"rosa\"}\n",
    "en_de.clear()\n",
    "print(en_de)"
   ]
  },
  {
   "cell_type": "markdown",
   "metadata": {},
   "source": [
    "Die Methode `keys()` liefert alle Schlüsselwerte des `Dictionaries`, die Methode `items()` alle Werte.\n"
   ]
  },
  {
   "cell_type": "code",
   "execution_count": 18,
   "metadata": {},
   "outputs": [
    {
     "name": "stdout",
     "output_type": "stream",
     "text": [
      "dict_keys(['red', 'blue', 'green', 'pink'])\n",
      "dict_values(['rot', 'blau', 'grün', 'rosa'])\n"
     ]
    }
   ],
   "source": [
    "en_de = { \"red\" : \"rot\", \"blue\" : \"blau\", \"green\" : \"grün\", \"pink\" : \"rosa\"}\n",
    "k = en_de.keys()\n",
    "print(k)\n",
    "\n",
    "print(en_de.values())"
   ]
  },
  {
   "cell_type": "markdown",
   "metadata": {},
   "source": [
    "Mit den Methoden `pop(key)` kann eine Schlüssel-Werte-Paar aus dem `Dictionary` entfernt werden. Die Methode liefert den Wert des übergebenen Schlüssel als Rückgabewert."
   ]
  },
  {
   "cell_type": "code",
   "execution_count": 19,
   "metadata": {},
   "outputs": [
    {
     "name": "stdout",
     "output_type": "stream",
     "text": [
      "blau\n",
      "{'red': 'rot', 'green': 'grün', 'pink': 'rosa'}\n"
     ]
    }
   ],
   "source": [
    "en_de = { \"red\" : \"rot\", \"blue\" : \"blau\", \"green\" : \"grün\", \"pink\" : \"rosa\"}\n",
    "übersetzung = en_de.pop(\"blue\")\n",
    "print(übersetzung)\n",
    "print(en_de)"
   ]
  },
  {
   "cell_type": "markdown",
   "metadata": {},
   "source": [
    "Die Methode `popitem()` leifert ein beliebiges Schlüssel-Werte-Paar aus dem `Dictionary` als Rückgabewert. Das  Schlüssel-Werte-Paar wird aus dem `Dictionary`entfernt. "
   ]
  },
  {
   "cell_type": "code",
   "execution_count": 20,
   "metadata": {},
   "outputs": [
    {
     "name": "stdout",
     "output_type": "stream",
     "text": [
      "('pink', 'rosa')\n",
      "{'red': 'rot', 'blue': 'blau', 'green': 'grün'}\n"
     ]
    }
   ],
   "source": [
    "en_de = { \"red\" : \"rot\", \"blue\" : \"blau\", \"green\" : \"grün\", \"pink\" : \"rosa\"}\n",
    "übersetzung = en_de.popitem()\n",
    "print(übersetzung)\n",
    "print(en_de)"
   ]
  },
  {
   "cell_type": "markdown",
   "metadata": {},
   "source": [
    "## Aufgabe - Piratensprache\n",
    "Gegeben ist die untenstehen Übersetzungstabelle von englischen Begriffen in die Piratensprache. fSchreibe Sie ein Programm, dass vom Benutzer als Eingabe einen Satz in englischer Sprache erwartet. Die Ausgabe soll die Übersetzung des Satz in die Piratensprache sein.\n",
    "\n",
    "| Englisch | Piratensprache |\n",
    "|----------|----------------|\n",
    "|sir|matey|\n",
    "|hotel|fleabag inn|\n",
    "|student|swabbie|\n",
    "|boy|matey|\n",
    "|madam|proud beauty|\n",
    "|professor|foul blaggart|\n",
    "|restaurant|galley|\n",
    "|your|yer|\n",
    "|excuse|arr|\n",
    "|students|swabbies|\n",
    "|are|be|\n",
    "|lawyer|foul blaggart|\n",
    "|the|th’|\n",
    "|restroom|head|\n",
    "|my|me|\n",
    "|hello|avast|\n",
    "|is|be|\n",
    "|man|matey|"
   ]
  }
 ],
 "metadata": {
  "file_extension": ".py",
  "kernelspec": {
   "display_name": "Python 3",
   "language": "python",
   "name": "python3"
  },
  "language_info": {
   "codemirror_mode": {
    "name": "ipython",
    "version": 3
   },
   "file_extension": ".py",
   "mimetype": "text/x-python",
   "name": "python",
   "nbconvert_exporter": "python",
   "pygments_lexer": "ipython3",
   "version": "3.8.1"
  },
  "mimetype": "text/x-python",
  "name": "python",
  "npconvert_exporter": "python",
  "pygments_lexer": "ipython3",
  "version": 3
 },
 "nbformat": 4,
 "nbformat_minor": 2
}
