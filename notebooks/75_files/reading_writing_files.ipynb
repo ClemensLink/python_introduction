{
 "nbformat": 4,
 "nbformat_minor": 2,
 "metadata": {
  "language_info": {
   "name": "python",
   "codemirror_mode": {
    "name": "ipython",
    "version": 3
   }
  },
  "orig_nbformat": 2,
  "file_extension": ".py",
  "mimetype": "text/x-python",
  "name": "python",
  "npconvert_exporter": "python",
  "pygments_lexer": "ipython3",
  "version": 3
 },
 "cells": [
  {
   "cell_type": "markdown",
   "metadata": {},
   "source": [
    "# Dateien lesen und schreiben\n",
    "## Voraussetzungen\n",
    "Diese Einheit setzt voraus, dass Sie folgende Inhalte kennen: \n",
    "- [Variablen](../20_variables_and_datatypes/10_variables.ipynb)\n",
    "- [Ein- und Ausgabe](../20_variables_and_datatypes/20_in_and_output.ipynb)\n",
    "- [primitive Datentypen](../20_variables_and_datatypes/30_datatypes.ipynb)\n",
    "- [bedingte Anweisungen](../30_conditionals/conditionals.ipynb)\n",
    "- [komplexe Datentypen](../40_complex_data_types/lists.ipynb)\n",
    "- [Schleifen](../50_loops/for_loop.ipynb)\n",
    "- [Funktionen](../60_functions/functions.ipynb)\n",
    "- [Bibliotheken](../70_libraries/libraries.ipynb)\n",
    "## Motivation\n",
    "Bei der Arbeit mit Computern sind Dateien allgegenwärtig. Dateien werden erstellt, gelesen, geändert, kopiert, verschickt, verschoben, gelöscht, wiederhergestellt, ....\n",
    "\n",
    "Natürlich ist es auch in Python 🐍 möglich mit Dateien zu arbeiten. "
   ]
  },
  {
   "cell_type": "markdown",
   "metadata": {},
   "source": [
    "## Dateien lesen\n",
    "Mit der Python-Funktion `open()` kann eine Datei geöffnet werden. Die Funktion erwartet als Parameter den Pfad einer Datei sowie optional den Modus, in dem die Datei geöffent werden soll. Die verfügbaren Modi sind in der Python-Dokumentation aufgeführt. \n",
    "\n",
    "Folgende Zellen zeigen wie eine Datei im Lesemodus(Parameter `'r'`) geöffent werden kann. Danach wird jeweils der Inhalt der Datei ausgegeben. \n"
   ]
  },
  {
   "cell_type": "code",
   "execution_count": null,
   "metadata": {},
   "outputs": [],
   "source": [
    "#Datei öffnen \n",
    "file = open('lorem_ipsum.txt', 'r')\n",
    "\n",
    "#Datei zeilenweise lesen und die Zeilen ausgeben \n",
    "for line in file:\n",
    "\tprint line\n",
    "\n",
    "#Datei schließen\n",
    "file.close()"
   ]
  },
  {
   "cell_type": "code",
   "execution_count": null,
   "metadata": {},
   "outputs": [],
   "source": [
    "#Datei öffnen\n",
    "file = open('lorem_ipsum.txt', 'r')\n",
    "\n",
    "#Gesamten Dateiinhalt in Variable einlesen\n",
    "file_content = file.readlines()\n",
    "printfile_content)\n",
    "\n",
    "#Datei schließen \n",
    "file.close()"
   ]
  },
  {
   "cell_type": "markdown",
   "metadata": {},
   "source": [
    "dasWie in den vorherigen Beispielen zu sehen müssen Dateien nach dem Öffnen auch immer geschlossen werden. Da das Vergessen des Schließens eine häufige Fehlerursache darstellt, gibt es in Python das Schlüsselwort `with`. Dieses sorg dafür, das geöffnete Dateien immer korrekt geschlossen werden."
   ]
  },
  {
   "cell_type": "code",
   "execution_count": null,
   "metadata": {},
   "outputs": [],
   "source": [
    "#Datei öffnen\n",
    "with open('lorem_ipsum.txt', 'r') as file:\n",
    "\t#Datei zeilenweise lesen und die Zeilen ausgeben \n",
    "\tfor line in file:\n",
    "\t\tprint line\n",
    "\n",
    "#Datei wird automatisch geschlossen "
   ]
  },
  {
   "cell_type": "markdown",
   "metadata": {},
   "source": [
    "## Dateien schreiben\n",
    "Um in eine Datei schreiben zu können muss sie in eine Modus geöffnet werden, der das Schreiben erlaubt (z.B. der Modus `'w'`). Danach kann mit der Methode `write` Daten in die Datei geschrieben werden. Dies wird in folgender Zelle gezeigt. "
   ]
  },
  {
   "cell_type": "code",
   "execution_count": null,
   "metadata": {},
   "outputs": [],
   "source": [
    "with open('zahlen.txt', 'w') as f:\n",
    "\tfor i in range(100):\n",
    "        f.write(i + '\\n')"
   ]
  },
  {
   "cell_type": "markdown",
   "metadata": {},
   "source": [
    "## Aufgabe: CSV Dateien\n",
    "Die Datei `studenten.csv` enthält eine Liste von Studenten im CSV-Format. Verwenden Sie das CSV-Modul um die Datei einzulesen und dann die Namen der Studenten in der Liste auszugeben."
   ]
  },
  {
   "cell_type": "markdown",
   "metadata": {},
   "source": [
    "## Aufgabe: Alice im Wunderland\n",
    "\n",
    "Schreiben Sie ein Programm das eine Textdatei mit dem Namen \n",
    "alice_words.txt erstell. Diese soll eine alphabetische Auflistung aller Wörter und deren Häufigkeit \n",
    "in der Textversion von Alice´s Adventures in Wonderland enthalten. Verwenden Sie Funktionen um Ihr\n",
    "Programm zu strukturieren.\n",
    "\n",
    "Eine Textversion des Buches finden sie in der Datei `alice.txt`.\n",
    "\n",
    "Die ersten 10 Zeilen Ihrer Ausgabedatei sollten in etwa so aussehen:\n",
    "```text\n",
    "Word    Count\n",
    "a       631\n",
    "a-piece 1\n",
    "abide \t1\n",
    "able \t1\n",
    "about \t94\n",
    "above \t3\n",
    "absence 1\n",
    "absurd \t2\n",
    "```\n",
    "\n",
    "Außerdem sollte ihr Programm das längste Wort im Buch ausgeben. Wieviele Zeichen hat dieses Wort?"
   ]
  },
  {
   "cell_type": "code",
   "execution_count": null,
   "metadata": {},
   "outputs": [],
   "source": []
  }
 ]
}