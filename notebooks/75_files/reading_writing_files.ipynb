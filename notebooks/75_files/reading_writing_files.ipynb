{
 "cells": [
  {
   "attachments": {},
   "cell_type": "markdown",
   "metadata": {},
   "source": [
    "# Dateien lesen und schreiben\n",
    "## Voraussetzungen\n",
    "Diese Einheit setzt voraus, dass Sie folgende Inhalte kennen: \n",
    "- [Variablen](../20_variables_and_datatypes/10_variables.ipynb)\n",
    "- [Ein- und Ausgabe](../20_variables_and_datatypes/20_in_and_output.ipynb)\n",
    "- [primitive Datentypen](../20_variables_and_datatypes/30_datatypes.ipynb)\n",
    "- [bedingte Anweisungen](../30_conditionals/conditionals.ipynb)\n",
    "- [komplexe Datentypen](../40_complex_data_types/lists.ipynb)\n",
    "- [Schleifen](../50_loops/for_loop.ipynb)\n",
    "\n",
    "Und zum Teil\n",
    "- [Bibliotheken](../70_libraries/libraries.ipynb)\n",
    "\n",
    "## Motivation\n",
    "Bei der Arbeit mit Computern sind Dateien allgegenwärtig. Dateien werden erstellt, gelesen, geändert, kopiert, verschickt, verschoben, gelöscht, wiederhergestellt, .... und bislang gehen bei unseren Programmen alle Daten verloren, sobald das Programm beendet wird. Mit Hilfe der Dateien ist es möglich, Daten dauerhaft zu speichern (persistent) und später wieder auf eben diese Daten zuzugreifen.\n",
    "\n",
    "Natürlich ist es auch in Python 🐍 möglich mit Dateien zu arbeiten. \n",
    "\n",
    "## Was ist eine Datei?\n",
    "Alle von Ihnen haben schon mit Dateien gearbeitet: Word-Dateien, Excel-Dateien, dieses Notebook, Python-Programme, ... Was ist aber jetzt *genau* eine Datei? Eine mögliche Definition könnte sein:\n",
    "\n",
    "*Eine Datei ist eine Menge von **logisch zusammenhängenden** und meist **sequentiell** geordneten Daten, die auf einem Medium **dauerhaft gespeichert** werden und über einen **Namen** (Identifier) ansprechbar sind.*\n",
    "\n",
    "Schauen Sie sich gerne auch den Artikel zum Thema [Datei](https://de.wikipedia.org/wiki/Datei) auf Wikipedia an.\n",
    "\n",
    "### Beispiel: textdatei.txt\n",
    "Speichern Sie eine einfache Mail als Textdatei (Endung .txt) mit dem Namen textdatei.txt ab. Wie kann man jetzt die obigen Punkte sehen?\n",
    "- der Text der Mail ist in der Regel logisch zusammenhängend, beizieht sich z.B. auf einen Betreff\n",
    "- Der Text ist sequentiell aufgebaut: Eine Zeile folgt auf die andere, in den Zeilen steht ein Wort hinter dem anderen, in den Worten sind die Buchstaben hintereinander aufgereiht.\n",
    "- Die Datei textdatei.txt ist (nachdem Sie diese abgespeichert haben) eben dauerhaft gespeichert. Auch wenn Sie das E-Mail-Programm schließen oder gar den Computer ausschalten, ist die Datei weiter auf dem Speicher des Rechners vorhanden. Sie können die Datei beim nächsten Mal wieder öffnen, auch mit einem anderen Programm.\n",
    "- Die Datei hat einen eindeutigen Namen: textdatei.txt"
   ]
  },
  {
   "cell_type": "markdown",
   "metadata": {},
   "source": [
    "## Wo liegt die Datei?\n",
    "Heutzutage speichern die Programme und Apps die Dateien \"irgendwo\" in den Computern oder in das Smartphone. Sie als Nutzer sollen sich keine Gedanken machen müssen, wo Dateien liegen, wo sie abgespeichert werden. (Wissen Sie, wo Ihre mp3 Dateien auf dem Smartphone liegen?)\n",
    "\n",
    "Wenn Sie mit Programmen auf Dateien zugreifen wollen, müssen Sie wissen, **wo** genau diese Dateien liegen. \n",
    "### Wichtig für dieses Notebook\n",
    "Für dieses und die weiteren Notebooks gilt: Solange nichts anderes angegeben wird, befindet sich die Datei, auf die zugegriffen wird, im gleichen Verzeichnis wie das Notebook. Wenn Sie ein Notebook herunterladen, dann müssen Sie auch die Dateien herunterladen und im gleichen Ordner abspeichern. Sonst funktionieren einige Dinge nicht."
   ]
  },
  {
   "cell_type": "markdown",
   "metadata": {},
   "source": [
    "## In Python auf Dateien zugreifen\n",
    "Der grundsätzliche Umgang mit einer Datei besteht immer aus den folgenden drei Schritten:\n",
    "- Öffnen der Datei und Zuweisung der Datei zu einer Variablen\n",
    "- Bearbeiten der Datei\n",
    "    - Lesen aus Datei (Lesezugriff)\n",
    "    - Schreiben in Datei (Schreibzugriff)\n",
    "- Schließen der Datei\n",
    "\n",
    "Um eine Datei zu öffnen, gibt es die Funktion `open()`. Für den weiteren Umgang mit der Datei gibt es Methoden wie `.write()`, `.read()` oder `.close()`. Darüberhinaus gibt es noch Bibliotheken, die weitere Funktionen für spezielle Dateiformate anbieten wie z.B. .csv, .json, ..."
   ]
  },
  {
   "attachments": {},
   "cell_type": "markdown",
   "metadata": {},
   "source": [
    "## Dateien öffnen\n",
    "Mit der Python-Funktion `open()` kann eine Datei geöffnet werden. Die Funktion erwartet als Parameter den Namen einer Datei. (Dieser kann ggfs. um den Pfad zur Datei erweitert werden, sollte die Datei nicht im gleichen Verzeichnis wie das Programm liegen.) Zusätzlich kann noch optional der Modus angegeben werden, in dem die Datei geöffent werden soll. Die verfügbaren Modi sind in der [Python-Dokumentation](https://docs.python.org/3/tutorial/inputoutput.html#reading-and-writing-files) aufgeführt. Die wichtigsten Modi sind:\n",
    "\n",
    "| Modus | Beschreibung                                  |\n",
    "|:-------|:-----------------------------------------------|\n",
    "| r | Aus der Datei wird nur gelesen. Schreibzugriff führt zu\u000b",
    "\tFehler. Falls Datei nicht existiert --> Fehlermeldung. Am Anfang sitzt der Lesezeiger am Beginn der Datei |\n",
    "| w | In die Datei wird geschrieben. Lesezugriff --> Fehler. Falls \tDatei NICHT existiert, wird eine neue Datei angelegt. Falls\tDatei existiert wird der alte Inhalt gelöscht.|\n",
    "| a | Neue Inhalte können an den alten Inhalt angehängt\twerden (append). Der Schreibzeiger ist auf dem Ende der\tDatei positioniert.|\n",
    "| r+ | Lese- und Schreibzugriff. Fehler, falls Datei nicht existiert.|\n",
    "| w+ | Schreib- und Lesezugriff. Neue Datei, falls Datei nicht \texistiert. Inhalt bestehender Datei wird gelöscht.!|\n",
    "| rb | Der Modus kann um ein \"b\" ergänzt werden. In diesem\u000b",
    "\tFall liegt keine Textdatei sondern eine Binärdatei vor.|\n",
    "\n",
    "Falls kein Modus angegeben wird, ist der Defaultwert `\"r\"`. **Empfehlung:** Geben Sie IMMER einen Modus an. Das vereinfacht die Wartung des Programms.\n",
    "\n",
    "Folgende Zellen zeigen wie eine Datei im Lesemodus(Parameter `'r'`) geöffent werden kann. Danach wird jeweils der Inhalt der Datei ausgegeben. \n",
    "\n",
    "### Beispiele"
   ]
  },
  {
   "cell_type": "code",
   "execution_count": 9,
   "metadata": {},
   "outputs": [],
   "source": [
    "# Datei wird zum Lesen geöffnet. Falls Datei nicht existiert, gibt\n",
    "# es eine Fehlermeldung.\n",
    "file = open(\"lorem_ipsum.txt\", \"r\")\n",
    "file.close()\n",
    "# Eine Datei muss immer geschlossen werden.\n",
    "\n",
    "# Datei wird zum Schreiben geöffnet. Falls Datei nicht existiert wird \n",
    "# eine Neue Datei erzeugt. Falls Datei existiert, wird der Inhalt gelöscht\n",
    "file = open(\"new_file.txt\", \"w\")\n",
    "file.close()\n"
   ]
  },
  {
   "cell_type": "code",
   "execution_count": 1,
   "metadata": {},
   "outputs": [
    {
     "name": "stdout",
     "output_type": "stream",
     "text": [
      "Lorem ipsum dolor sit amet, consectetur adipiscing elit,\n",
      "\n",
      "sed do eiusmod tempor incididunt ut labore et dolore magna aliqua.\n",
      "\n",
      "Ut enim ad minim veniam, quis nostrud exercitation ullamco laboris\n",
      "\n",
      "nisi ut aliquip ex ea commodo consequat. Duis aute irure dolor in\n",
      "\n",
      "reprehenderit in voluptate velit esse cillum dolore eu fugiat nulla\n",
      "\n",
      "pariatur. Excepteur sint occaecat cupidatat non proident, sunt in\n",
      "\n",
      "culpa qui officia deserunt mollit anim id est laborum.\n"
     ]
    }
   ],
   "source": [
    "#Datei öffnen \n",
    "file = open('lorem_ipsum.txt', 'r')\n",
    "\n",
    "#Datei zeilenweise lesen und die Zeilen ausgeben \n",
    "for line in file:\n",
    "\tprint(line)\n",
    "\n",
    "#Datei schließen\n",
    "file.close()"
   ]
  },
  {
   "cell_type": "code",
   "execution_count": null,
   "metadata": {},
   "outputs": [],
   "source": []
  },
  {
   "cell_type": "code",
   "execution_count": 2,
   "metadata": {},
   "outputs": [
    {
     "name": "stdout",
     "output_type": "stream",
     "text": [
      "['Lorem ipsum dolor sit amet, consectetur adipiscing elit,\\n', 'sed do eiusmod tempor incididunt ut labore et dolore magna aliqua.\\n', 'Ut enim ad minim veniam, quis nostrud exercitation ullamco laboris\\n', 'nisi ut aliquip ex ea commodo consequat. Duis aute irure dolor in\\n', 'reprehenderit in voluptate velit esse cillum dolore eu fugiat nulla\\n', 'pariatur. Excepteur sint occaecat cupidatat non proident, sunt in\\n', 'culpa qui officia deserunt mollit anim id est laborum.']\n"
     ]
    }
   ],
   "source": [
    "#Datei öffnen\n",
    "file = open('lorem_ipsum.txt', 'r')\n",
    "\n",
    "#Gesamten Dateiinhalt in Variable einlesen\n",
    "file_content = file.readlines()\n",
    "print(file_content)\n",
    "\n",
    "#Datei schließen \n",
    "file.close()"
   ]
  },
  {
   "cell_type": "markdown",
   "metadata": {},
   "source": [
    "Wie in den vorherigen Beispielen zu sehen müssen Dateien nach dem Öffnen auch immer geschlossen werden. Da das Vergessen des Schließens eine häufige Fehlerursache darstellt, gibt es in Python das Schlüsselwort `with`. Dieses sorg dafür, das geöffnete Dateien immer korrekt geschlossen werden."
   ]
  },
  {
   "cell_type": "code",
   "execution_count": 3,
   "metadata": {},
   "outputs": [
    {
     "name": "stdout",
     "output_type": "stream",
     "text": [
      "Lorem ipsum dolor sit amet, consectetur adipiscing elit,\n",
      "\n",
      "sed do eiusmod tempor incididunt ut labore et dolore magna aliqua.\n",
      "\n",
      "Ut enim ad minim veniam, quis nostrud exercitation ullamco laboris\n",
      "\n",
      "nisi ut aliquip ex ea commodo consequat. Duis aute irure dolor in\n",
      "\n",
      "reprehenderit in voluptate velit esse cillum dolore eu fugiat nulla\n",
      "\n",
      "pariatur. Excepteur sint occaecat cupidatat non proident, sunt in\n",
      "\n",
      "culpa qui officia deserunt mollit anim id est laborum.\n"
     ]
    }
   ],
   "source": [
    "#Datei öffnen\n",
    "with open('lorem_ipsum.txt', 'r') as file:\n",
    "\t#Datei zeilenweise lesen und die Zeilen ausgeben \n",
    "\tfor line in file:\n",
    "\t\tprint(line)\n",
    "\n",
    "#Datei wird automatisch geschlossen "
   ]
  },
  {
   "cell_type": "markdown",
   "metadata": {},
   "source": [
    "## Dateien schreiben\n",
    "Um in eine Datei schreiben zu können muss sie in eine Modus geöffnet werden, der das Schreiben erlaubt (z.B. der Modus `'w'`). Danach kann mit der Methode `write` Daten in die Datei geschrieben werden. Dies wird in folgender Zelle gezeigt. "
   ]
  },
  {
   "cell_type": "code",
   "execution_count": null,
   "metadata": {},
   "outputs": [],
   "source": [
    "with open('zahlen.txt', 'w') as f:\n",
    "    for i in range(100):\n",
    "        f.write(str(i) + '\\n')"
   ]
  },
  {
   "cell_type": "markdown",
   "metadata": {},
   "source": [
    "## Aufgabe: CSV Dateien\n",
    "Die Datei `studenten.csv` enthält eine Liste von Studenten im CSV-Format. Verwenden Sie das CSV-Modul um die Datei einzulesen und dann die Namen der Studenten in der Liste auszugeben."
   ]
  },
  {
   "cell_type": "markdown",
   "metadata": {},
   "source": [
    "## Aufgabe: Alice im Wunderland\n",
    "\n",
    "Schreiben Sie ein Programm das eine Textdatei mit dem Namen \n",
    "alice_words.txt erstell. Diese soll eine alphabetische Auflistung aller Wörter und deren Häufigkeit \n",
    "in der Textversion von Alice´s Adventures in Wonderland enthalten. Verwenden Sie Funktionen um Ihr\n",
    "Programm zu strukturieren.\n",
    "\n",
    "Eine Textversion des Buches finden sie in der Datei `alice.txt`.\n",
    "\n",
    "Die ersten 10 Zeilen Ihrer Ausgabedatei sollten in etwa so aussehen:\n",
    "```text\n",
    "Word    Count\n",
    "a       631\n",
    "a-piece 1\n",
    "abide \t1\n",
    "able \t1\n",
    "about \t94\n",
    "above \t3\n",
    "absence 1\n",
    "absurd \t2\n",
    "```\n",
    "\n",
    "Außerdem sollte ihr Programm das längste Wort im Buch ausgeben. Wieviele Zeichen hat dieses Wort?"
   ]
  },
  {
   "cell_type": "code",
   "execution_count": null,
   "metadata": {},
   "outputs": [],
   "source": []
  }
 ],
 "metadata": {
  "file_extension": ".py",
  "kernelspec": {
   "display_name": "Python 3",
   "language": "python",
   "name": "python3"
  },
  "language_info": {
   "codemirror_mode": {
    "name": "ipython",
    "version": 3
   },
   "file_extension": ".py",
   "mimetype": "text/x-python",
   "name": "python",
   "nbconvert_exporter": "python",
   "pygments_lexer": "ipython3",
   "version": "3.7.6"
  },
  "mimetype": "text/x-python",
  "name": "python",
  "npconvert_exporter": "python",
  "pygments_lexer": "ipython3",
  "version": 3
 },
 "nbformat": 4,
 "nbformat_minor": 2
}
