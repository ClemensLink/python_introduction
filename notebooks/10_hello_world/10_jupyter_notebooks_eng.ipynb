{
 "cells": [
  {
   "cell_type": "markdown",
   "source": [
    "<nav>\n",
    "    <a href=\"10_jupyter_notebooks.ipynb\">&#10157; Deutsch</a>\n",
    "</nav>"
   ],
   "metadata": {
    "collapsed": false
   }
  },
  {
   "cell_type": "markdown",
   "metadata": {},
   "source": [
    "# Introduction to Jupyter notebooks\n",
    "We'll be using Juypter notebooks to introduce you to Python programming. With the Jupyter Software (https://jupyter.org/) special documents, the so-called Jupyter notebooks, can be created. These documents can contain:\n",
    "\n",
    "* Program code\n",
    "* formatted text\n",
    "* Equations\n",
    "* Visualizations\n",
    "\n",
    "They are therefore very well suited for learning a programming language such as Python. In practice, Jupyter notebooks are used for data cleansing and transformation applications, numerical simulation, statistical modeling, data visualization, and machine learning. You can recognize this practical relevance by the fact that practically almost all cloud providers offer hosting options for Jupyter notebooks (Microsoft: (https://notebooks.azure.com/), Google: (https://cloud.google.com/datalab /)).\n",
    "\n",
    "As part of this event, we will provide you with Jupyternotebooks. These notebooks contain both the theoretical ** content of the lecture ** and ** exercises **."
   ]
  },
  {
   "cell_type": "markdown",
   "metadata": {},
   "source": [
    "## The structure of Jupyter notebooks\n",
    "You will find a menu bar in the header of the Jupyter notebook. This contains several typical menus (e.g. file, edit, display or insert). There is a toolbar below the menu bar. The following table gives you an overview of the most important functions of the toolbar. \n",
    "\n",
    "| Icon                                     | Function         |\n",
    "|------------------------------------------|------------------|\n",
    "|![save_icon.png](./img/save_icon.png)|save Notebook|\n",
    "|![plus_icon.png](./img/plus_icon.png)|Add a new cell|\n",
    "|![edit_icon.png](./img/edit_icon.png)|cut, copy, paste|\n",
    "|![run_icon.png](./img/run_icon.png)|run cell|\n",
    "|![cell_type_icon.png](./img/cell_type_icon.png)|change cell type|\n",
    "\n",
    "As you can see from the description of the most important functions, cells are a fundamental part of Jupyter notebooks. Every Jupyter notebook is made up of cells. These cells can contain either **program code** or **formatted text**.\n",
    "\n",
    "### Command mode and edit mode\n",
    "There are two different modes for the cells: Command mode and Edit mode. In the command mode, the markdown cells (text cells) are shown formatted, in the edit mode you can change the cells. A code cell can also be changed in edit mode, i.e. You program. The program is then executed in command mode.\n",
    "Double-click on a cell, then it goes into edit mode. (With the markdown cells the formatting disappears, instead the \"markdown commands\" are visible (see below). With a code cell in edit mode, the cursor simply appears.\n",
    "\n",
    "If you have edited a cell in a Jupyter notebook and want to return to command mode, you have to execute the cell. A cell is executed either by pressing the corresponding button in the toolbar or by pressing the key combination `<Shift> + <Enter>`. After you run a cell, the changes you make are available to other cells. This is particularly important if a cell contains program code on which subsequent cells are based. Within cells, you can use the <Enter> key to create new rows in a cell. You can also use a number of keyboard shortcuts in Jupyter notebooks. These can be viewed via the menu item **Help -> Keyboard shortcuts**."
   ]
  },
  {
   "cell_type": "markdown",
   "metadata": {},
   "source": [
    "## Text cells\n",
    "Within text cells, the markdown format is used to format text. The most important markdown elements are briefly outlined below.\n",
    "### Headlines\n",
    "Headings are represented in markdown by using the `#` sign followed by a space.\n",
    "Example:\n",
    "```\n",
    "# Heading level 1\n",
    "## heading level 2\n",
    "### heading level 3\n",
    "#### heading level 4\n",
    "```\n",
    "\n",
    "Representation in the Juypter notebook:\n",
    "> # Heading level 1\n",
    "> ## heading level 2\n",
    "> ### heading level 3\n",
    "> #### heading level 4\n",
    "\n",
    "### Formatting of characters\n",
    "In Markdown you can use this syntax `* italic *` to display text *italic* or `** bold **` to display text **bold**. You can create a line break with the characters `<br>`. You create a section by inserting a blank line. You can also insert a horizontal line with the characters `***`.\n",
    "\n",
    "### Mathematical formulas\n",
    "To insert mathematical formulas and symbols, use the `$` sign. \n",
    "Example:\n",
    "```\n",
    "$\\frac{n!}{k!(n-k)!} = \\binom{n}{k}$\n",
    "$\\sum_{i=1}^{10} t_i$\n",
    "```\n",
    "Representation in the Jupyter notebook:\n",
    "> $\\frac{n!}{k!(n-k)!} = \\binom{n}{k}$\n",
    "\n",
    "> $\\sum_{i=1}^{10} t_i$\n",
    "\n",
    "### Bulleted lists and numbered lists\n",
    "To create a bullet, use the `*` sign followed by a space. To create sub-items, use a tab followed by a `*` sign and space.\n",
    "Example:\n",
    "```\n",
    "* item 1\n",
    "* item 2\n",
    "    * sub-item 1\n",
    "    * sub-item 2\n",
    "        * another sub-item\n",
    "```\n",
    "\n",
    "Representation in the Jupyter notebook:\n",
    "> * item 1\n",
    "> * item 2\n",
    ">     * sub-item 1\n",
    ">     * sub-item 2\n",
    ">         * another sub-item\n",
    "\n",
    "Numbered lists: create with the characters `1.` followed by a space. Here, too, you can use a tab to get sub numbering.\n",
    "Example:\n",
    "```\n",
    "1. item 1\n",
    "1. item 2\n",
    "    1. sub-item 1\n",
    "    1. sub-item 2\n",
    "        1. another sub-item\n",
    "```\n",
    "\n",
    "Representation in the Jupyter notebook:\n",
    ">1. item 1\n",
    ">1. item 2\n",
    ">    1. sub-item 1\n",
    ">    1. sub-item 2\n",
    ">        1. another sub-item\n",
    "\n",
    "\n",
    "### Graphics\n",
    "You can link image files directly to a Jupyter notebook. To do this, drag and drop your images into the mardown cell to attach them to the notebook.\n",
    "\n",
    "### Links\n",
    "Use the following syntax code to insert a link into the Jupyter Notebook: `http://url` or `[Linktext](http://url)`.\n",
    "Example:\n",
    "```\n",
    "http://www.google.com\n",
    "[FH Aachen](www.fh-aachen.de)\n",
    "```\n",
    "\n",
    "Representation in the Jupyter notebook:\n",
    "\n",
    "http://www.google.com<br>\n",
    "[FH Aachen](www.fh-aachen.de)\n",
    "\n",
    "### Program code\n",
    "You can insert program code in a text cell using the following syntax:\n",
    "![code_snippet.png](./img/code_snippet.png)\n",
    "\n",
    "Representation in the Jupyter notebook:\n",
    "```python\n",
    "for _ in range(10):\n",
    "    print(\"Hello World\")\n",
    "```"
   ]
  },
  {
   "cell_type": "markdown",
   "metadata": {},
   "source": [
    "## Code cells\n",
    "In addition to text cells, a Jupyter notebook can also contain code cells. In these code cells e.g. Python code to be written and executed. If you press `<Shift> - <Enter>` in a code cell, the Python code will be executed in the cell.\n",
    "\n",
    "Test the execution of Python code in the cell below."
   ]
  },
  {
   "cell_type": "code",
   "execution_count": null,
   "metadata": {},
   "outputs": [],
   "source": [
    "for _ in range(8):\n",
    "    print(\"Hello World\")"
   ]
  },
  {
   "cell_type": "markdown",
   "metadata": {},
   "source": [
    "This executes the cell and places the cursor in the next cell. If there is no next cell,\n",
    "a new cell will be created when you are finished. Alternatively, you can\n",
    "Use `<Control> - <Enter>` to run the current cell and keep the cursor in that cell.\n",
    "\n",
    "You can use the `%quickref` command to view a list of helpful commands for code cells. Test this function in the next cell."
   ]
  },
  {
   "cell_type": "code",
   "execution_count": null,
   "metadata": {},
   "outputs": [],
   "source": [
    "%quickref"
   ]
  }
 ],
 "metadata": {
  "kernelspec": {
   "display_name": "Python 3",
   "language": "python",
   "name": "python3"
  },
  "language_info": {
   "codemirror_mode": {
    "name": "ipython",
    "version": 3
   },
   "file_extension": ".py",
   "mimetype": "text/x-python",
   "name": "python",
   "nbconvert_exporter": "python",
   "pygments_lexer": "ipython3",
   "version": "3.7.6"
  },
  "pycharm": {
   "stem_cell": {
    "cell_type": "raw",
    "source": [],
    "metadata": {
     "collapsed": false
    }
   }
  }
 },
 "nbformat": 4,
 "nbformat_minor": 2
}