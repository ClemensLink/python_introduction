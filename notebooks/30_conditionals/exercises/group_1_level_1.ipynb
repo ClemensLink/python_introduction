{
 "cells": [
  {
   "cell_type": "markdown",
   "metadata": {
    "nbgrader": {
     "grade": false,
     "grade_id": "cell-c63b15c4c709146b",
     "locked": true,
     "schema_version": 1,
     "solution": false
    }
   },
   "source": [
    "# Aufgabe 1 \n",
    "\n",
    "Im Rahmen der operativen Planung in einem Handelsunternehmen soll auf der Basis mehrerer gegebener\n",
    "Faktoren eine Einschätzung bezüglich etwaiger Nachbestellungen für ein Produkt getroffen werden. \n",
    "\n",
    "Wurde ein Produkt am Vortag mindestens 100 mal verkauft, so soll dieses gleich 2-fach so oft nachbestellt werden wie es am Vortag verkauft wurde.\n",
    "\n",
    "Implementieren Sie nun die Funktion `reorder`. Die Funktion erhält als Parameter `sales_yesterday` einen Integer Wert, welcher angibt wie oft ein Produkt am Vortag verkauft wurde. Als Ergebnis soll eine neuer Integer Wert `reorder_quantity` erstellt und zurückgegeben werden, welcher angibt wie viele Exemplare des Produktes nachbestellt werden sollen. Soll es nicht nachbestellt werden, so ist die `reorder_quantity` = 0.\n",
    "\n",
    "### Hilfe\n",
    "Sie können Ihre Lösung mit den automatisierten [Tests](#Automatische-Tests) weiter unten im Dokument überprüfen.<br>\n",
    "Eine Einführung in die `Kontrollstrukturen`in Python finden Sie [hier](../../30_conditionals/10_conditionals.ipynb)."
   ]
  },
  {
   "cell_type": "code",
   "execution_count": 8,
   "metadata": {
    "nbgrader": {
     "grade": true,
     "grade_id": "cell-4b9fd4e745d85dde",
     "locked": false,
     "points": 0,
     "schema_version": 1,
     "solution": true
    }
   },
   "outputs": [
    {
     "name": "stdout",
     "output_type": "stream",
     "text": [
      "Wenn Ihre Funktion mit dem Parameter \"sales_yesterday = 500\" aufgerufen wird ist das Ergebnis: 1000\n"
     ]
    }
   ],
   "source": [
    "def reorder(sales_yesterday):\n",
    "    \n",
    "    ###BEGIN SOLUTION\n",
    "    reorder_quantity = 0\n",
    "    if sales_yesterday >= 100:\n",
    "        reorder_quantity = sales_yesterday * 2\n",
    "    ###END SOLUTION\n",
    "    return reorder_quantity\n",
    "\n",
    "print(\"Wenn Ihre Funktion mit dem Parameter \\\"sales_yesterday = 500\\\" aufgerufen wird ist das Ergebnis:\", reorder(500))"
   ]
  },
  {
   "cell_type": "markdown",
   "metadata": {
    "nbgrader": {
     "grade": false,
     "grade_id": "cell-5ad0fc93c678d720",
     "locked": true,
     "schema_version": 1,
     "solution": false
    }
   },
   "source": [
    "***\n",
    "# Automatische Tests\n",
    "Ab hier finden Sie einige automatisierte Tests um Ihre Lösungen zu überprüfen. Um Ihre Lösung zu prüfen führen Sie bitte zuerst die Zelle mit Ihrer Lösung und danach die Zelle mit dem zugehörigen Test aus.\n"
   ]
  },
  {
   "cell_type": "code",
   "execution_count": 10,
   "metadata": {
    "nbgrader": {
     "grade": true,
     "grade_id": "cell-b5a615ac2b243b94",
     "locked": true,
     "points": 0,
     "schema_version": 1,
     "solution": false
    }
   },
   "outputs": [],
   "source": [
    "try:\n",
    "    reorder(500)\n",
    "except NotImplementedError:\n",
    "    print(\"Bitte entfernen Sie das \\\"raise NotImplementedError()\\\"\")"
   ]
  },
  {
   "cell_type": "markdown",
   "metadata": {
    "nbgrader": {
     "grade": false,
     "grade_id": "cell-84bfc5c49589fbc2",
     "locked": true,
     "schema_version": 1,
     "solution": false
    }
   },
   "source": [
    "## Test 1 - Korrekte Bedingung\n",
    "Die Menge an zu bestellenden Produkten (`reorder_quantity`) soll sich ändern wenn das Produkt am Vortag mindestens 100 mal verkauft wurde. Ansonsten soll sie gleich 0 sein."
   ]
  },
  {
   "cell_type": "code",
   "execution_count": 12,
   "metadata": {
    "nbgrader": {
     "grade": true,
     "grade_id": "cell-bc1532af7f2c9581",
     "locked": true,
     "points": 0,
     "schema_version": 1,
     "solution": false
    }
   },
   "outputs": [
    {
     "name": "stdout",
     "output_type": "stream",
     "text": [
      "Test 1 erfolgreich\n",
      "Test 2 erfolgreich\n"
     ]
    }
   ],
   "source": [
    "from nose.tools import assert_equal, assert_not_equal\n",
    "\n",
    "sales_yesterday = 50\n",
    "reorder_quantity = reorder(sales_yesterday)\n",
    "try:\n",
    "    assert_equal(reorder_quantity, 0)\n",
    "    print(\"Test 1 erfolgreich\")\n",
    "except AssertionError as e:\n",
    "    print(\"Das Ergebnis soll 0 sein wenn das Produkt weniger als 100 mal verkauft wurde.\")\n",
    "    print(e)\n",
    "    \n",
    "    \n",
    "sales_yesterday = 500\n",
    "reorder_quantity = reorder(sales_yesterday)\n",
    "try:\n",
    "    assert_not_equal(reorder_quantity, 0)\n",
    "    print(\"Test 2 erfolgreich\")\n",
    "except AssertionError as e:\n",
    "    print(\"Das Ergebnis soll nicht 0 sein wenn das Produkt nachbestellt werden muss.\")\n",
    "    print(e)"
   ]
  },
  {
   "cell_type": "markdown",
   "metadata": {
    "nbgrader": {
     "grade": false,
     "grade_id": "cell-d6ee668cb5c13cc6",
     "locked": true,
     "schema_version": 1,
     "solution": false
    }
   },
   "source": [
    "## Test 2 - Beachtung der Randfälle\n",
    "Die Menge an zu bestellenden Produkten (`reorder_quantity`) soll sich ändern wenn das Produkt am Vortag **mindestens** 100 mal verkauft wurde.  \n",
    "Das heißt sollte es **genau** 100 mal verkauft worden sein, so soll auch eine Bestellmenge != 0 angegeben werden."
   ]
  },
  {
   "cell_type": "code",
   "execution_count": 14,
   "metadata": {
    "nbgrader": {
     "grade": true,
     "grade_id": "cell-9f37475cda6603bd",
     "locked": true,
     "points": 0,
     "schema_version": 1,
     "solution": false
    }
   },
   "outputs": [
    {
     "name": "stdout",
     "output_type": "stream",
     "text": [
      "Test 1 erfolgreich\n"
     ]
    }
   ],
   "source": [
    "from nose.tools import assert_equal, assert_not_equal\n",
    "\n",
    "sales_yesterday = 100\n",
    "reorder_quantity = reorder(sales_yesterday)\n",
    "try:\n",
    "    assert_not_equal(reorder_quantity, 0)\n",
    "    print(\"Test 1 erfolgreich\")\n",
    "except AssertionError as e:\n",
    "    print(\"Das Ergebnis soll nicht 0 sein auch wenn die Bedingung nur gerade so erfüllt ist\")\n",
    "    print(e)"
   ]
  },
  {
   "cell_type": "markdown",
   "metadata": {
    "nbgrader": {
     "grade": false,
     "grade_id": "cell-a098fc3d69558863",
     "locked": true,
     "schema_version": 1,
     "solution": false
    }
   },
   "source": [
    "## Test 3 - Korrekte Berechnung der Bestellmenge\n",
    "Die Menge an zu bestellenden Produkten (`reorder_quantity`) soll korrekt berechnet werden. Nämlich das 2-fache der Verkaufsmenge des Vortages"
   ]
  },
  {
   "cell_type": "code",
   "execution_count": 15,
   "metadata": {
    "nbgrader": {
     "grade": true,
     "grade_id": "cell-b7ba8a17f5efa24a",
     "locked": true,
     "points": 0,
     "schema_version": 1,
     "solution": false
    }
   },
   "outputs": [
    {
     "name": "stdout",
     "output_type": "stream",
     "text": [
      "Test 1 erfolgreich\n"
     ]
    }
   ],
   "source": [
    "from nose.tools import assert_equal, assert_not_equal\n",
    "\n",
    "sales_yesterday = 345\n",
    "reorder_quantity = reorder(sales_yesterday)\n",
    "try:\n",
    "    assert_equal(reorder_quantity, 690)\n",
    "    print(\"Test 1 erfolgreich\")\n",
    "except AssertionError as e:\n",
    "    print(\"Das Ergebnis soll 2 mal so groß sein wie \\\"sales_yesterday\\\".\")\n",
    "    print(e)"
   ]
  }
 ],
 "metadata": {
  "celltoolbar": "Create Assignment",
  "file_extension": ".py",
  "kernelspec": {
   "display_name": "Python 3",
   "language": "python",
   "name": "python3"
  },
  "language_info": {
   "codemirror_mode": {
    "name": "ipython",
    "version": 3
   },
   "file_extension": ".py",
   "mimetype": "text/x-python",
   "name": "python",
   "nbconvert_exporter": "python",
   "pygments_lexer": "ipython3",
   "version": "3.7.2"
  },
  "mimetype": "text/x-python",
  "name": "python",
  "npconvert_exporter": "python",
  "pygments_lexer": "ipython3",
  "version": 3
 },
 "nbformat": 4,
 "nbformat_minor": 2
}
