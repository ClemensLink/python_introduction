{
 "cells": [
  {
   "cell_type": "markdown",
   "metadata": {
    "nbgrader": {
     "grade": false,
     "grade_id": "cell-c256f9d5ceabb1c2",
     "locked": true,
     "schema_version": 1,
     "solution": false
    }
   },
   "source": [
    "# Aufgabe 3\n",
    "\n",
    "Im Rahmen der operativen Planung in einem Handelsunternehmen soll erneut auf der Basis mehrerer gegebener\n",
    "Faktoren eine Einschätzung bezüglich etwaiger Nachbestellungen für ein Produkt getroffen werden. \n",
    "\n",
    "Ist die Lagermenge eines bestimmten Produktes unter oder gleich dem Meldebestand, so soll dieses Produkt automatisch 1000 mal nachbestellt werden. Allerdings, sollte das Produkt nicht den Meldebestand erreicht haben, so muss geprüft werden ob ein manuell eingetragener Wunsch zur Nachbestellung vorliegt. Wenn ja wird halb so viel wie normalerweise bestellt (500). Sollte keiner der beiden Fälle eintreten soll außerdem \"Status OK\" mittels print() in die Konsole ausgegeben werden.\n",
    "\n",
    "Implementieren Sie nun die Funktion `reorder`. Die Funktion erhält als Parameter `reorder_level` einen Integer Wert, welcher den Meldebestand angibt.  \n",
    "Sowie `stock_today`, welcher angibt wie oft das Produkt an diesem Morgen noch im Lager vorrätig ist.  \n",
    "Der dritte Parameter `manual_reorder` ist vom Typ Boolean und ist sobald ein manuel eingetragener Nachbestellwunsch vorliegt = True.  \n",
    "Als Ergebnis soll eine neuer Integer Wert `reorder_quantity` erstellt und zurückgegeben werden, welcher angibt wie viele Exemplare des Produktes nachbestellt werden sollen. Soll es nicht nachbestellt werden, so ist die `reorder_quantity` = 0.\n",
    "\n",
    "## Wichtige Hinweise\n",
    "Bisher haben Sie im Rahmen dieser Einführung in Python Funktionen noch nicht kennen gelernt. Aus diesem Grund hier ein paar Hinweise zum Umgang mit Funktionen im Rahmen dieser Übungsaufgaben:\n",
    "\n",
    "1. Erstellen Sie Ihre Lösung innerhalb des mit `### START` und `### ENDE` markierten Bereichs. Ändern Sie den Programmcode außerhalb des markierten Bereichs nicht. \n",
    "1. Funktionen besitzen Parameter. Diese Parameter haben Namen. Behandel Sie die Parameter einfach wie Variablen in Ihrer Lösung. \n",
    "1. Bitte löschen Sie ggf die Zeile `raise NotImplementedError()`\n",
    "\n",
    "### Hilfe\n",
    "Sie können Ihre Lösung mit den automatisierten [Tests](#Automatische-Tests) weiter unten im Dokument überprüfen.<br>\n",
    "Eine Einführung in die `Kontrollstrukturen`in Python finden Sie [hier](../../30_conditionals/10_conditionals.ipynb)."
   ]
  },
  {
   "cell_type": "code",
   "execution_count": 1,
   "metadata": {
    "nbgrader": {
     "grade": false,
     "grade_id": "cell-34146920188d4f1e",
     "locked": false,
     "schema_version": 1,
     "solution": true
    }
   },
   "outputs": [
    {
     "name": "stdout",
     "output_type": "stream",
     "text": [
      "Wenn Ihre Funktion mit den Parametern \"reorder_level = 500\", \"stock_today = 499\", \"manual_reorder = False\" aufgerufen wird ist das Ergebnis: 1000\n"
     ]
    }
   ],
   "source": [
    "def reorder(reorder_level, stock_today, manual_reorder):\n",
    "    ###START\n",
    "    \n",
    "    reorder_quantity = 0\n",
    "    if stock_today <= reorder_level:\n",
    "        reorder_quantity = 1000\n",
    "    elif #Bedingung:\n",
    "        reorder_quantity = 500\n",
    "    else:\n",
    "        print(\"Status OK\")\n",
    "    \n",
    "    ###ENDE\n",
    "    return reorder_quantity\n",
    "\n",
    "\n",
    "print(\"Wenn Ihre Funktion mit den Parametern \\\"reorder_level = 500\\\", \\\"stock_today = 499\\\", \\\"manual_reorder = False\\\" aufgerufen wird ist das Ergebnis:\", reorder(500, 499, False))"
   ]
  },
  {
   "cell_type": "markdown",
   "metadata": {
    "nbgrader": {
     "grade": false,
     "grade_id": "cell-25f012d566d40313",
     "locked": true,
     "schema_version": 1,
     "solution": false
    }
   },
   "source": [
    "***\n",
    "# Automatische Tests\n",
    "Ab hier finden Sie einige automatisierte Tests um Ihre Lösungen zu überprüfen. Um Ihre Lösung zu prüfen führen Sie bitte zuerst die Zelle mit Ihrer Lösung und danach die Zelle mit dem zugehörigen Test aus.\n"
   ]
  },
  {
   "cell_type": "code",
   "execution_count": 2,
   "metadata": {
    "nbgrader": {
     "grade": true,
     "grade_id": "cell-14d1e232dfce8578",
     "locked": true,
     "points": 0,
     "schema_version": 1,
     "solution": false
    }
   },
   "outputs": [],
   "source": [
    "try:\n",
    "    reorder(500, 499, False)\n",
    "except NotImplementedError:\n",
    "    print(\"Bitte entfernen Sie das \\\"raise NotImplementedError()\\\"\")"
   ]
  },
  {
   "cell_type": "markdown",
   "metadata": {
    "nbgrader": {
     "grade": false,
     "grade_id": "cell-7537d27b3f9fcbfe",
     "locked": true,
     "schema_version": 1,
     "solution": false
    }
   },
   "source": [
    "## Test 1 - Korrekte Bedingungen\n",
    "Die Menge an zu bestellenden Produkten (`reorder_quantity`) soll 1000 sein wenn der Meldebestand erreicht ist.  \n",
    "Es soll außerdem 500 sein wenn ein manueller Bestellwunsch vorliegt oder 0 wenn keiner vorliegt und der Meldebestand nicht erreicht ist."
   ]
  },
  {
   "cell_type": "code",
   "execution_count": 3,
   "metadata": {
    "nbgrader": {
     "grade": true,
     "grade_id": "cell-89c9f525adde2701",
     "locked": true,
     "points": 0,
     "schema_version": 1,
     "solution": false
    }
   },
   "outputs": [
    {
     "name": "stdout",
     "output_type": "stream",
     "text": [
      "Test 1 erfolgreich\n",
      "Status OK\n",
      "Test 2 erfolgreich\n",
      "Status OK\n",
      "Test 3 erfolgreich\n",
      "Test 4 erfolgreich\n"
     ]
    }
   ],
   "source": [
    "from nose.tools import assert_equal\n",
    "\n",
    "reorder_level = 500\n",
    "stock_today = 499\n",
    "manual_reorder = False\n",
    "reorder_quantity = reorder(reorder_level, stock_today, manual_reorder)\n",
    "try:\n",
    "    assert_equal(reorder_quantity, 1000)\n",
    "    print(\"Test 1 erfolgreich\")\n",
    "except AssertionError as e:\n",
    "    print(\"Das Ergebnis soll 1000 sein wenn der Meldebestand erreicht wurde\")\n",
    "    print(e)\n",
    "    \n",
    "    \n",
    "reorder_level = 500\n",
    "stock_today = 501\n",
    "manaul_reorder = False\n",
    "reorder_quantity = reorder(reorder_level, stock_today, manual_reorder)\n",
    "try:\n",
    "    assert_equal(reorder_quantity, 0)\n",
    "    print(\"Test 2 erfolgreich\")\n",
    "except AssertionError as e:\n",
    "    print(\"Das Ergebnis soll 0 sein wenn der Meldebestand nicht erreicht wurde und keine manueller Bestellwunsch geäußert wurde\")\n",
    "    print(e)\n",
    "\n",
    "    \n",
    "reorder_level = 500\n",
    "stock_today = 501\n",
    "manaul_reorder = True\n",
    "reorder_quantity = reorder(reorder_level, stock_today, manual_reorder)\n",
    "try:\n",
    "    assert_equal(reorder_quantity, 0)\n",
    "    print(\"Test 3 erfolgreich\")\n",
    "except AssertionError as e:\n",
    "    print(\"Das Ergebnis soll 500 sein wenn ein manueller Bestellwunsch vorliegt aber der Meldebestand nicht erreicht wurde.\")\n",
    "    print(e)\n",
    "    \n",
    "    \n",
    "reorder_level = 500\n",
    "stock_today = 499\n",
    "manaul_reorder = True\n",
    "reorder_quantity = reorder(reorder_level, stock_today, manual_reorder)\n",
    "try:\n",
    "    assert_equal(reorder_quantity, 1000)\n",
    "    print(\"Test 4 erfolgreich\")\n",
    "except AssertionError as e:\n",
    "    print(\"Das Ergebnis soll 1000 sein wenn der Meldebestand erreicht wurde, unabhängig davon ob ein Bestellwunsch vorliegt\")\n",
    "    print(e)"
   ]
  }
 ],
 "metadata": {
  "celltoolbar": "Create Assignment",
  "file_extension": ".py",
  "kernelspec": {
   "display_name": "Python 3",
   "language": "python",
   "name": "python3"
  },
  "language_info": {
   "codemirror_mode": {
    "name": "ipython",
    "version": 3
   },
   "file_extension": ".py",
   "mimetype": "text/x-python",
   "name": "python",
   "nbconvert_exporter": "python",
   "pygments_lexer": "ipython3",
   "version": "3.7.2"
  },
  "mimetype": "text/x-python",
  "name": "python",
  "npconvert_exporter": "python",
  "pygments_lexer": "ipython3",
  "version": 3
 },
 "nbformat": 4,
 "nbformat_minor": 2
}
