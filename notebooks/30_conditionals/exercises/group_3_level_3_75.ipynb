{
 "cells": [
  {
   "cell_type": "markdown",
   "metadata": {
    "nbgrader": {
     "grade": false,
     "grade_id": "cell-2819ebe3abe206d9",
     "locked": true,
     "schema_version": 1,
     "solution": false
    }
   },
   "source": [
    "# Aufgabe 3 \n",
    "\n",
    "In einer Bank sollen Kreditkartenanträge zukünftig mittels eines Computerprogramms automatisch bearbeitet werden. Sie sollen nun das Regelwerk zur Entscheidung über Anträge mittels `Conditionals` in einem Python Programm umsetzen.  \n",
    "Im diesem Schritt wollen Sie die beiden vorherigen Schritte kombinieren und zusätzlich ein Limit für Kreditkarten festlegen, abhängig vom monatlichen Einkommen des Antragstellers.  \n",
    "Prüfen Sie zunächst ob der Antragsteller unter 18 Jahren alt ist. Ist dies der Fall so soll keine Kreditkarte ausgestellt werden. Andernfalls soll geprüft werden ob der Antragsteller mehr als 3000€ verdient. In diesem Fall soll eine Kreditkarte ausgestellt werden mit einem Limit von 4000€. Ist dies nicht der Fall, so soll trotzdem geprüft werden ob der Antragsteller mehr als 1500€ verdient, damit eine Kreditkarte mit einem Limit von 2000€ ausgestellt werden kann. Andernfalls wird keine Kreditkarte ausgestellt.\n",
    "\n",
    "Implementieren Sie nun die Funktion `request_verification`. Diese Funktion erhält einen Parameter `monthly_income`, welcher in Form eines float-Wertes das monatliche Einkommen des Antragstellers speichert. Sowie einen zweiten Parameter `age`, welcher in Form eines integer-Wertes das Alter des Antragstellers speichert.  \n",
    "Als Ergebnis soll in Form eines Integer-Wertes das Kartenlimit zurückgegeben werden. Ist der Antragsteller unter 18 Jahren alt so setzen Sie das Limit auf -1 um deutlich zu machen, dass keine Karte ausgestellt werden soll.  \n",
    "**Geben Sie zusätzlich mittels print() eine Meldung in die Konsole aus ob der Antrag abgelehnt oder angenommen wurde.**\n",
    "\n",
    "\n",
    "\n",
    "### Hilfe\n",
    "Sie können Ihre Lösung mit den automatisierten [Tests](#Automatische-Tests) weiter unten im Dokument überprüfen.<br>\n",
    "Eine Einführung in die `Kontrollstrukturen`in Python finden Sie [hier](../../30_conditionals/10_conditionals.ipynb)."
   ]
  },
  {
   "cell_type": "code",
   "execution_count": 6,
   "metadata": {
    "nbgrader": {
     "grade": false,
     "grade_id": "cell-11685dc7b37211f7",
     "locked": false,
     "schema_version": 1,
     "solution": true
    }
   },
   "outputs": [
    {
     "name": "stdout",
     "output_type": "stream",
     "text": [
      "Antrag abgelehnt\n",
      "Wenn Ihre Funktion mit den Parametern \"monthly_income = 500\" und \"age = 25\" aufgerufen wird ist das Ergebnis: -1\n"
     ]
    }
   ],
   "source": [
    "def request_verification(monthly_income, age):\n",
    "    \n",
    "    limit = 0\n",
    "    if #Prüfen ob Person jünger als 18 Jahre ist:\n",
    "        limit = -1\n",
    "        print(\"Antrag abgelehnt\")\n",
    "    elif #Prüfen ob EInkommen über 3000€ ist:\n",
    "        limit = 4000\n",
    "        print(\"Antrag angenommen\")\n",
    "    elif #Prüfen ob Einkommen über 1500€ ist:\n",
    "        limit = 2000\n",
    "        print(\"Antrag angenommen\")\n",
    "    else:\n",
    "        limit = -1\n",
    "        print(\"Antrag abgelehnt\")\n",
    "        \n",
    "    return limit\n",
    "\n",
    "\n",
    "print(\"Wenn Ihre Funktion mit den Parametern \\\"monthly_income = 500\\\" und \\\"age = 25\\\" aufgerufen wird ist das Ergebnis:\", request_verification(500, 25))"
   ]
  },
  {
   "cell_type": "markdown",
   "metadata": {
    "nbgrader": {
     "grade": false,
     "grade_id": "cell-29c1cc2d8447dc28",
     "locked": true,
     "schema_version": 1,
     "solution": false
    }
   },
   "source": [
    "***\n",
    "# Automatische Tests\n",
    "Ab hier finden Sie einige automatisierte Tests um Ihre Lösungen zu überprüfen. Um Ihre Lösung zu prüfen führen Sie bitte zuerst die Zelle mit Ihrer Lösung und danach die Zelle mit dem zugehörigen Test aus.\n"
   ]
  },
  {
   "cell_type": "code",
   "execution_count": 7,
   "metadata": {
    "nbgrader": {
     "grade": true,
     "grade_id": "cell-746d2425f28cb0c6",
     "locked": true,
     "points": 0,
     "schema_version": 1,
     "solution": false
    }
   },
   "outputs": [
    {
     "name": "stdout",
     "output_type": "stream",
     "text": [
      "Antrag abgelehnt\n"
     ]
    }
   ],
   "source": [
    "try:\n",
    "    request_verification(500, 25)\n",
    "except NotImplementedError:\n",
    "    print(\"Bitte entfernen Sie das \\\"raise NotImplementedError()\\\"\")"
   ]
  },
  {
   "cell_type": "markdown",
   "metadata": {
    "nbgrader": {
     "grade": false,
     "grade_id": "cell-fd302113e31b4328",
     "locked": true,
     "schema_version": 1,
     "solution": false
    }
   },
   "source": [
    "## Test 1 - Korrekte Bedingungen\n",
    "Der Rückgabewert (`limit`) soll *2000* betragen, falls der Antragsteller über 18 Jahren alt ist und über 1500€ monatlich verdient. Sollte der Antragsteller über 3000€ verdienen und über 18 Jahren alt sein, so soll der Rückgabewert *4000* betragen. Andernfalls soll der Rückgabewert *-1* sein."
   ]
  },
  {
   "cell_type": "code",
   "execution_count": 8,
   "metadata": {
    "nbgrader": {
     "grade": true,
     "grade_id": "cell-f074918e652fa2b5",
     "locked": true,
     "points": 0,
     "schema_version": 1,
     "solution": false
    }
   },
   "outputs": [
    {
     "name": "stdout",
     "output_type": "stream",
     "text": [
      "Antrag angenommen\n",
      "Test 1 erfolgreich\n",
      "Antrag angenommen\n",
      "Test 2 erfolgreich\n",
      "Antrag abgelehnt\n",
      "Test 3 erfolgreich\n",
      "Antrag abgelehnt\n",
      "Test 4 erfolgreich\n",
      "Antrag abgelehnt\n",
      "Test 5 erfolgreich\n"
     ]
    }
   ],
   "source": [
    "from nose.tools import assert_equal\n",
    "\n",
    "monthly_income = 2500\n",
    "age = 25\n",
    "limit = request_verification(monthly_income, age)\n",
    "try:\n",
    "    assert_equal(limit, 2000)\n",
    "    print(\"Test 1 erfolgreich\")\n",
    "except AssertionError as e:\n",
    "    print(\"Das Ergebnis soll 2000 betragen wenn der Antragsteller ein Einkommen von über 1500€ hat und über 18 Jahren alt ist.\")\n",
    "    print(e)\n",
    "    \n",
    "    \n",
    "monthly_income = 3500\n",
    "age = 25\n",
    "limit = request_verification(monthly_income, age)\n",
    "try:\n",
    "    assert_equal(limit, 4000)\n",
    "    print(\"Test 2 erfolgreich\")\n",
    "except AssertionError as e:\n",
    "    print(\"Das Ergebnis soll 4000 betragen wenn der Antragsteller ein Einkommen von über 3000€ hat und über 18 Jahren alt ist.\")\n",
    "    print(e)\n",
    "    \n",
    "    \n",
    "monthly_income = 3500\n",
    "age = 17\n",
    "limit = request_verification(monthly_income, age)\n",
    "try:\n",
    "    assert_equal(limit, -1)\n",
    "    print(\"Test 3 erfolgreich\")\n",
    "except AssertionError as e:\n",
    "    print(\"Das Ergebnis soll -1 sein wenn der Antragsteller unter 18 Jahren alt ist. Dies ist unabhängig von seinem Einkommen.\")\n",
    "    print(e)\n",
    "    \n",
    "    \n",
    "monthly_income = 1600\n",
    "age = 17\n",
    "limit = request_verification(monthly_income, age)\n",
    "try:\n",
    "    assert_equal(limit, -1)\n",
    "    print(\"Test 4 erfolgreich\")\n",
    "except AssertionError as e:\n",
    "    print(\"Das Ergebnis soll -1 sein wenn der Antragsteller unter 18 Jahren alt ist. Dies ist unabhängig von seinem Einkommen.\")\n",
    "    print(e)\n",
    "    \n",
    "    \n",
    "monthly_income = 1300\n",
    "age = 20\n",
    "limit = request_verification(monthly_income, age)\n",
    "try:\n",
    "    assert_equal(limit, -1)\n",
    "    print(\"Test 5 erfolgreich\")\n",
    "except AssertionError as e:\n",
    "    print(\"Das Ergebnis soll -1 sein wenn der Antragsteller weniger als 1500€ monatlich verdient. Dies ist unabhängig von seinem Alter.\")\n",
    "    print(e)\n",
    "    \n",
    "    "
   ]
  },
  {
   "cell_type": "markdown",
   "metadata": {
    "nbgrader": {
     "grade": false,
     "grade_id": "cell-c7fb417a42d69e1c",
     "locked": true,
     "schema_version": 1,
     "solution": false
    }
   },
   "source": [
    "## Test 2 - Beachtung von Randfällen\n",
    "Der Rückgabewert (`limit`) soll auch dann *-1* sein wenn der Antragsteller ein monatliches Einkommen von genau 1500€ hat. Jedoch soll der Wert schon *2000* betragen wenn das Einkommen nur minimal über 1500€ liegt."
   ]
  },
  {
   "cell_type": "code",
   "execution_count": 9,
   "metadata": {
    "nbgrader": {
     "grade": true,
     "grade_id": "cell-ece4c74b4f1c6278",
     "locked": true,
     "points": 0,
     "schema_version": 1,
     "solution": false
    }
   },
   "outputs": [
    {
     "name": "stdout",
     "output_type": "stream",
     "text": [
      "Antrag abgelehnt\n",
      "Test 1 erfolgreich\n",
      "Antrag angenommen\n",
      "Test 2 erfolgreich\n"
     ]
    }
   ],
   "source": [
    "from nose.tools import assert_equal\n",
    "\n",
    "monthly_income = 1500\n",
    "age = 25\n",
    "limit = request_verification(monthly_income, age)\n",
    "try:\n",
    "    assert_equal(limit, -1)\n",
    "    print(\"Test 1 erfolgreich\")\n",
    "except AssertionError as e:\n",
    "    print(\"Das Ergebnis soll auch dann -1 sein wenn der Antragsteller ein Einkommen von genau 1500€ hat.\")\n",
    "    print(e)\n",
    "    \n",
    "    \n",
    "monthly_income = 1500.01\n",
    "age = 25\n",
    "limit = request_verification(monthly_income, age)\n",
    "try:\n",
    "    assert_equal(limit, 2000)\n",
    "    print(\"Test 2 erfolgreich\")\n",
    "except AssertionError as e:\n",
    "    print(\"Das Ergebnis soll auch dann 2000 betragen wenn der Antragsteller ein Einkommen von minimal mehr als 1500€ hat und über 18 Jahren alt ist.\")\n",
    "    print(e)\n",
    "\n"
   ]
  }
 ],
 "metadata": {
  "celltoolbar": "Create Assignment",
  "file_extension": ".py",
  "kernelspec": {
   "display_name": "Python 3",
   "language": "python",
   "name": "python3"
  },
  "language_info": {
   "codemirror_mode": {
    "name": "ipython",
    "version": 3
   },
   "file_extension": ".py",
   "mimetype": "text/x-python",
   "name": "python",
   "nbconvert_exporter": "python",
   "pygments_lexer": "ipython3",
   "version": "3.7.2"
  },
  "mimetype": "text/x-python",
  "name": "python",
  "npconvert_exporter": "python",
  "pygments_lexer": "ipython3",
  "version": 3
 },
 "nbformat": 4,
 "nbformat_minor": 2
}
