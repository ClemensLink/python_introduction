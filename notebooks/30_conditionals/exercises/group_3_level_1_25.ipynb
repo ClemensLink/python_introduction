{
 "cells": [
  {
   "cell_type": "markdown",
   "metadata": {
    "nbgrader": {
     "grade": false,
     "grade_id": "cell-9452fa29021875a8",
     "locked": true,
     "schema_version": 1,
     "solution": false
    }
   },
   "source": [
    " # Aufgabe 1\n",
    "\n",
    " In einer Bank sollen Kreditkartenanträge zukünftig mittels eines Computerprogramms automatisch bearbeitet werden. Sie sollen nun das Regelwerk zur Entscheidung über Anträge mittels `Conditionals` in einem Python Programm umsetzen.\n",
    " In diesem ersten Schritt soll überprüft werden ob ein Antragsteller jünger als 18 Jahren alt ist. In diesem Fall soll keine Kreditkarte ausgestellt werden. Alle Antragsteller ab 18 Jahren sind berechtigt eine Kreditkarte zu erhalten.\n",
    "\n",
    " Implementieren Sie nun die Funktion `request_verification`. Diese Funktion erhält einen Parameter `age`, welcher in Form eines integer-Wertes das Alter des Antragstellers speichert.\n",
    " Als Ergebnis soll in Form eines Boolean-Wertes zurückgegeben werden ob der Antragsteller berechtigt ist eine Kreditkarte zu erhalten. Ist der Antragsteller älter als 18 Jahre so geben Sie *True* zurück. Ansonsten *False*.\n",
    "\n",
    "\n",
    "\n",
    " ### Hilfe\n",
    " Sie können Ihre Lösung mit den automatisierten [Tests](#Automatische-Tests) weiter unten im Dokument überprüfen.<br>\n",
    " Eine Einführung in die `Kontrollstrukturen`in Python finden Sie [hier](../../30_conditionals/10_conditionals.ipynb)."
   ]
  },
  {
   "cell_type": "code",
   "execution_count": 9,
   "metadata": {
    "nbgrader": {
     "grade": false,
     "grade_id": "cell-733b43fac6e9ea69",
     "locked": false,
     "schema_version": 1,
     "solution": true
    }
   },
   "outputs": [
    {
     "name": "stdout",
     "output_type": "stream",
     "text": [
      "Wenn Ihre Funktion mit dem Parameter \"age = 25\" aufgerufen wird ist das Ergebnis: True\n"
     ]
    }
   ],
   "source": [
    "def request_verification(age):\n",
    "    \n",
    "    is_eligible = True\n",
    "    if #Bedingung:\n",
    "        #umstellen des Rückgabewertes\n",
    "        \n",
    "    return is_eligible\n",
    "\n",
    "\n",
    "print(\"Wenn Ihre Funktion mit dem Parameter \\\"age = 25\\\" aufgerufen wird ist das Ergebnis:\", request_verification(25))"
   ]
  },
  {
   "cell_type": "markdown",
   "metadata": {
    "nbgrader": {
     "grade": false,
     "grade_id": "cell-964599fc2df03bda",
     "locked": true,
     "schema_version": 1,
     "solution": false
    }
   },
   "source": [
    " ***\n",
    " # Automatische Tests\n",
    " Ab hier finden Sie einige automatisierte Tests um Ihre Lösungen zu überprüfen. Um Ihre Lösung zu prüfen führen Sie bitte zuerst die Zelle mit Ihrer Lösung und danach die Zelle mit dem zugehörigen Test aus.\n"
   ]
  },
  {
   "cell_type": "code",
   "execution_count": 10,
   "metadata": {
    "nbgrader": {
     "grade": true,
     "grade_id": "cell-14c7df1478e0fc44",
     "locked": true,
     "points": 0,
     "schema_version": 1,
     "solution": false
    }
   },
   "outputs": [],
   "source": [
    "try:\n",
    "    request_verification(25)\n",
    "except NotImplementedError:\n",
    "    print(\"Bitte entfernen Sie das \\\"raise NotImplementedError()\\\"\")"
   ]
  },
  {
   "cell_type": "markdown",
   "metadata": {
    "nbgrader": {
     "grade": false,
     "grade_id": "cell-21e09d34f6475a39",
     "locked": true,
     "schema_version": 1,
     "solution": false
    }
   },
   "source": [
    " ## Test 1 - Rückgabe als Boolean-Wert\n",
    " Der Rückgabewert (`is_eligible`) soll vom Datentypen Boolean sein."
   ]
  },
  {
   "cell_type": "code",
   "execution_count": 11,
   "metadata": {
    "nbgrader": {
     "grade": true,
     "grade_id": "cell-d7a048039b2238aa",
     "locked": true,
     "points": 0,
     "schema_version": 1,
     "solution": false
    }
   },
   "outputs": [
    {
     "name": "stdout",
     "output_type": "stream",
     "text": [
      "Test 1 erfolgreich\n"
     ]
    }
   ],
   "source": [
    "from nose.tools import assert_equal\n",
    "\n",
    "age = 15\n",
    "is_eligible = request_verification(age)\n",
    "try:\n",
    "    assert_equal(isinstance(is_eligible, bool), True)\n",
    "    assert_equal(isinstance(is_eligible, str), False)\n",
    "    print(\"Test 1 erfolgreich\")\n",
    "except AssertionError as e:\n",
    "    print(\"Das Ergebnis soll vom Typen Boolean sein.\\nDas Ergebnis soll nicht vom Typen String sein. Nutzen Sie keine Anführungszeichen für die Zuweisung von Boolean-Werten\")\n",
    "    print(e)\n",
    "    \n",
    "    "
   ]
  },
  {
   "cell_type": "markdown",
   "metadata": {
    "nbgrader": {
     "grade": false,
     "grade_id": "cell-47834ec77243214f",
     "locked": true,
     "schema_version": 1,
     "solution": false
    }
   },
   "source": [
    " ## Test 2 - Korrekte Bedingung\n",
    " Der Rückgabewert (`is_eligible`) soll *False* sein wenn der Antragsteller unter 18 Jahren alt ist. Ansonsten soll der Wert *True* sein."
   ]
  },
  {
   "cell_type": "code",
   "execution_count": 0,
   "metadata": {
    "nbgrader": {
     "grade": true,
     "grade_id": "cell-b2e0e70e9c95453f",
     "locked": true,
     "points": 0,
     "schema_version": 1,
     "solution": false
    }
   },
   "outputs": [],
   "source": [
    "from nose.tools import assert_equal\n",
    "\n",
    "age = 15\n",
    "is_eligible = request_verification(age)\n",
    "try\n",
    "    assert_equal(is_eligible, False)\n",
    "    print(\"Test 1 erfolgreich\")\n",
    "except AssertionError as e:\n",
    "    print(\"Das Ergebnis soll False sein wenn der Antragsteller unter 18 Jahren alt ist.\")\n",
    "    print(e)\n",
    "    \n",
    "    \n",
    "age = 20\n",
    "is_eligible = request_verification(age)\n",
    "try:\n",
    "    assert_equal(is_eligible, True)\n",
    "    print(\"Test 2 erfolgreich\")\n",
    "except AssertionError as e:\n",
    "    print(\"Das Ergebnis soll True sein wenn der Antragsteller über 18 Jahren alt ist.\")\n",
    "    print(e)\n",
    "    \n",
    "    "
   ]
  },
  {
   "cell_type": "markdown",
   "metadata": {
    "nbgrader": {
     "grade": false,
     "grade_id": "cell-6b43111a6b87795f",
     "locked": true,
     "schema_version": 1,
     "solution": false
    }
   },
   "source": [
    " ## Test 3 - Beachtung von Randfällen\n",
    " Der Rückgabewert (`is_eligible`) soll auch dann *True* sein wenn der Antragsteller genau 18 Jahre alt ist."
   ]
  },
  {
   "cell_type": "code",
   "execution_count": 12,
   "metadata": {
    "nbgrader": {
     "grade": true,
     "grade_id": "cell-ae00b6e0da823905",
     "locked": true,
     "points": 0,
     "schema_version": 1,
     "solution": false
    }
   },
   "outputs": [
    {
     "name": "stdout",
     "output_type": "stream",
     "text": [
      "Test 1 erfolgreich\n"
     ]
    }
   ],
   "source": [
    "from nose.tools import assert_equal\n",
    "\n",
    "age = 18\n",
    "is_eligible = request_verification(age)\n",
    "try:\n",
    "    assert_equal(is_eligible, True)\n",
    "    print(\"Test 1 erfolgreich\")\n",
    "except AssertionError as e:\n",
    "    print(\"Das Ergebnis soll True sein wenn der Antragsteller genau 18 Jahre alt ist.\")\n",
    "    print(e)\n",
    "    "
   ]
  }
 ],
 "metadata": {
  "celltoolbar": "Create Assignment",
  "file_extension": ".py",
  "kernelspec": {
   "display_name": "Python 3",
   "language": "python",
   "name": "python3"
  },
  "language_info": {
   "codemirror_mode": {
    "name": "ipython",
    "version": 3
   },
   "file_extension": ".py",
   "mimetype": "text/x-python",
   "name": "python",
   "nbconvert_exporter": "python",
   "pygments_lexer": "ipython3",
   "version": "3.7.2"
  },
  "mimetype": "text/x-python",
  "name": "python",
  "npconvert_exporter": "python",
  "pygments_lexer": "ipython3",
  "version": 3
 },
 "nbformat": 4,
 "nbformat_minor": 2
}
