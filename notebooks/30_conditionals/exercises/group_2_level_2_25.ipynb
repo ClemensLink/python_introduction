{
 "cells": [
  {
   "cell_type": "markdown",
   "metadata": {
    "nbgrader": {
     "grade": false,
     "grade_id": "cell-7b910a42c89bc9bc",
     "locked": true,
     "schema_version": 1,
     "solution": false
    }
   },
   "source": [
    "# Aufgabe 2\n",
    "\n",
    "In einem Versicherungsunternehmen soll, im Rahmen der Gebäudeversicherungen, ein Programm zur automatischen Risikobewertung implementiert werden. Im zweiten Schritt wollen Sie überprüfen ob das Alter eines Gebäudes unter oder gleich 10 Jahren ist. Ist dies der Fall so ist die Risikoklasse in jedem Fall \"A\".  \n",
    "\n",
    "Implementieren Sie nun die Funktion `insurance_classification`. Diese Funktion erhält einen Parameter `age`, welcher in Form eines Integer-Wertes angibt wie alt das Gebäude ist (in Jahren).  \n",
    "Als Ergebnis soll jedoch die Risikoklasse in Form eines Buchstabens zurückgegeben werden. Ist das Gebäude älter als 10 Jahre, so geben Sie \"D\" zurück. Ansonsten geben Sie \"A\" zurück. Zusätzlich geben Sie bitte mittels print() in die Konsole aus ob das Gebäude als \"neuwertig\" oder \"alt\" eingestuft wurde.\n",
    "\n",
    "\n",
    "## Wichtige Hinweise\n",
    "Bisher haben Sie im Rahmen dieser Einführung in Python Funktionen noch nicht kennen gelernt. Aus diesem Grund hier ein paar Hinweise zum Umgang mit Funktionen im Rahmen dieser Übungsaufgaben:\n",
    "\n",
    "1. Erstellen Sie Ihre Lösung innerhalb des mit `### START` und `### ENDE` markierten Bereichs. Ändern Sie den Programmcode außerhalb des markierten Bereichs nicht. \n",
    "1. Funktionen besitzen Parameter. Diese Parameter haben Namen. Behandel Sie die Parameter einfach wie Variablen in Ihrer Lösung. \n",
    "1. Bitte löschen Sie ggf die Zeile `raise NotImplementedError()`\n",
    "\n",
    "### Hilfe\n",
    "Sie können Ihre Lösung mit den automatisierten [Tests](#Automatische-Tests) weiter unten im Dokument überprüfen.<br>\n",
    "Eine Einführung in die `Kontrollstrukturen`in Python finden Sie [hier](../../30_conditionals/10_conditionals.ipynb)."
   ]
  },
  {
   "cell_type": "code",
   "execution_count": 1,
   "metadata": {
    "nbgrader": {
     "grade": false,
     "grade_id": "cell-3d302f7daaba320e",
     "locked": false,
     "schema_version": 1,
     "solution": true
    }
   },
   "outputs": [
    {
     "name": "stdout",
     "output_type": "stream",
     "text": [
      "Eingestuft als neuwertig.\n",
      "Wenn Ihre Funktion mit dem Parameter \"age = 5\" aufgerufen wird ist das Ergebnis: A\n"
     ]
    }
   ],
   "source": [
    "def insurance_classification(age):\n",
    "    \n",
    "    insurance_class = \"D\"\n",
    "    if #Bedingung (alter unter oder gleich 10):\n",
    "        #Risikoklasse setzen\n",
    "        print(\"Eingestuft als neuwertig.\")\n",
    "    else:\n",
    "        #Risikoklasse setzen\n",
    "        print(\"Eingestuft als alt.\")\n",
    "    \n",
    "    return insurance_class\n",
    "\n",
    "\n",
    "print(\"Wenn Ihre Funktion mit dem Parameter \\\"age = 5\\\" aufgerufen wird ist das Ergebnis:\", insurance_classification(5))"
   ]
  },
  {
   "cell_type": "markdown",
   "metadata": {
    "nbgrader": {
     "grade": false,
     "grade_id": "cell-4d7a15a2d9dce198",
     "locked": true,
     "schema_version": 1,
     "solution": false
    }
   },
   "source": [
    "***\n",
    "# Automatische Tests\n",
    "Ab hier finden Sie einige automatisierte Tests um Ihre Lösungen zu überprüfen. Um Ihre Lösung zu prüfen führen Sie bitte zuerst die Zelle mit Ihrer Lösung und danach die Zelle mit dem zugehörigen Test aus.\n"
   ]
  },
  {
   "cell_type": "code",
   "execution_count": 3,
   "metadata": {
    "nbgrader": {
     "grade": true,
     "grade_id": "cell-3210983ce2669555",
     "locked": true,
     "points": 0,
     "schema_version": 1,
     "solution": false
    }
   },
   "outputs": [
    {
     "name": "stdout",
     "output_type": "stream",
     "text": [
      "Eingestuft als neuwertig.\n"
     ]
    }
   ],
   "source": [
    "try:\n",
    "    insurance_classification(5)\n",
    "except NotImplementedError:\n",
    "    print(\"Bitte entfernen Sie das \\\"raise NotImplementedError()\\\"\")"
   ]
  },
  {
   "cell_type": "markdown",
   "metadata": {
    "nbgrader": {
     "grade": false,
     "grade_id": "cell-8f28582e24ce9b4a",
     "locked": true,
     "schema_version": 1,
     "solution": false
    }
   },
   "source": [
    "## Test 1 - Korrekte Bedingung\n",
    "Die Risikoklasse (`insurance_class`) soll \"D\" sein wenn das Gebäude älter als 10 Jahre ist. Ansonsten soll sie \"A\" sein."
   ]
  },
  {
   "cell_type": "code",
   "execution_count": 4,
   "metadata": {
    "nbgrader": {
     "grade": true,
     "grade_id": "cell-321179758e62c081",
     "locked": true,
     "points": 0,
     "schema_version": 1,
     "solution": false
    }
   },
   "outputs": [
    {
     "name": "stdout",
     "output_type": "stream",
     "text": [
      "Eingestuft als alt.\n",
      "Test 1 erfolgreich\n",
      "Eingestuft als neuwertig.\n",
      "Test 2 erfolgreich\n"
     ]
    }
   ],
   "source": [
    "from nose.tools import assert_equal\n",
    "\n",
    "age = 20\n",
    "insurance_class = insurance_classification(age)\n",
    "try:\n",
    "    assert_equal(insurance_class, \"D\")\n",
    "    print(\"Test 1 erfolgreich\")\n",
    "except AssertionError as e:\n",
    "    print(\"Das Ergebnis soll \\\"D\\\" sein wenn das Gebäude älter als 10 Jahre ist.\")\n",
    "    print(e)\n",
    "    \n",
    "    \n",
    "age = 5\n",
    "insurance_class = insurance_classification(age)\n",
    "try:\n",
    "    assert_equal(insurance_class, \"A\")\n",
    "    print(\"Test 2 erfolgreich\")\n",
    "except AssertionError as e:\n",
    "    print(\"Das Ergebnis soll \\\"A\\\" sein wenn das Gebäude noch keine 10 Jahre alst ist.\")\n",
    "    print(e)\n"
   ]
  },
  {
   "cell_type": "markdown",
   "metadata": {
    "nbgrader": {
     "grade": false,
     "grade_id": "cell-b6f3f794293fcf5f",
     "locked": true,
     "schema_version": 1,
     "solution": false
    }
   },
   "source": [
    "## Test 2 - Beachtung der Randfälle\n",
    "Die Risikoklasse (`insurance_class`) soll auch dann \"A\" sein wenn das Gebäude *genau* 10 Jahre alt ist. Jedoch ab 11 Jahren soll die Klasse \"D\" sein."
   ]
  },
  {
   "cell_type": "code",
   "execution_count": 5,
   "metadata": {
    "nbgrader": {
     "grade": true,
     "grade_id": "cell-709ebc1a87ed56ae",
     "locked": true,
     "points": 0,
     "schema_version": 1,
     "solution": false
    }
   },
   "outputs": [
    {
     "name": "stdout",
     "output_type": "stream",
     "text": [
      "Eingestuft als alt.\n",
      "Test 1 erfolgreich\n",
      "Eingestuft als neuwertig.\n",
      "Test 2 erfolgreich\n"
     ]
    }
   ],
   "source": [
    "from nose.tools import assert_equal\n",
    "\n",
    "age = 11\n",
    "insurance_class = insurance_classification(age)\n",
    "try:\n",
    "    assert_equal(insurance_class, \"D\")\n",
    "    print(\"Test 1 erfolgreich\")\n",
    "except AssertionError as e:\n",
    "    print(\"Das Ergebnis soll \\\"D\\\" sein auch wenn das Gebäude nur knapp älter als 10 Jahre ist.\")\n",
    "    print(e)\n",
    "    \n",
    "    \n",
    "age = 10\n",
    "insurance_class = insurance_classification(age)\n",
    "try:\n",
    "    assert_equal(insurance_class, \"A\")\n",
    "    print(\"Test 2 erfolgreich\")\n",
    "except AssertionError as e:\n",
    "    print(\"Das Ergebnis soll \\\"A\\\" sein auch wenn das Gebäude genau 10 Jahre alst ist.\")\n",
    "    print(e)"
   ]
  }
 ],
 "metadata": {
  "celltoolbar": "Create Assignment",
  "file_extension": ".py",
  "kernelspec": {
   "display_name": "Python 3",
   "language": "python",
   "name": "python3"
  },
  "language_info": {
   "codemirror_mode": {
    "name": "ipython",
    "version": 3
   },
   "file_extension": ".py",
   "mimetype": "text/x-python",
   "name": "python",
   "nbconvert_exporter": "python",
   "pygments_lexer": "ipython3",
   "version": "3.7.2"
  },
  "mimetype": "text/x-python",
  "name": "python",
  "npconvert_exporter": "python",
  "pygments_lexer": "ipython3",
  "version": 3
 },
 "nbformat": 4,
 "nbformat_minor": 2
}
