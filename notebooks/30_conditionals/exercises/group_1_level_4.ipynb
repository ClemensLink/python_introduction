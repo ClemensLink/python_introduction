{
 "cells": [
  {
   "cell_type": "markdown",
   "execution_count": null,
   "metadata": {
    "nbgrader": {
     "grade": false,
     "grade_id": "cell-b2b9aaf9c443244a",
     "locked": true,
     "schema_version": 1,
     "solution": false
    }
   },
   "outputs": [],
   "source": [
    "# Aufgabe 4\n",
    "\n",
    "Im Rahmen der operativen Planung in einem Handelsunternehmen soll auf der Basis unterschiedlicher Faktoren berechent werden, ob eine Handelsware vom Lieferanten beschafft werden muss.\n",
    "\n",
    "ie Beschaffung wird in dieser Aufgabe über einen Meldebestand sowie manuelle Bestellanforderungen gesteuert. Hierfür sollen folgende Bedingungen gelten:\n",
    "\n",
    "- Ist der Bestand einer Handelsware kleiner oder gleich dem Meldebestand, werden 1000 Stück der Handelsware bestellt\n",
    "- Falls eine manuelle Bestellanforderungen existeirt werden 500 Stück der Handelsware bestellt.  \n",
    " \n",
    "In beiden Fällen soll zusätzlich geprüft werden ob durch den Wert der Bestellung der Kreditrahmen beim Lieferanten überschritten würde. Falls der Kreditrahmen überschritten wird soll die Bestellmenge 0 sein. **Nutzen Sie zur Lösung \n",
    "der Aufgabe komplexe Bedingungen. Verwenden Sie keine verschachtelten ìf`-Anweisungen.**\n",
    "\n",
    "\n",
    "Implementieren Sie die Funktion `bestellmenge_berechnen`. Die Funktion erhält folgende Parameter:\n",
    "- `meldebestand`: Der Paramter enthält den Meldebestand für eine Handelsware und ist vom Typ `Integer`.\n",
    "- `bestand`: Der Parameter enthält den aktuellen Bestand und ist vom Typ `Integer`.\n",
    "- `manuelle_bestellanforderung`: Der Parameter ist vom Typ `Boolean` und enthält den Wert `True` falls eine maunelle Bestellanforderung existiert.\n",
    "- `kreditrahmen`: Der Parameter enthält den aktuellen Kreditrahme bei Lieferanten.\n",
    "- `preis`: Der Parameter enthält den Preis der Handelsware und ist vom Typ `Float`.\n",
    "\n",
    "Als Ergebnis der Funktion `bestellmenge_berechnen` sollen die Variable `bestellmenge` berechnet werden. Die Variable `bestellmenge` gibt an wie viele Stücke einer Handelsware beschafft werden sollen.\n",
    "\n",
    "## Wichtige Hinweise\n",
    "Bisher haben Sie im Rahmen dieser Einführung in Python Funktionen noch nicht kennen gelernt. Aus diesem Grund hier ein paar Hinweise zum Umgang mit Funktionen im Rahmen dieser Übungsaufgaben:\n",
    "\n",
    "1. Erstellen Sie Ihre Lösung innerhalb des mit `### START` und `### ENDE` markierten Bereichs. Ändern Sie den Programmcode außerhalb des markierten Bereichs nicht. \n",
    "1. Funktionen besitzen Parameter. Diese Parameter haben Namen. Behandel Sie die Parameter einfach wie Variablen in Ihrer Lösung. \n",
    "1. Bitte löschen Sie ggf die Zeile `raise NotImplementedError()`\n",
    "\n",
    "## Hilfe\n",
    "Sie können Ihre Lösung mit den automatisierten [Tests](#Automatische-Tests) weiter unten im Dokument überprüfen.<br>\n",
    "Eine Einführung in die `Kontrollstrukturen`in Python finden Sie [hier](../../30_conditionals/10_conditionals.ipynb)."
   ]
  },
  {
   "cell_type": "code",
   "execution_count": null,
   "metadata": {},
   "outputs": [],
   "source": [
    "def bestellmenge_berechnen(meldebestand, bestand, manuelle_bestellanfoderung, kreditrahmen, preis):\n",
    "    \n",
    "    ###BEGIN SOLUTION\n",
    "    ### START\n",
    "    bestellmenge = 0\n",
    "\n",
    "    if bestand <= meldebestand and kreditrahmen >= 1000 * preis:\n",
    "        bestellmenge = 1000\n",
    "    elif manuelle_bestellanfoderun and kreditrahmen >= 500 * preis:\n",
    "        bestellmenge = 500\n",
    "\n",
    "    ### ENDE\n",
    "    ###END SOLUTION\n",
    "    return bestellmenge\n",
    "\n",
    "print(\"Wenn Ihre Funktion mit den Parametern \\\"meldebestand = 500\\\", \\\"bestand = 499\\\", \\\"anuelle_bestellanfoderung = False\\\", \\\"kreditrahmen = 99999\\\" und \\\"preis = 2.25\\\" aufgerufen wird ergibt sich eine Bestellmenge von\", bestellmenge_berechnen(500, 499, False, 99999, 2.25))"
   ]
  },
  {
   "cell_type": "markdown",
   "execution_count": null,
   "metadata": {
    "nbgrader": {
     "grade": false,
     "grade_id": "cell-360f61c8d24b0399",
     "locked": true,
     "schema_version": 1,
     "solution": false
    }
   },
   "outputs": [],
   "source": [
    "***\n",
    "# Automatische Tests\n",
    "Ab hier finden Sie einige automatisierte Tests um Ihre Lösungen zu überprüfen. Um Ihre Lösung zu prüfen führen Sie bitte zuerst die Zelle mit Ihrer Lösung und danach die Zelle mit dem zugehörigen Test aus.\n"
   ]
  },
  {
   "cell_type": "markdown",
   "execution_count": null,
   "metadata": {
    "nbgrader": {
     "grade": false,
     "grade_id": "cell-515f891e3abc4668",
     "locked": true,
     "schema_version": 1,
     "solution": false
    }
   },
   "outputs": [],
   "source": [
    "## Test 1 - Korrekte Bedingungen bei ausreichendem Kreditrahmen\n",
    "Die Menge an zu bestellenden Produkten (`bestellmenge`) soll 1000 sein wenn der Meldebestand erreicht ist.  \n",
    "Die Menge soll 500 sein wenn eine manueller Bestellanforderung vorliegt.  \n",
    "In beiden Fällen ist die Voraussetzung, dass der Kretitrahmen ausreichend ist. "
   ]
  },
  {
   "cell_type": "code",
   "execution_count": null,
   "metadata": {},
   "outputs": [],
   "source": [
    "from nose.tools import assert_equal\n",
    "from utils import *\n",
    "\n",
    "credit = 999999\n",
    "reorder_level = 500\n",
    "stock_today = 499\n",
    "manual_reorder = False\n",
    "try:\n",
    "    reorder_quantity = reorder(reorder_level, stock_today, manual_reorder, credit)\n",
    "\n",
    "    assert_equal(reorder_quantity, 1000)\n",
    "    print(\"Test 1 erfolgreich\")\n",
    "except AssertionError as e:\n",
    "    print(\"Das Ergebnis soll 1000 sein wenn der Meldebestand erreicht wurde\")\n",
    "    print(e)\n",
    "except Exception as e:\n",
    "    print(friendly_exceptions.msg(e)) \n",
    "    \n",
    "reorder_level = 500\n",
    "stock_today = 501\n",
    "manaul_reorder = False\n",
    "reorder_quantity = reorder(reorder_level, stock_today, manual_reorder, credit)\n",
    "try:\n",
    "    assert_equal(reorder_quantity, 0)\n",
    "    print(\"Test 2 erfolgreich\")\n",
    "except AssertionError as e:\n",
    "    print(\"Das Ergebnis soll 0 sein wenn der Meldebestand nicht erreicht wurde und keine manueller Bestellwunsch geäußert wurde\")\n",
    "    print(e)\n",
    "    \n",
    "    \n",
    "reorder_level = 500\n",
    "stock_today = 501\n",
    "manaul_reorder = True\n",
    "reorder_quantity = reorder(reorder_level, stock_today, manual_reorder, credit)\n",
    "try:\n",
    "    assert_equal(reorder_quantity, 0)\n",
    "    print(\"Test 3 erfolgreich\")\n",
    "except AssertionError as e:\n",
    "    print(\"Das Ergebnis soll 500 sein wenn ein manueller Bestellwunsch vorliegt aber der Meldebestand nicht erreicht wurde.\")\n",
    "    print(e)\n",
    "    \n",
    "\n",
    "reorder_level = 500\n",
    "stock_today = 499\n",
    "manaul_reorder = True\n",
    "reorder_quantity = reorder(reorder_level, stock_today, manual_reorder, credit)\n",
    "try:\n",
    "    assert_equal(reorder_quantity, 1000)\n",
    "    print(\"Test 4 erfolgreich\")\n",
    "except AssertionError as e:\n",
    "    print(\"Das Ergebnis soll 1000 sein wenn der Meldebestand erreicht wurde, unabhängig davon ob ein Bestellwunsch vorliegt\")\n",
    "    print(e)"
   ]
  },
  {
   "cell_type": "markdown",
   "execution_count": null,
   "metadata": {
    "nbgrader": {
     "grade": false,
     "grade_id": "cell-1faa581a760e8d13",
     "locked": true,
     "schema_version": 1,
     "solution": false
    }
   },
   "outputs": [],
   "source": [
    "## Test 2 - Korrekte Bedingungen mit begrenztem Guthaben\n",
    "Die Menge an zu bestellenden Produkten (`reorder_quantity`) soll falls das Guthaben nicht reicht 0 sein.  \n",
    "Sollte das Guthaben nur für die große Bestellung nicht reichen aber eine manuelle Bestellung vorliegen, so sollen 500 Stück bestellt werden."
   ]
  },
  {
   "cell_type": "code",
   "execution_count": null,
   "metadata": {
    "nbgrader": {
     "grade": true,
     "grade_id": "cell-6c6e3aadbcf7b04d",
     "locked": true,
     "points": 0,
     "schema_version": 1,
     "solution": false
    }
   },
   "outputs": [],
   "source": [
    "from nose.tools import assert_equal\n",
    "\n",
    "credit = 3000\n",
    "reorder_level = 500\n",
    "stock_today = 499\n",
    "manual_reorder = False\n",
    "reorder_quantity = reorder(reorder_level, stock_today, manual_reorder, credit)\n",
    "try:\n",
    "    assert_equal(reorder_quantity, 1000)\n",
    "    print(\"Test 1 erfolgreich\")\n",
    "except AssertionError as e:\n",
    "    print(\"Das Ergebnis soll 1000 sein wenn der Meldebestand erreicht wurde und genug Guthaben vorhanden ist\")\n",
    "    print(e)\n",
    "    \n",
    "    \n",
    "credit = 500\n",
    "reorder_level = 500\n",
    "stock_today = 499\n",
    "manual_reorder = False\n",
    "reorder_quantity = reorder(reorder_level, stock_today, manual_reorder, credit)\n",
    "try:\n",
    "    assert_equal(reorder_quantity, 0)\n",
    "    print(\"Test 2 erfolgreich\")\n",
    "except AssertionError as e:\n",
    "    print(\"Das Ergebnis soll 0 sein wenn der Meldebestand erreicht wurde aber zu wenig Guthaben vorhanden ist\")\n",
    "    print(e)\n",
    "    \n",
    "\n",
    "credit = 1500\n",
    "reorder_level = 500\n",
    "stock_today = 499\n",
    "manual_reorder = True\n",
    "reorder_quantity = reorder(reorder_level, stock_today, manual_reorder, credit)\n",
    "try:\n",
    "    assert_equal(reorder_quantity, 500)\n",
    "    print(\"Test 2 erfolgreich\")\n",
    "except AssertionError as e:\n",
    "    print(\"Das Ergebnis soll 500 sein wenn das Guthaben zwar nicht für 1000Stück reicht aber für 500 und eine manuelle Bestellung vorliegt\")"
   ]
  }
 ],
 "metadata": {
  "celltoolbar": "Create Assignment",
  "file_extension": ".py",
  "kernelspec": {
   "display_name": "Python 3",
   "language": "python",
   "name": "python3"
  },
  "language_info": {
   "codemirror_mode": {
    "name": "ipython",
    "version": 3
   },
   "file_extension": ".py",
   "mimetype": "text/x-python",
   "name": "python",
   "nbconvert_exporter": "python",
   "pygments_lexer": "ipython3",
   "version": "3.7.6-final"
  },
  "mimetype": "text/x-python",
  "name": "python",
  "npconvert_exporter": "python",
  "pygments_lexer": "ipython3",
  "version": 3
 },
 "nbformat": 4,
 "nbformat_minor": 2
}