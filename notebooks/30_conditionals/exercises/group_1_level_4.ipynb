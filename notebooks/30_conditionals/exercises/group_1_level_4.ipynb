{
 "cells": [
  {
   "cell_type": "markdown",
   "metadata": {
    "nbgrader": {
     "grade": false,
     "grade_id": "cell-b2b9aaf9c443244a",
     "locked": true,
     "schema_version": 1,
     "solution": false
    }
   },
   "source": [
    "# Aufgabe 4\n",
    "\n",
    "Im Rahmen der operativen Planung in einem Handelsunternehmen soll erneut auf der Basis mehrerer gegebener\n",
    "Faktoren eine Einschätzung bezüglich etwaiger Nachbestellungen für ein Produkt getroffen werden. \n",
    "\n",
    "Ist die Lagermenge eines bestimmten Produktes unter oder gleich dem Meldebestand, so muss dieses Produkt nachbestellt werden (1000 Stück).  \n",
    "Sollte ein Produkt durch manuellen Wunsch nachbestellt werden müssen, so werden wie gewohnt nur 500 Stück bestellt.  \n",
    "In beiden Fällen muss nun jedoch auch ausreichend Guthaben auf dem Geschäftskonto vorhanden sein. Das Produkt kostet pro Stück 2.25€. Sollte das Guthaben nicht für 1000 Stück reichen, so soll natürlich trotzdem geprüft werden ob eine manuelle Bestellung vorliegt und das Guthaben für diese reicht. *Nutzen Sie hierzu komplexe Bedingungen. Sie brauchen keine Verschachtelung*\n",
    "\n",
    "Implementieren Sie nun die Funktion `bestellmenge_berechnen`. Die Funktion erhält als Parameter `meldebestand` einen Integer Wert, welcher den Meldebestand angibt.\n",
    "Sowie `bestand_heute`, welcher angibt wie oft das Produkt an diesem Morgen noch im Lager vorrätig ist.\n",
    "Der dritte Parameter `bestellwunsch` ist vom Typ Boolean und ist sobald ein manuel eingetragener Nachbestellwunsch vorliegt = True.  \n",
    "Hinzu kommt ein Float Wert `guthaben`. Dieser speichert das Guthaben auf dem Geschäftskonto.  \n",
    "Als Ergebnis soll eine neuer Integer Wert `bestellmenge` erstellt und zurückgegeben werden, welcher angibt wie viele Exemplare des Produktes nachbestellt werden sollen. Soll es nicht nachbestellt werden, so ist die `bestellmenge` = 0.\n",
    "\n",
    "## Wichtige Hinweise\n",
    "Bisher haben Sie im Rahmen dieser Einführung in Python Funktionen noch nicht kennen gelernt. Aus diesem Grund hier ein paar Hinweise zum Umgang mit Funktionen im Rahmen dieser Übungsaufgaben:\n",
    "\n",
    "1. Erstellen Sie Ihre Lösung innerhalb des mit `### START` und `### ENDE` markierten Bereichs. Ändern Sie den Programmcode außerhalb des markierten Bereichs nicht. \n",
    "1. Funktionen besitzen Parameter. Diese Parameter haben Namen. Behandeln Sie die Parameter einfach wie Variablen in Ihrer Lösung. \n",
    "1. Bitte löschen Sie ggf die Zeile `raise NotImplementedError()`\n",
    "\n",
    "### Hilfe\n",
    "Sie können Ihre Lösung mit den automatisierten [Tests](#Automatische-Tests) weiter unten im Dokument überprüfen.<br>\n",
    "Eine Einführung in die `Kontrollstrukturen`in Python finden Sie [hier](../../30_conditionals/10_conditionals.ipynb)."
   ]
  },
  {
   "cell_type": "code",
   "execution_count": 1,
   "metadata": {
    "nbgrader": {
     "grade": false,
     "grade_id": "cell-9e6b5dd1ea91a73e",
     "locked": false,
     "schema_version": 1,
     "solution": true
    }
   },
   "outputs": [],
   "source": [
    "def bestellmenge_berechnen(meldebestand, bestand_heute, bestellwunsch, guthaben):\n",
    "    \n",
    "    ###START\n",
    "    ###BEGIN SOLUTION\n",
    "    bestellmenge = 0\n",
    "    if bestand_heute <= meldebestand and guthaben >= 1000 *2.25:\n",
    "        bestellmenge = 1000\n",
    "    elif bestellwunsch and guthaben >= 500 * 2.25:\n",
    "        bestellmenge = 500\n",
    "    \n",
    "    ###END SOLUTION\n",
    "    ###ENDE\n",
    "    return bestellmenge\n",
    "\n",
    "print(\"Wenn Ihre Funktion mit den Parametern \\\"meldebestand = 500\\\", \\\"bestand_heute = 499\\\", \\\"bestellwunsch = False\\\", \\\"guthaben = 99999\\\" aufgerufen wird ist das Ergebnis:\", bestellmenge_berechnen(500, 499, False, 99999))"
   ]
  },
  {
   "cell_type": "markdown",
   "metadata": {
    "nbgrader": {
     "grade": false,
     "grade_id": "cell-360f61c8d24b0399",
     "locked": true,
     "schema_version": 1,
     "solution": false
    }
   },
   "source": [
    "***\n",
    "# Automatische Tests\n",
    "Ab hier finden Sie einige automatisierte Tests um Ihre Lösungen zu überprüfen. Um Ihre Lösung zu prüfen führen Sie bitte zuerst die Zelle mit Ihrer Lösung und danach die Zelle mit dem zugehörigen Test aus.\n"
   ]
  },
  {
   "cell_type": "code",
   "execution_count": 2,
   "metadata": {
    "nbgrader": {
     "grade": true,
     "grade_id": "cell-97b795e035f960c8",
     "locked": true,
     "points": 0,
     "schema_version": 1,
     "solution": false
    }
   },
   "outputs": [],
   "source": [
    "try:\n",
    "    bestellmenge_berechnen(500, 499, False, 99999)\n",
    "except NotImplementedError:\n",
    "    print(\"Bitte entfernen Sie das \\\"raise NotImplementedError()\\\"\")"
   ]
  },
  {
   "cell_type": "markdown",
   "metadata": {
    "nbgrader": {
     "grade": false,
     "grade_id": "cell-515f891e3abc4668",
     "locked": true,
     "schema_version": 1,
     "solution": false
    }
   },
   "source": [
    "## Test 1 - Korrekte Bedingungen bei genug Guthaben\n",
    "Die Menge an zu bestellenden Produkten (`bestellmenge`) soll 1000 sein wenn der Meldebestand erreicht ist.  \n",
    "Die Menge soll 500 sein wenn ein manueller Bestellwunsch vorliegt.  \n",
    "Vorausgesetzt es ist für beides genug Guthaben verfügbar."
   ]
  },
  {
   "cell_type": "code",
   "execution_count": 4,
   "metadata": {
    "nbgrader": {
     "grade": true,
     "grade_id": "cell-381ac45105f05f51",
     "locked": true,
     "points": 0,
     "schema_version": 1,
     "solution": false
    }
   },
   "outputs": [],
   "source": [
    "from nose.tools import assert_equal\n",
    "\n",
    "guthaben = 999999\n",
    "meldebestand = 500\n",
    "bestand_heute = 499\n",
    "bestellwunsch = False\n",
    "bestellmenge = bestellmenge_berechnen(meldebestand, bestand_heute, bestellwunsch, guthaben)\n",
    "try:\n",
    "    assert_equal(bestellmenge, 1000)\n",
    "    print(\"Test 1 erfolgreich\")\n",
    "except AssertionError as e:\n",
    "    print(\"Das Ergebnis soll 1000 sein wenn der Meldebestand erreicht wurde\")\n",
    "    print(e)\n",
    "    \n",
    "    \n",
    "meldebestand = 500\n",
    "bestand_heute = 501\n",
    "bestellwunsch = False\n",
    "bestellmenge = bestellmenge_berechnen(meldebestand, bestand_heute, bestellwunsch, guthaben)\n",
    "try:\n",
    "    assert_equal(bestellmenge, 0)\n",
    "    print(\"Test 2 erfolgreich\")\n",
    "except AssertionError as e:\n",
    "    print(\"Das Ergebnis soll 0 sein wenn der Meldebestand nicht erreicht wurde und keine manueller Bestellwunsch geäußert wurde\")\n",
    "    print(e)\n",
    "    \n",
    "    \n",
    "meldebestand = 500\n",
    "bestand_heute = 501\n",
    "bestellwunsch = True\n",
    "bestellmenge = bestellmenge_berechnen(meldebestand, bestand_heute, bestellwunsch, guthaben)\n",
    "try:\n",
    "    assert_equal(bestellmenge, 0)\n",
    "    print(\"Test 3 erfolgreich\")\n",
    "except AssertionError as e:\n",
    "    print(\"Das Ergebnis soll 500 sein wenn ein manueller Bestellwunsch vorliegt aber der Meldebestand nicht erreicht wurde.\")\n",
    "    print(e)\n",
    "    \n",
    "\n",
    "meldebestand = 500\n",
    "bestand_heute = 499\n",
    "bestellwunsch = True\n",
    "bestellmenge = bestellmenge_berechnen(meldebestand, bestand_heute, bestellwunsch, guthaben)\n",
    "try:\n",
    "    assert_equal(bestellmenge, 1000)\n",
    "    print(\"Test 4 erfolgreich\")\n",
    "except AssertionError as e:\n",
    "    print(\"Das Ergebnis soll 1000 sein wenn der Meldebestand erreicht wurde, unabhängig davon ob ein Bestellwunsch vorliegt\")\n",
    "    print(e)"
   ]
  },
  {
   "cell_type": "markdown",
   "metadata": {
    "nbgrader": {
     "grade": false,
     "grade_id": "cell-1faa581a760e8d13",
     "locked": true,
     "schema_version": 1,
     "solution": false
    }
   },
   "source": [
    "## Test 2 - Korrekte Bedingungen mit begrenztem Guthaben\n",
    "Die Menge an zu bestellenden Produkten (`bestellmenge`) soll falls das Guthaben nicht reicht 0 sein.  \n",
    "Sollte das Guthaben nur für die große Bestellung nicht reichen aber eine manuelle Bestellung vorliegen, so sollen 500 Stück bestellt werden."
   ]
  },
  {
   "cell_type": "code",
   "execution_count": 5,
   "metadata": {
    "nbgrader": {
     "grade": true,
     "grade_id": "cell-6c6e3aadbcf7b04d",
     "locked": true,
     "points": 0,
     "schema_version": 1,
     "solution": false
    }
   },
   "outputs": [],
   "source": [
    "from nose.tools import assert_equal\n",
    "\n",
    "guthaben = 3000\n",
    "meldebestand = 500\n",
    "bestand_heute = 499\n",
    "bestellwunsch = False\n",
    "bestellmenge = bestellmenge_berechnen(meldebestand, bestand_heute, bestellwunsch, guthaben)\n",
    "try:\n",
    "    assert_equal(bestellmenge, 1000)\n",
    "    print(\"Test 1 erfolgreich\")\n",
    "except AssertionError as e:\n",
    "    print(\"Das Ergebnis soll 1000 sein wenn der Meldebestand erreicht wurde und genug Guthaben vorhanden ist\")\n",
    "    print(e)\n",
    "    \n",
    "    \n",
    "guthaben = 500\n",
    "meldebestand = 500\n",
    "bestand_heute = 499\n",
    "bestellwunsch = False\n",
    "bestellmenge = bestellmenge_berechnen(meldebestand, bestand_heute, bestellwunsch, guthaben)\n",
    "try:\n",
    "    assert_equal(bestellmenge, 0)\n",
    "    print(\"Test 2 erfolgreich\")\n",
    "except AssertionError as e:\n",
    "    print(\"Das Ergebnis soll 0 sein wenn der Meldebestand erreicht wurde aber zu wenig Guthaben vorhanden ist\")\n",
    "    print(e)\n",
    "    \n",
    "\n",
    "guthaben = 1500\n",
    "meldebestand = 500\n",
    "bestand_heute = 499\n",
    "bestellwunsch = True\n",
    "bestellmenge = bestellmenge_berechnen(meldebestand, bestand_heute, bestellwunsch, guthaben)\n",
    "try:\n",
    "    assert_equal(bestellmenge, 500)\n",
    "    print(\"Test 2 erfolgreich\")\n",
    "except AssertionError as e:\n",
    "    print(\"Das Ergebnis soll 500 sein wenn das Guthaben zwar nicht für 1000Stück reicht aber für 500 und eine manuelle Bestellung vorliegt\")"
   ]
  }
 ],
 "metadata": {
  "celltoolbar": "Create Assignment",
  "file_extension": ".py",
  "kernelspec": {
   "display_name": "Python 3",
   "language": "python",
   "name": "python3"
  },
  "language_info": {
   "codemirror_mode": {
    "name": "ipython",
    "version": 3
   },
   "file_extension": ".py",
   "mimetype": "text/x-python",
   "name": "python",
   "nbconvert_exporter": "python",
   "pygments_lexer": "ipython3",
   "version": "3.7.2"
  },
  "mimetype": "text/x-python",
  "name": "python",
  "npconvert_exporter": "python",
  "pygments_lexer": "ipython3",
  "version": 3
 },
 "nbformat": 4,
 "nbformat_minor": 2
}
