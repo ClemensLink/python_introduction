{
 "cells": [
  {
   "cell_type": "markdown",
   "metadata": {
    "nbgrader": {
     "grade": false,
     "grade_id": "cell-1c4d32278cbcb9d2",
     "locked": true,
     "schema_version": 1,
     "solution": false
    }
   },
   "source": [
    "# Aufgabe 5 \n",
    "\n",
    "In einer Bank sollen Kreditkartenanträge zukünftig mittels eines Computerprogramms automatisch bearbeitet werden. Sie sollen nun das Regelwerk zur Entscheidung über Anträge mittels `Conditionals` in einem Python Programm umsetzen.  \n",
    "Im diesem Schritt wollen Sie folgende Regeln implementieren:  \n",
    "- Falls der Antragsteller jünger als 18 Jahre alt ist wird keine Kreditkarte ausgestellt. \n",
    "- Falls der Antragsteller zwischen 18 und 30 Jahre alt ist wird nur eine Kreditkarte ausgestellt, wenn das Einkommen über 1500€ pro Monat liegt \n",
    "  - Ist der Antragsteller zwischen 18 und 30 und sein Einkommen liegt über 1500€ pro Monat wird eine Kreditkarte mit einem Limit von 2000€ ausgestellt. \n",
    "  - Ist der Antragsteller zwischen 18 und 30 und sein Einkommen liegt über 3000€ pro Monat wird eine Kreditkarte mit einem Limit von 4000€ ausgestellt. \n",
    "- Ist der Antragsteller zwischen 31 und 65 und sein Einkommen liegt unter 2000€ pro Monat wird eine Kreditkarte mit einem Limit von 3000€ ausgestellt. \n",
    "- Ist der Antragsteller zwischen 31 und 65 und sein Einkommen liegt über 2000€ pro Monat wird eine Kreditkarte mit einem Limit von 6000€ ausgestellt. \n",
    "- Ist der Antragsteller über 65 wird nur eine Kreditkarte ausgestellt falls sein Einkommen über 2000€ pro Monat liegt.    \n",
    "  - In diesem Fall mit einem Kreditlimit von 3000€.\n",
    "\n",
    "Implementieren Sie nun die Funktion `request_verification`. Diese Funktion erhält einen Parameter `monthly_income`, welcher in Form eines float-Wertes das monatliche Einkommen des Antragstellers speichert. Sowie einen zweiten Parameter `age`, welcher in Form eines integer-Wertes das Alter des Antragstellers speichert.  \n",
    "Als Ergebnis soll in Form eines Integer-Wertes das Kartenlimit zurückgegeben werden. Falls keine Kreditkarte ausgestellt werden soll so setzen Sie das Limit auf -1 um dies deutlich zu machen.\n",
    "\n",
    "\n",
    "\n",
    "### Hilfe\n",
    "Sie können Ihre Lösung mit den automatisierten [Tests](#Automatische-Tests) weiter unten im Dokument überprüfen.<br>\n",
    "Eine Einführung in die `Kontrollstrukturen`in Python finden Sie [hier](../../30_conditionals/10_conditionals.ipynb)."
   ]
  },
  {
   "cell_type": "code",
   "execution_count": 1,
   "metadata": {
    "nbgrader": {
     "grade": false,
     "grade_id": "cell-39d7ee9f4ac6f83c",
     "locked": false,
     "schema_version": 1,
     "solution": true
    }
   },
   "outputs": [
    {
     "name": "stdout",
     "output_type": "stream",
     "text": [
      "Wenn Ihre Funktion mit den Parametern \"monthly_income = 500\" und \"age = 25\" aufgerufen wird ist das Ergebnis: -1\n"
     ]
    }
   ],
   "source": [
    "def request_verification(monthly_income, age):\n",
    "    \n",
    "    ###BEGIN SOLUTION\n",
    "    limit = 0\n",
    "    if age < 18:\n",
    "        limit = -1\n",
    "    elif age <= 30 and monthly_income > 1500:\n",
    "        if monthly_income <= 3000:\n",
    "            limit = 2000\n",
    "        else:\n",
    "            limit = 4000\n",
    "    elif age >= 31 and age <= 65:\n",
    "        if monthly_income < 2000:\n",
    "            limit = 3000\n",
    "        else:\n",
    "            limit = 6000\n",
    "    elif monthly_income > 2000:\n",
    "        limit = 3000\n",
    "    else:\n",
    "        limit = -1\n",
    "        \n",
    "        \n",
    "    ###END SOLUTION\n",
    "    return limit\n",
    "\n",
    "print(\"Wenn Ihre Funktion mit den Parametern \\\"monthly_income = 500\\\" und \\\"age = 25\\\" aufgerufen wird ist das Ergebnis:\", request_verification(500, 25))"
   ]
  },
  {
   "cell_type": "markdown",
   "metadata": {
    "nbgrader": {
     "grade": false,
     "grade_id": "cell-687d5115e19a76d0",
     "locked": true,
     "schema_version": 1,
     "solution": false
    }
   },
   "source": [
    "***\n",
    "# Automatische Tests\n",
    "Ab hier finden Sie einige automatisierte Tests um Ihre Lösungen zu überprüfen. Um Ihre Lösung zu prüfen führen Sie bitte zuerst die Zelle mit Ihrer Lösung und danach die Zelle mit dem zugehörigen Test aus.\n"
   ]
  },
  {
   "cell_type": "code",
   "execution_count": 2,
   "metadata": {
    "nbgrader": {
     "grade": true,
     "grade_id": "cell-8d53db57343e60c8",
     "locked": true,
     "points": 0,
     "schema_version": 1,
     "solution": false
    }
   },
   "outputs": [],
   "source": [
    "try:\n",
    "    request_verification(500, 25)\n",
    "except NotImplementedError:\n",
    "    print(\"Bitte entfernen Sie das \\\"raise NotImplementedError()\\\"\")"
   ]
  },
  {
   "cell_type": "markdown",
   "metadata": {
    "nbgrader": {
     "grade": false,
     "grade_id": "cell-3586c7f3a84cc8e5",
     "locked": true,
     "schema_version": 1,
     "solution": false
    }
   },
   "source": [
    "## Test 1 - Korrekte Bedingungen"
   ]
  },
  {
   "cell_type": "code",
   "execution_count": 3,
   "metadata": {
    "nbgrader": {
     "grade": true,
     "grade_id": "cell-81936e57b125d2b9",
     "locked": true,
     "points": 0,
     "schema_version": 1,
     "solution": false
    }
   },
   "outputs": [
    {
     "name": "stdout",
     "output_type": "stream",
     "text": [
      "Test 1 erfolgreich\n",
      "Test 2 erfolgreich\n",
      "Test 3 erfolgreich\n",
      "Test 4 erfolgreich\n",
      "Test 5 erfolgreich\n",
      "Test 6 erfolgreich\n",
      "Test 7 erfolgreich\n"
     ]
    }
   ],
   "source": [
    "from nose.tools import assert_equal\n",
    "\n",
    "monthly_income = 2000\n",
    "age = 16\n",
    "limit = request_verification(monthly_income, age)\n",
    "try:\n",
    "    assert_equal(limit, -1)\n",
    "    print(\"Test 1 erfolgreich\")\n",
    "except AssertionError as e:\n",
    "    print(\"Das Ergebnis soll -1 sein wenn der Antragsteller unter 18 Jahren alt ist. Dies ist unabhängig vom Einkommen\")\n",
    "    print(e)\n",
    "    \n",
    "    \n",
    "monthly_income = 2500\n",
    "age = 25\n",
    "limit = request_verification(monthly_income, age)\n",
    "try:\n",
    "    assert_equal(limit, 2000)\n",
    "    print(\"Test 2 erfolgreich\")\n",
    "except AssertionError as e:\n",
    "    print(\"Das Ergebnis soll 2000 betragen wenn der Antragsteller zwischen 18 und 30 Jahren alt ist und über 1500€ aber weniger als 3000€ verdient\")\n",
    "    print(e)\n",
    "    \n",
    "    \n",
    "monthly_income = 3500\n",
    "age = 25\n",
    "limit = request_verification(monthly_income, age)\n",
    "try:\n",
    "    assert_equal(limit, 4000)\n",
    "    print(\"Test 3 erfolgreich\")\n",
    "except AssertionError as e:\n",
    "    print(\"Das Ergebnis soll 4000 betragen wenn der Antragsteller zwischen 18 und 30 Jahren alt ist und über 3000€ verdient\")\n",
    "    print(e)\n",
    "    \n",
    "    \n",
    "monthly_income = 1700\n",
    "age = 40\n",
    "limit = request_verification(monthly_income, age)\n",
    "try:\n",
    "    assert_equal(limit, 3000)\n",
    "    print(\"Test 4 erfolgreich\")\n",
    "except AssertionError as e:\n",
    "    print(\"Das Ergebnis soll 3000 betragen wenn der Antragsteller zwischen 31 und 65 Jahren alt ist und weniger als 2000€ verdient\")\n",
    "    print(e)\n",
    "    \n",
    "    \n",
    "monthly_income = 2500\n",
    "age = 40\n",
    "limit = request_verification(monthly_income, age)\n",
    "try:\n",
    "    assert_equal(limit, 6000)\n",
    "    print(\"Test 5 erfolgreich\")\n",
    "except AssertionError as e:\n",
    "    print(\"Das Ergebnis soll 6000 betragen wenn der Antragsteller zwischen 31 und 65 Jahren alt ist und mehr als 2000€ verdient\")\n",
    "    print(e)\n",
    "    \n",
    "    \n",
    "monthly_income = 7000\n",
    "age = 70\n",
    "limit = request_verification(monthly_income, age)\n",
    "try:\n",
    "    assert_equal(limit, 3000)\n",
    "    print(\"Test 6 erfolgreich\")\n",
    "except AssertionError as e:\n",
    "    print(\"Das Ergebnis soll 2000 betragen wenn der Antragsteller über 65 Jahren alt ist und mehr als 2000€ verdient\")\n",
    "    print(e)\n",
    "    \n",
    "    \n",
    "monthly_income = 1000\n",
    "age = 70\n",
    "limit = request_verification(monthly_income, age)\n",
    "try:\n",
    "    assert_equal(limit, -1)\n",
    "    print(\"Test 7 erfolgreich\")\n",
    "except AssertionError as e:\n",
    "    print(\"Das Ergebnis soll -1 sein wenn der Antragsteller über 65 Jahren alt ist aber weniger als 2000€ verdient\")\n",
    "    print(e)"
   ]
  },
  {
   "cell_type": "markdown",
   "metadata": {
    "nbgrader": {
     "grade": false,
     "grade_id": "cell-740eb7c1fb0a28cc",
     "locked": true,
     "schema_version": 1,
     "solution": false
    }
   },
   "source": [
    "## Test 2 - Beachtung von Randfällen\n",
    "Der Rückgabewert (`limit`) soll auch dann *-1* sein wenn der Antragsteller zwischen 18 und 30 Jahren alt ist und ein monatliches Einkommen von genau 1500€ hat. Jedoch soll der Wert schon *2000* betragen wenn das Einkommen nur minimal über 1500€ liegt."
   ]
  },
  {
   "cell_type": "code",
   "execution_count": 4,
   "metadata": {
    "nbgrader": {
     "grade": true,
     "grade_id": "cell-f4c252b1a4ef0a80",
     "locked": true,
     "points": 0,
     "schema_version": 1,
     "solution": false
    }
   },
   "outputs": [
    {
     "name": "stdout",
     "output_type": "stream",
     "text": [
      "Test 1 erfolgreich\n",
      "Test 2 erfolgreich\n"
     ]
    }
   ],
   "source": [
    "from nose.tools import assert_equal\n",
    "\n",
    "monthly_income = 1500\n",
    "age = 25\n",
    "limit = request_verification(monthly_income, age)\n",
    "try:\n",
    "    assert_equal(limit, -1)\n",
    "    print(\"Test 1 erfolgreich\")\n",
    "except AssertionError as e:\n",
    "    print(\"Das Ergebnis soll auch dann -1 sein wenn der Antragsteller ein Einkommen von genau 1500€ hat und zwischen 18 und 30 Jahren alt ist.\")\n",
    "    print(e)\n",
    "    \n",
    "    \n",
    "monthly_income = 1500.01\n",
    "age = 25\n",
    "limit = request_verification(monthly_income, age)\n",
    "try:\n",
    "    assert_equal(limit, 2000)\n",
    "    print(\"Test 2 erfolgreich\")\n",
    "except AssertionError as e:\n",
    "    print(\"Das Ergebnis soll auch dann 2000 betragen wenn der Antragsteller ein Einkommen von minimal mehr als 1500€ hat und zwischen 18 und 30 Jahren alt ist.\")\n",
    "    print(e)"
   ]
  }
 ],
 "metadata": {
  "celltoolbar": "Create Assignment",
  "file_extension": ".py",
  "kernelspec": {
   "display_name": "Python 3",
   "language": "python",
   "name": "python3"
  },
  "language_info": {
   "codemirror_mode": {
    "name": "ipython",
    "version": 3
   },
   "file_extension": ".py",
   "mimetype": "text/x-python",
   "name": "python",
   "nbconvert_exporter": "python",
   "pygments_lexer": "ipython3",
   "version": "3.7.2"
  },
  "mimetype": "text/x-python",
  "name": "python",
  "npconvert_exporter": "python",
  "pygments_lexer": "ipython3",
  "version": 3
 },
 "nbformat": 4,
 "nbformat_minor": 2
}
