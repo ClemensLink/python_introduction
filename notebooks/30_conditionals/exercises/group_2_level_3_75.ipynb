{
 "cells": [
  {
   "cell_type": "markdown",
   "metadata": {
    "nbgrader": {
     "grade": false,
     "grade_id": "cell-429c6c3c4a74982b",
     "locked": true,
     "schema_version": 1,
     "solution": false
    }
   },
   "source": [
    " # Aufgabe 3\n",
    "\n",
    " In einem Versicherungsunternehmen soll, im Rahmen der Gebäudeversicherungen, ein Programm zur automatischen Risikobewertung implementiert werden. In diesem Schritt wollen Sie die beiden vorherigen kombinieren. Ein Gebäude soll wie bereits in Aufgabe 1 immer dann in Risikoklasse \"D\" eingestuft werden wenn es sich um ein Mehrfamilienhaus handelt. Handelt es sich bei dem Gebäude jedoch nicht um ein Mehrfamilienhaus, so soll das Alter überprüft werden. Ist das Alter eines Gebäudes unter oder gleich 10 Jahren, so gehört es in die Risikoklasse \"A\".\n",
    " Ist ein Gebäude jedoch kein Mehrfamilienhaus aber trotzdem älter als 10 Jahre so ist die Risikoklasse \"C\".\n",
    "\n",
    " Implementieren Sie nun die Funktion `insurance_classification`. Diese Funktion erhält einen Parameter `age`, welcher in Form eines Integer-Wertes angibt wie alt das Gebäude ist (in Jahren). Sowie den Parameter `is_apartement_building`, der in Form eines Boolean-Wertes angibt ob das Gebäude ein Mehrfamilienhaus ist (True oder False).\n",
    " Als Ergebnis soll jedoch die Risikoklasse in Form eines Buchstabens zurückgegeben werden.\n",
    "\n",
    "\n",
    " ### Hilfe\n",
    " Sie können Ihre Lösung mit den automatisierten [Tests](#Automatische-Tests) weiter unten im Dokument überprüfen.<br>\n",
    " Eine Einführung in die `Kontrollstrukturen`in Python finden Sie [hier](../../30_conditionals/10_conditionals.ipynb)."
   ]
  },
  {
   "cell_type": "code",
   "execution_count": 2,
   "metadata": {
    "nbgrader": {
     "grade": false,
     "grade_id": "cell-ede7e86ba6a80dd1",
     "locked": false,
     "schema_version": 1,
     "solution": true
    }
   },
   "outputs": [
    {
     "name": "stdout",
     "output_type": "stream",
     "text": [
      "Wenn Ihre Funktion mit den Parametern \"age = 5\" und \"is_apartement_building = True\" aufgerufen wird ist das Ergebnis: D\n"
     ]
    }
   ],
   "source": [
    "def insurance_classification(age, is_apartement_building):\n",
    "    \n",
    "    insurance_class = \"A\"\n",
    "    if #Bedingung (wenn das Gebäude ein Mehrfamilienhaus ist):\n",
    "        insurance_class = \"D\"\n",
    "    elif #andere Bedingung (wenn das Gebäude unter oder gleich 10 Jahren alt ist):\n",
    "        insurance_class = \"A\"\n",
    "    else:\n",
    "        insurance_class = \"C\"\n",
    "        \n",
    "    return insurance_class\n",
    "\n",
    "\n",
    "print(\"Wenn Ihre Funktion mit den Parametern \\\"age = 5\\\" und \\\"is_apartement_building = True\\\" aufgerufen wird ist das Ergebnis:\", insurance_classification(5, True))"
   ]
  },
  {
   "cell_type": "markdown",
   "metadata": {
    "nbgrader": {
     "grade": false,
     "grade_id": "cell-26a1a1a28c8cefb5",
     "locked": true,
     "schema_version": 1,
     "solution": false
    }
   },
   "source": [
    " ***\n",
    " # Automatische Tests\n",
    " Ab hier finden Sie einige automatisierte Tests um Ihre Lösungen zu überprüfen. Um Ihre Lösung zu prüfen führen Sie bitte zuerst die Zelle mit Ihrer Lösung und danach die Zelle mit dem zugehörigen Test aus.\n"
   ]
  },
  {
   "cell_type": "code",
   "execution_count": 3,
   "metadata": {
    "nbgrader": {
     "grade": true,
     "grade_id": "cell-c38b21e8b04ff752",
     "locked": true,
     "points": 0,
     "schema_version": 1,
     "solution": false
    }
   },
   "outputs": [],
   "source": [
    "try:\n",
    "    insurance_classification(5, True)\n",
    "except NotImplementedError:\n",
    "    print(\"Bitte entfernen Sie das \\\"raise NotImplementedError()\\\"\")"
   ]
  },
  {
   "cell_type": "markdown",
   "metadata": {
    "nbgrader": {
     "grade": false,
     "grade_id": "cell-d689a94bf736bd4f",
     "locked": true,
     "schema_version": 1,
     "solution": false
    }
   },
   "source": [
    " ## Test 1 - Korrekte Bedingungen\n",
    " Die Risikoklasse (`insurance_class`) soll \"D\" sein, wenn es sich bei dem Gebäude um ein Mehrfamilienhaus handelt.\n",
    " Ist dies nicht der Fall so soll die Risikoklasse \"C\" oder \"A\" sein, je nachdem ob das Gebäude älter als 10 Jahre ist (C) oder nicht (A)."
   ]
  },
  {
   "cell_type": "code",
   "execution_count": 4,
   "metadata": {
    "nbgrader": {
     "grade": true,
     "grade_id": "cell-6174197895da673b",
     "locked": true,
     "points": 0,
     "schema_version": 1,
     "solution": false
    }
   },
   "outputs": [
    {
     "name": "stdout",
     "output_type": "stream",
     "text": [
      "Test 1 erfolgreich\n",
      "Test 2 erfolgreich\n",
      "Test 3 erfolgreich\n"
     ]
    }
   ],
   "source": [
    "from nose.tools import assert_equal\n",
    "\n",
    "age = 5\n",
    "is_apartement_building = True\n",
    "insurance_class = insurance_classification(age, is_apartement_building)\n",
    "try:\n",
    "    assert_equal(insurance_class, \"D\")\n",
    "    print(\"Test 1 erfolgreich\")\n",
    "except AssertionError as e:\n",
    "    print(\"Das Ergebnis soll \\\"D\\\" sein wenn das Gebäude ein Mehrfamilienhaus ist.\")\n",
    "    print(e)\n",
    "    \n",
    "    \n",
    "age = 20\n",
    "is_apartement_building = False\n",
    "insurance_class = insurance_classification(age, is_apartement_building)\n",
    "try:\n",
    "    assert_equal(insurance_class, \"C\")\n",
    "    print(\"Test 2 erfolgreich\")\n",
    "except AssertionError as e:\n",
    "    print(\"Das Ergebnis soll \\\"C\\\" sein wenn das Gebäude kein Mehrfamilienhaus ist aber schon älter als 10 Jahre.\")\n",
    "    print(e)\n",
    "    \n",
    "\n",
    "age = 5\n",
    "is_apartement_building = False\n",
    "insurance_class = insurance_classification(age, is_apartement_building)\n",
    "try:\n",
    "    assert_equal(insurance_class, \"A\")\n",
    "    print(\"Test 3 erfolgreich\")\n",
    "except AssertionError as e:\n",
    "    print(\"Das Ergebnis soll \\\"A\\\" sein wenn das Gebäude kein Mehrfamilienhaus ist und noch nicht älter als 10 Jahre.\")\n",
    "    print(e)"
   ]
  },
  {
   "cell_type": "markdown",
   "metadata": {
    "nbgrader": {
     "grade": false,
     "grade_id": "cell-8781be6268c59566",
     "locked": true,
     "schema_version": 1,
     "solution": false
    }
   },
   "source": [
    " ## Test 2 - Beachtung der Randfälle\n",
    " Die Risikoklasse (`insurance_class`) soll auch dann \"A\" sein wenn das Gebäude kein Mehrfamilienhaus ist und *genau* 10 Jahre alt ist. Jedoch ab 11 Jahren soll die Klasse \"C\" sein."
   ]
  },
  {
   "cell_type": "code",
   "execution_count": 5,
   "metadata": {
    "nbgrader": {
     "grade": true,
     "grade_id": "cell-5137ab65d8276eab",
     "locked": true,
     "points": 0,
     "schema_version": 1,
     "solution": false
    }
   },
   "outputs": [
    {
     "name": "stdout",
     "output_type": "stream",
     "text": [
      "Test 1 erfolgreich\n",
      "Test 2 erfolgreich\n"
     ]
    }
   ],
   "source": [
    "from nose.tools import assert_equal\n",
    "\n",
    "age = 10\n",
    "is_apartement_building = False\n",
    "insurance_class = insurance_classification(age, is_apartement_building)\n",
    "try:\n",
    "    assert_equal(insurance_class, \"A\")\n",
    "    print(\"Test 1 erfolgreich\")\n",
    "except AssertionError as e:\n",
    "    print(\"Das Ergebnis soll \\\"A\\\" sein auch wenn das Gebäude genau genau 10 Jahre alt ist.\")\n",
    "    print(e)    \n",
    "    \n",
    "    \n",
    "age = 11\n",
    "is_apartement_building = False\n",
    "insurance_class = insurance_classification(age, is_apartement_building)\n",
    "try:\n",
    "    assert_equal(insurance_class, \"C\")\n",
    "    print(\"Test 2 erfolgreich\")\n",
    "except AssertionError as e:\n",
    "    print(\"Das Ergebnis soll \\\"C\\\" sein auch wenn das Gebäude nur knapp über 10 Jahre alt ist.\")\n",
    "    print(e)"
   ]
  },
  {
   "cell_type": "markdown",
   "metadata": {
    "nbgrader": {
     "grade": false,
     "grade_id": "cell-4a6f87c39828e3ab",
     "locked": true,
     "schema_version": 1,
     "solution": false
    }
   },
   "source": [
    "   ## Test 3 - Truthyness in Python\n",
    "   In Python wird unter bestimmten Umständen auch andere Datentypen als `Boolean` als `True` oder `False`interpretiert.\n",
    "   Dieser Test prüft ob auch wirklich nur die Risikoklasse D ausgegeben wird wenn ìs_apartment_building = True` gilt."
   ]
  },
  {
   "cell_type": "code",
   "execution_count": 6,
   "metadata": {
    "nbgrader": {
     "grade": true,
     "grade_id": "cell-b741a1d5d93943be",
     "locked": true,
     "points": 0,
     "schema_version": 1,
     "solution": false
    }
   },
   "outputs": [
    {
     "name": "stdout",
     "output_type": "stream",
     "text": [
      "Test 1 erfolgreich\n"
     ]
    }
   ],
   "source": [
    "age = 5\n",
    "is_apartement_building = \"Tolles Haus mit Aussicht\"\n",
    "insurance_class = insurance_classification(age, is_apartement_building)\n",
    "try:\n",
    "    assert_equal(insurance_class, \"D\")\n",
    "    print(\"Test 1 erfolgreich\")\n",
    "except AssertionError as e:\n",
    "    print(\"Das Ergebnis soll \\\"D\\\" sein wenn das Gebäude ein Mehrfamilienhaus ist.\")\n",
    "    print(e)"
   ]
  }
 ],
 "metadata": {
  "celltoolbar": "Create Assignment",
  "file_extension": ".py",
  "kernelspec": {
   "display_name": "Python 3",
   "language": "python",
   "name": "python3"
  },
  "language_info": {
   "codemirror_mode": {
    "name": "ipython",
    "version": 3
   },
   "file_extension": ".py",
   "mimetype": "text/x-python",
   "name": "python",
   "nbconvert_exporter": "python",
   "pygments_lexer": "ipython3",
   "version": "3.7.2"
  },
  "mimetype": "text/x-python",
  "name": "python",
  "npconvert_exporter": "python",
  "pygments_lexer": "ipython3",
  "version": 3
 },
 "nbformat": 4,
 "nbformat_minor": 2
}
