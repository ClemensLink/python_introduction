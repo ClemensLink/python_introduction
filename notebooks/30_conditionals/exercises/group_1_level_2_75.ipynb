{
 "cells": [
  {
   "cell_type": "markdown",
   "metadata": {
    "nbgrader": {
     "grade": false,
     "grade_id": "cell-4e9e9b4480602b4c",
     "locked": true,
     "schema_version": 1,
     "solution": false
    }
   },
   "source": [
    "# Aufgabe 2 \n",
    "\n",
    "Im Rahmen der operativen Planung in einem Handelsunternehmen soll erneut auf der Basis mehrerer gegebener\n",
    "Faktoren eine Einschätzung bezüglich etwaiger Nachbestellungen für ein Produkt getroffen werden. \n",
    "\n",
    "Ist die Lagermenge eines bestimmten Produktes unter oder gleich dem Meldebestand, so soll dieses Produkt 200 mal nachbestellt werden.  \n",
    "Ist die Lagermenge jedoch noch über dem Meldebestand so wollen Sie nichts nachbestellen. Geben Sie zusätzlich \"keine Nachbestellung\" mittels print() in die Konsole aus.\n",
    "\n",
    "Implementieren Sie nun die Funktion `reorder`.  \n",
    "Die Funktion erhält als Parameter `sales_yesterday` einen Integer Wert, welcher angibt wie oft ein Produkt am Vortag verkauft wurde.  \n",
    "Sowie `stock_yesterday`, welcher angibt wie oft das Produkt gestern vor Verkaufsbeginn noch im Lager vorrätig war.  \n",
    "Aus diesen beiden Werten können Sie sich den heutigen Lagerbestand berechnen.  \n",
    "Der dritte Parameter ist `reorder_level`, also der Meldebestand. Ist dieser erreicht soll wie oben beschrieben nachbestellt werden.  \n",
    "Als Ergebnis soll ein neuer Integer Wert `reorder_quantity` erstellt und zurückgegeben werden, welcher angibt wie viele Exemplare des Produktes nachbestellt werden sollen. Soll es nicht nachbestellt werden, so ist die `reorder_quantity` = 0.\n",
    "\n",
    "### Hilfe\n",
    "Sie können Ihre Lösung mit den automatisierten [Tests](#Automatische-Tests) weiter unten im Dokument überprüfen.<br>\n",
    "Eine Einführung in die `Kontrollstrukturen`in Python finden Sie [hier](../../30_conditionals/10_conditionals.ipynb)."
   ]
  },
  {
   "cell_type": "code",
   "execution_count": 9,
   "metadata": {
    "nbgrader": {
     "grade": false,
     "grade_id": "cell-ed147248e1bd5839",
     "locked": false,
     "schema_version": 1,
     "solution": true
    }
   },
   "outputs": [
    {
     "name": "stdout",
     "output_type": "stream",
     "text": [
      "Wenn Ihre Funktion mit den Parametern \"reorder_level = 1000\", \"stock_yesterday = 1000\", \"sales_yesterday = 1500\" aufgerufen wird ist das Ergebnis: 200\n"
     ]
    }
   ],
   "source": [
    "def reorder(reorder_level, stock_yesterday, sales_yesterday):\n",
    "    \n",
    "    reorder_quantity = 0\n",
    "    stock_today = stock_yesterday - sales_yesterday\n",
    "    if # Bedingung:\n",
    "        reorder_quantity = 200\n",
    "    else:\n",
    "        print(\"keine Nachbestellung\")\n",
    "    \n",
    "    return reorder_quantity\n",
    "\n",
    "\n",
    "print(\"Wenn Ihre Funktion mit den Parametern \\\"reorder_level = 1000\\\", \\\"stock_yesterday = 1000\\\", \\\"sales_yesterday = 1500\\\" aufgerufen wird ist das Ergebnis:\", reorder(1000, 1000, 1500))"
   ]
  },
  {
   "cell_type": "markdown",
   "metadata": {
    "nbgrader": {
     "grade": false,
     "grade_id": "cell-b8b0f1bb4b399044",
     "locked": true,
     "schema_version": 1,
     "solution": false
    }
   },
   "source": [
    "***\n",
    "# Automatische Tests\n",
    "Ab hier finden Sie einige automatisierte Tests um Ihre Lösungen zu überprüfen. Um Ihre Lösung zu prüfen führen Sie bitte zuerst die Zelle mit Ihrer Lösung und danach die Zelle mit dem zugehörigen Test aus.\n"
   ]
  },
  {
   "cell_type": "code",
   "execution_count": 10,
   "metadata": {},
   "outputs": [],
   "source": [
    "try:\n",
    "    reorder(1000, 1000, 1500)\n",
    "except NotImplementedError:\n",
    "    print(\"Bitte entfernen Sie das \\\"raise NotImplementedError()\\\"\")"
   ]
  },
  {
   "cell_type": "markdown",
   "metadata": {
    "nbgrader": {
     "grade": false,
     "grade_id": "cell-5c2e45ddf46944c2",
     "locked": true,
     "schema_version": 1,
     "solution": false
    }
   },
   "source": [
    "## Test 1 - Korrekte Bedingung\n",
    "Die Menge an zu bestellenden Produkten (`reorder_quantity`) soll anders sein je nachdem ob der Meldebestand erreicht ist oder nicht."
   ]
  },
  {
   "cell_type": "code",
   "execution_count": 11,
   "metadata": {
    "nbgrader": {
     "grade": true,
     "grade_id": "cell-b5f89c14fd16f871",
     "locked": true,
     "points": 0,
     "schema_version": 1,
     "solution": false
    }
   },
   "outputs": [
    {
     "name": "stdout",
     "output_type": "stream",
     "text": [
      "keine Nachbestellung\n",
      "Test 1 erfolgreich\n"
     ]
    }
   ],
   "source": [
    "from nose.tools import assert_not_equal\n",
    "\n",
    "reorder_level = 1000\n",
    "reorder_level2 = 15000\n",
    "sales_yesterday = 8000\n",
    "stock_yesterday = 20000\n",
    "reorder_quantity = reorder(reorder_level, stock_yesterday, sales_yesterday)\n",
    "reorder_quantity2 = reorder(reorder_level2, stock_yesterday, sales_yesterday)\n",
    "try:\n",
    "    assert_not_equal(reorder_quantity, reorder_quantity2)\n",
    "    print(\"Test 1 erfolgreich\")\n",
    "except AssertionError as e:\n",
    "    print(\"Das Ergebnis soll unterschiedlich sein, je nachdem ob der Meldebestand erreicht wurde.\")\n",
    "    print(e)\n",
    "    "
   ]
  },
  {
   "cell_type": "markdown",
   "metadata": {
    "nbgrader": {
     "grade": false,
     "grade_id": "cell-6e5292ea5f2d84c4",
     "locked": true,
     "schema_version": 1,
     "solution": false
    }
   },
   "source": [
    "## Test 2 - Korrekte Berechnung der Bestellmenge\n",
    "Die Menge an zu bestellenden Produkten (`reorder_quantity`) soll entweder genau so groß sein wie die Verkaufsmenge am Vortag oder doppelt so groß."
   ]
  },
  {
   "cell_type": "code",
   "execution_count": 12,
   "metadata": {
    "nbgrader": {
     "grade": true,
     "grade_id": "cell-8b34857b5ddbd553",
     "locked": true,
     "points": 0,
     "schema_version": 1,
     "solution": false
    }
   },
   "outputs": [
    {
     "name": "stdout",
     "output_type": "stream",
     "text": [
      "Test 1 erfolgreich\n",
      "keine Nachbestellung\n",
      "Test 2 erfolgreich\n"
     ]
    }
   ],
   "source": [
    "from nose.tools import assert_equal\n",
    "\n",
    "reorder_level = 1000\n",
    "sales_yesterday = 1000\n",
    "stock_yesterday = 1500\n",
    "reorder_quantity = reorder(reorder_level, stock_yesterday, sales_yesterday)\n",
    "try:\n",
    "    assert_equal(reorder_quantity, 200)\n",
    "    print(\"Test 1 erfolgreich\")\n",
    "except AssertionError as e:\n",
    "    print(\"Das Ergebnis soll 200 sein.\")\n",
    "    print(e)\n",
    "    \n",
    "    \n",
    "reorder_level = 1000\n",
    "sales_yesterday = 200\n",
    "stock_yesterday = 1500\n",
    "reorder_quantity = reorder(reorder_level, stock_yesterday, sales_yesterday)\n",
    "try:\n",
    "    assert_equal(reorder_quantity, 0)\n",
    "    print(\"Test 2 erfolgreich\")\n",
    "except AssertionError as e:\n",
    "    print(\"Das Ergebnis soll 0 sein.\")\n",
    "    print(e)\n",
    "    "
   ]
  }
 ],
 "metadata": {
  "celltoolbar": "Create Assignment",
  "file_extension": ".py",
  "kernelspec": {
   "display_name": "Python 3",
   "language": "python",
   "name": "python3"
  },
  "language_info": {
   "codemirror_mode": {
    "name": "ipython",
    "version": 3
   },
   "file_extension": ".py",
   "mimetype": "text/x-python",
   "name": "python",
   "nbconvert_exporter": "python",
   "pygments_lexer": "ipython3",
   "version": "3.7.2"
  },
  "mimetype": "text/x-python",
  "name": "python",
  "npconvert_exporter": "python",
  "pygments_lexer": "ipython3",
  "version": 3
 },
 "nbformat": 4,
 "nbformat_minor": 2
}
