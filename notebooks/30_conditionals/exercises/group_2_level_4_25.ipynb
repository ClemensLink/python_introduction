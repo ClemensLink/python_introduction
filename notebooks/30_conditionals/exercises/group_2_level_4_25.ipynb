{
 "cells": [
  {
   "cell_type": "markdown",
   "metadata": {
    "nbgrader": {
     "grade": false,
     "grade_id": "cell-bfb23ab2d58d7094",
     "locked": true,
     "schema_version": 1,
     "solution": false
    }
   },
   "source": [
    "# Aufgabe 4 \n",
    "\n",
    "In einem Versicherungsunternehmen soll, im Rahmen der Gebäudeversicherungen, ein Programm zur automatischen Risikobewertung implementiert werden. Im vierten Schritt soll weiter zwischen den Risikoklassen differenziert werden. Ein Gebäude soll immer dann in Risikoklasse \"D\" eingestuft werden wenn es sich um ein Mehrfamilienhaus handelt *oder* es älter als 20 Jahre ist. Andernfalls soll folgendes überprüft werden:  \n",
    "Ist das Alter eines Gebäudes unter oder gleich 10 Jahren, so gehört es in die Risikoklasse \"A\".  \n",
    "Ist ein Gebäude im Alter von 11-20 Jahren, so ist die Risikoklasse \"B\". \n",
    "\n",
    "Implementieren Sie nun die Funktion `insurance_classification`. Diese Funktion erhält einen Parameter `age`, welcher in Form eines Integer-Wertes angibt wie alt das Gebäude ist (in Jahren). Sowie den Parameter `is_apartement_building`, der in Form eines Boolean-Wertes angibt ob das Gebäude ein Mehrfamilienhaus ist (True oder False).  \n",
    "Als Ergebnis soll jedoch die Risikoklasse in Form eines Buchstabens zurückgegeben werden (\"A\",\"B\" oder \"D\"). \n",
    "\n",
    "\n",
    "## Wichtige Hinweise\n",
    "Bisher haben Sie im Rahmen dieser Einführung in Python Funktionen noch nicht kennen gelernt. Aus diesem Grund hier ein paar Hinweise zum Umgang mit Funktionen im Rahmen dieser Übungsaufgaben:\n",
    "\n",
    "1. Erstellen Sie Ihre Lösung innerhalb des mit `### START` und `### ENDE` markierten Bereichs. Ändern Sie den Programmcode außerhalb des markierten Bereichs nicht. \n",
    "1. Funktionen besitzen Parameter. Diese Parameter haben Namen. Behandel Sie die Parameter einfach wie Variablen in Ihrer Lösung. \n",
    "1. Bitte löschen Sie ggf die Zeile `raise NotImplementedError()`\n",
    "\n",
    "### Hilfe\n",
    "Sie können Ihre Lösung mit den automatisierten [Tests](#Automatische-Tests) weiter unten im Dokument überprüfen.<br>\n",
    "Eine Einführung in die `Kontrollstrukturen`in Python finden Sie [hier](../../30_conditionals/10_conditionals.ipynb)."
   ]
  },
  {
   "cell_type": "code",
   "execution_count": 1,
   "metadata": {
    "nbgrader": {
     "grade": false,
     "grade_id": "cell-193d12ab4b908fe7",
     "locked": false,
     "schema_version": 1,
     "solution": true
    }
   },
   "outputs": [
    {
     "name": "stdout",
     "output_type": "stream",
     "text": [
      "Wenn Ihre Funktion mit den Parametern \"age = 5\" und \"is_apartement_building = True\" aufgerufen wird ist das Ergebnis: D\n"
     ]
    }
   ],
   "source": [
    "def insurance_classification(age, is_apartement_building):\n",
    "    \n",
    "    ###START\n",
    "    insurance_class = \"A\"\n",
    "    if #Bedingung, nach der das Gebäude in Klasse D gestuft wird:\n",
    "        insurance_class = \"D\"\n",
    "    elif #Bedingung nach der das Gebäude in Klasse A gestuft wird:\n",
    "        insurance_class = \"A\"\n",
    "    else:\n",
    "        #Einstufung in andere Klasse\n",
    "        \n",
    "    ###ENDE\n",
    "    return insurance_class\n",
    "\n",
    "\n",
    "print(\"Wenn Ihre Funktion mit den Parametern \\\"age = 5\\\" und \\\"is_apartement_building = True\\\" aufgerufen wird ist das Ergebnis:\", insurance_classification(5, True))"
   ]
  },
  {
   "cell_type": "markdown",
   "metadata": {
    "nbgrader": {
     "grade": false,
     "grade_id": "cell-60819fcd0f2691d2",
     "locked": true,
     "schema_version": 1,
     "solution": false
    }
   },
   "source": [
    "***\n",
    "# Automatische Tests\n",
    "Ab hier finden Sie einige automatisierte Tests um Ihre Lösungen zu überprüfen. Um Ihre Lösung zu prüfen führen Sie bitte zuerst die Zelle mit Ihrer Lösung und danach die Zelle mit dem zugehörigen Test aus.\n"
   ]
  },
  {
   "cell_type": "code",
   "execution_count": 2,
   "metadata": {
    "nbgrader": {
     "grade": true,
     "grade_id": "cell-b3a0c892c746e20b",
     "locked": true,
     "points": 0,
     "schema_version": 1,
     "solution": false
    }
   },
   "outputs": [],
   "source": [
    "try:\n",
    "    insurance_classification(5, True)\n",
    "except NotImplementedError:\n",
    "    print(\"Bitte entfernen Sie das \\\"raise NotImplementedError()\\\"\")"
   ]
  },
  {
   "cell_type": "markdown",
   "metadata": {
    "nbgrader": {
     "grade": false,
     "grade_id": "cell-0fdd355e3e0e99fa",
     "locked": true,
     "schema_version": 1,
     "solution": false
    }
   },
   "source": [
    "## Test 1 - Korrekte Bedingungen\n",
    "Die Risikoklasse (`insurance_class`) soll \"D\" sein, wenn es sich bei dem Gebäude um ein Mehrfamilienhaus handelt *oder* das Gebäude älter als 20 Jahre ist.  \n",
    "Ist dies nicht der Fall so soll die Risikoklasse \"B\" oder \"A\" sein, je nachdem ob das Gebäude jünger als 10 Jahre ist (A) oder zwischen 11 und 20 Jahren (B)."
   ]
  },
  {
   "cell_type": "code",
   "execution_count": 3,
   "metadata": {
    "nbgrader": {
     "grade": true,
     "grade_id": "cell-4002fd512e8fb9f7",
     "locked": true,
     "points": 0,
     "schema_version": 1,
     "solution": false
    }
   },
   "outputs": [
    {
     "name": "stdout",
     "output_type": "stream",
     "text": [
      "Test 1 erfolgreich\n",
      "Test 2 erfolgreich\n",
      "Test 3 erfolgreich\n",
      "Test 4 erfolgreich\n",
      "Test 5 erfolgreich\n"
     ]
    }
   ],
   "source": [
    "from nose.tools import assert_equal\n",
    "\n",
    "age = 5\n",
    "is_apartement_building = True\n",
    "insurance_class = insurance_classification(age, is_apartement_building)\n",
    "try:\n",
    "    assert_equal(insurance_class, \"D\")\n",
    "    print(\"Test 1 erfolgreich\")\n",
    "except AssertionError as e:\n",
    "    print(\"Das Ergebnis soll \\\"D\\\" sein wenn das Gebäude ein Mehrfamilienhaus ist.\")\n",
    "    print(e)\n",
    "    \n",
    "    \n",
    "age = 25\n",
    "is_apartement_building = False\n",
    "insurance_class = insurance_classification(age, is_apartement_building)\n",
    "try:\n",
    "    assert_equal(insurance_class, \"D\")\n",
    "    print(\"Test 2 erfolgreich\")\n",
    "except AssertionError as e:\n",
    "    print(\"Das Ergebnis soll \\\"D\\\" sein wenn das Gebäude älter als 20 Jahre ist.\")\n",
    "    print(e)\n",
    "    \n",
    "\n",
    "age = 15\n",
    "is_apartement_building = False\n",
    "insurance_class = insurance_classification(age, is_apartement_building)\n",
    "try:\n",
    "    assert_equal(insurance_class, \"B\")\n",
    "    print(\"Test 3 erfolgreich\")\n",
    "except AssertionError as e:\n",
    "    print(\"Das Ergebnis soll \\\"B\\\" sein wenn das Gebäude kein Mehrfamilienhaus ist und zwischen 11 und 20 Jahren alt.\")\n",
    "    print(e)\n",
    "    \n",
    "\n",
    "age = 5\n",
    "is_apartement_building = False\n",
    "insurance_class = insurance_classification(age, is_apartement_building)\n",
    "try:\n",
    "    assert_equal(insurance_class, \"A\")\n",
    "    print(\"Test 4 erfolgreich\")\n",
    "except AssertionError as e:\n",
    "    print(\"Das Ergebnis soll \\\"A\\\" sein wenn das Gebäude kein Mehrfamilienhaus ist und noch nicht älter als 10 Jahre.\")\n",
    "    print(e)\n",
    "    \n",
    "    \n",
    "age = 25\n",
    "is_apartement_building = True\n",
    "insurance_class = insurance_classification(age, is_apartement_building)\n",
    "try:\n",
    "    assert_equal(insurance_class, \"D\")\n",
    "    print(\"Test 5 erfolgreich\")\n",
    "except AssertionError as e:\n",
    "    print(\"Das Ergebnis soll \\\"D\\\" sein wenn das Gebäude sowohl ein Mehrfamilienhaus, als auch älter als 20 ist.\")\n",
    "    print(e)\n"
   ]
  },
  {
   "cell_type": "markdown",
   "metadata": {
    "nbgrader": {
     "grade": false,
     "grade_id": "cell-73b85b63788328bc",
     "locked": true,
     "schema_version": 1,
     "solution": false
    }
   },
   "source": [
    "## Test 2 - Beachtung der Randfälle\n",
    "Die Risikoklasse (`insurance_class`) soll auch dann \"A\" sein wenn das Gebäude kein Mehrfamilienhaus ist und *genau* 10 Jahre alt ist. Ebenso gehört ein *genau* 20 Jahre altes Gebäude noch zur Risikoklasse \"B\"."
   ]
  },
  {
   "cell_type": "code",
   "execution_count": 4,
   "metadata": {
    "nbgrader": {
     "grade": true,
     "grade_id": "cell-3df2e0a21b94f1cc",
     "locked": true,
     "points": 0,
     "schema_version": 1,
     "solution": false
    }
   },
   "outputs": [
    {
     "name": "stdout",
     "output_type": "stream",
     "text": [
      "Test 1 erfolgreich\n",
      "Test 2 erfolgreich\n"
     ]
    }
   ],
   "source": [
    "from nose.tools import assert_equal\n",
    "\n",
    "age = 10\n",
    "is_apartement_building = False\n",
    "insurance_class = insurance_classification(age, is_apartement_building)\n",
    "try:\n",
    "    assert_equal(insurance_class, \"A\")\n",
    "    print(\"Test 1 erfolgreich\")\n",
    "except AssertionError as e:\n",
    "    print(\"Das Ergebnis soll \\\"A\\\" sein auch wenn das Gebäude genau 10 Jahre alt ist.\")\n",
    "    print(e)\n",
    "    \n",
    "    \n",
    "age = 20\n",
    "is_apartement_building = False\n",
    "insurance_class = insurance_classification(age, is_apartement_building)\n",
    "try:\n",
    "    assert_equal(insurance_class, \"B\")\n",
    "    print(\"Test 2 erfolgreich\")\n",
    "except AssertionError as e:\n",
    "    print(\"Das Ergebnis soll \\\"B\\\" sein auch wenn das Gebäude genau 20 Jahre alt ist.\")\n",
    "    print(e)"
   ]
  }
 ],
 "metadata": {
  "celltoolbar": "Create Assignment",
  "file_extension": ".py",
  "kernelspec": {
   "display_name": "Python 3",
   "language": "python",
   "name": "python3"
  },
  "language_info": {
   "codemirror_mode": {
    "name": "ipython",
    "version": 3
   },
   "file_extension": ".py",
   "mimetype": "text/x-python",
   "name": "python",
   "nbconvert_exporter": "python",
   "pygments_lexer": "ipython3",
   "version": "3.7.2"
  },
  "mimetype": "text/x-python",
  "name": "python",
  "npconvert_exporter": "python",
  "pygments_lexer": "ipython3",
  "version": 3
 },
 "nbformat": 4,
 "nbformat_minor": 2
}
