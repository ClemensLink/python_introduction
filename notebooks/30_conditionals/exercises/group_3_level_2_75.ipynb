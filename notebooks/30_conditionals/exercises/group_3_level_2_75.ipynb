{
 "cells": [
  {
   "cell_type": "markdown",
   "metadata": {
    "nbgrader": {
     "grade": false,
     "grade_id": "cell-6beffd3054bd9be7",
     "locked": true,
     "schema_version": 1,
     "solution": false
    }
   },
   "source": [
    " # Aufgabe 2\n",
    "\n",
    " In einer Bank sollen Kreditkartenanträge zukünftig mittels eines Computerprogramms automatisch bearbeitet werden. Sie sollen nun das Regelwerk zur Entscheidung über Anträge mittels `Conditionals` in einem Python Programm umsetzen.\n",
    " Im zweiten Schritt soll überprüft werden ob das Einkommen eines Antragstellers über 1500€ liegt. Nur dann soll eine Kreditkarte ausgestellt werden. Andernfalls ist der Antragsteller nicht berechtigt eine Kreditkarte zu erhalten.\n",
    "\n",
    " Implementieren Sie nun die Funktion `request_verification`. Diese Funktion erhält einen Parameter `monthly_income`, welcher in Form eines float-Wertes das monatliche Einkommen des Antragstellers speichert.\n",
    " Als Ergebnis soll in Form eines Boolean-Wertes zurückgegeben werden ob der Antragsteller berechtigt ist eine Kreditkarte zu erhalten. Ist das monatliche Einkommen unter oder gleich 1500€ so geben Sie `False`zurück. Ansonsten `True`.\n",
    " **Geben Sie zusätzlich mittels print() eine Meldung in die Konsole aus ob der Antrag angenommen oder abgelehnt wird.**\n",
    "\n",
    "\n",
    "\n",
    " ### Hilfe\n",
    " Sie können Ihre Lösung mit den automatisierten [Tests](#Automatische-Tests) weiter unten im Dokument überprüfen.<br>\n",
    " Eine Einführung in die `Kontrollstrukturen`in Python finden Sie [hier](../../30_conditionals/10_conditionals.ipynb)."
   ]
  },
  {
   "cell_type": "code",
   "execution_count": 1,
   "metadata": {
    "nbgrader": {
     "grade": false,
     "grade_id": "cell-435d35e71c19e9e4",
     "locked": false,
     "schema_version": 1,
     "solution": true
    }
   },
   "outputs": [
    {
     "name": "stdout",
     "output_type": "stream",
     "text": [
      "Antrag abgelehnt\n",
      "Wenn Ihre Funktion mit dem Parameter \"monthly_income = 500\" aufgerufen wird ist das Ergebnis: False\n"
     ]
    }
   ],
   "source": [
    "def request_verification(monthly_income):\n",
    "    \n",
    "    is_eligible = True\n",
    "    if #Bedingung (Einkommen unter oder gleich 1500€):\n",
    "        is_eligible = False\n",
    "        print(\"Antrag abgelehnt\")\n",
    "    else:\n",
    "        is_eligible = True\n",
    "        print(\"Antrag angenommen\")\n",
    "        \n",
    "    return is_eligible\n",
    "\n",
    "\n",
    "print(\"Wenn Ihre Funktion mit dem Parameter \\\"monthly_income = 500\\\" aufgerufen wird ist das Ergebnis:\", request_verification(500))"
   ]
  },
  {
   "cell_type": "markdown",
   "metadata": {
    "nbgrader": {
     "grade": false,
     "grade_id": "cell-f58920683318a0c8",
     "locked": true,
     "schema_version": 1,
     "solution": false
    }
   },
   "source": [
    " ***\n",
    " # Automatische Tests\n",
    " Ab hier finden Sie einige automatisierte Tests um Ihre Lösungen zu überprüfen. Um Ihre Lösung zu prüfen führen Sie bitte zuerst die Zelle mit Ihrer Lösung und danach die Zelle mit dem zugehörigen Test aus.\n"
   ]
  },
  {
   "cell_type": "code",
   "execution_count": 2,
   "metadata": {
    "nbgrader": {
     "grade": true,
     "grade_id": "cell-985a5692173d952d",
     "locked": true,
     "points": 0,
     "schema_version": 1,
     "solution": false
    }
   },
   "outputs": [
    {
     "name": "stdout",
     "output_type": "stream",
     "text": [
      "Antrag abgelehnt\n"
     ]
    }
   ],
   "source": [
    "try:\n",
    "    request_verification(500)\n",
    "except NotImplementedError:\n",
    "    print(\"Bitte entfernen Sie das \\\"raise NotImplementedError()\\\"\")"
   ]
  },
  {
   "cell_type": "markdown",
   "metadata": {
    "nbgrader": {
     "grade": false,
     "grade_id": "cell-b0b990b2b4947c90",
     "locked": true,
     "schema_version": 1,
     "solution": false
    }
   },
   "source": [
    " ## Test 1 - Rückgabe als Boolean-Wert\n",
    " Der Rückgabewert (`is_eligible`) soll vom Datenypen Boolean sein."
   ]
  },
  {
   "cell_type": "code",
   "execution_count": 3,
   "metadata": {
    "nbgrader": {
     "grade": true,
     "grade_id": "cell-13874ea7e8a804fa",
     "locked": true,
     "points": 0,
     "schema_version": 1,
     "solution": false
    }
   },
   "outputs": [
    {
     "name": "stdout",
     "output_type": "stream",
     "text": [
      "Antrag angenommen\n",
      "Test 1 erfolgreich\n"
     ]
    }
   ],
   "source": [
    "from nose.tools import assert_equal\n",
    "\n",
    "monthly_income = 3000\n",
    "is_eligible = request_verification(monthly_income)\n",
    "try:\n",
    "    assert_equal(isinstance(is_eligible, bool), True)\n",
    "    assert_equal(isinstance(is_eligible, str), False)\n",
    "    print(\"Test 1 erfolgreich\")\n",
    "except AssertionError as e:\n",
    "    print(\"Das Ergebnis soll vom Typen Boolean sein.\\nDas Ergebnis soll nicht vom Typen String sein. Nutzen Sie keine Anführungszeichen für die Zuweisung von Boolean-Werten\")\n",
    "    print(e)\n",
    "    \n",
    "    "
   ]
  },
  {
   "cell_type": "markdown",
   "metadata": {
    "nbgrader": {
     "grade": false,
     "grade_id": "cell-0d1ffc60b1d8eb49",
     "locked": true,
     "schema_version": 1,
     "solution": false
    }
   },
   "source": [
    " ## Test 2 - Korrekte Bedingung\n",
    " Der Rückgabewert (`is_eligible`) soll *True* sein wenn der Antragsteller ein monatliches Einkommen von über 1500€ hat. Ansonsten soll der Wert *False* sein."
   ]
  },
  {
   "cell_type": "code",
   "execution_count": 5,
   "metadata": {
    "nbgrader": {
     "grade": true,
     "grade_id": "cell-10bc2b025630b9e3",
     "locked": true,
     "points": 0,
     "schema_version": 1,
     "solution": false
    }
   },
   "outputs": [
    {
     "name": "stdout",
     "output_type": "stream",
     "text": [
      "Antrag angenommen\n",
      "Test 1 erfolgreich\n",
      "Antrag abgelehnt\n",
      "Test 2 erfolgreich\n"
     ]
    }
   ],
   "source": [
    "from nose.tools import assert_equal\n",
    "\n",
    "monthly_income = 3000\n",
    "is_eligible = request_verification(monthly_income)\n",
    "try:\n",
    "    assert_equal(is_eligible, True)\n",
    "    print(\"Test 1 erfolgreich\")\n",
    "except AssertionError as e:\n",
    "    print(\"Das Ergebnis soll True sein wenn der Antragsteller ein Einkommen von über 1500€ hat.\")\n",
    "    print(e)\n",
    "    \n",
    "    \n",
    "monthly_income = 200\n",
    "is_eligible = request_verification(monthly_income)\n",
    "try:\n",
    "    assert_equal(is_eligible, False)\n",
    "    print(\"Test 2 erfolgreich\")\n",
    "except AssertionError as e:\n",
    "    print(\"Das Ergebnis soll False sein wenn der Antragsteller ein Einkommen von unter 1500€ hat.\")\n",
    "    print(e)\n",
    "    \n",
    "    "
   ]
  },
  {
   "cell_type": "markdown",
   "metadata": {
    "nbgrader": {
     "grade": false,
     "grade_id": "cell-9f02191971097537",
     "locked": true,
     "schema_version": 1,
     "solution": false
    }
   },
   "source": [
    " ## Test 3 - Beachtung von Randfällen\n",
    " Der Rückgabewert (`is_eligible`) soll auch dann *False* sein wenn der Antragsteller ein monatliches Einkommen von genau 1500€ hat. Jedoch soll der Wert schon *True* sein wenn das Einkommen nur minimal über 1500€ liegt."
   ]
  },
  {
   "cell_type": "code",
   "execution_count": 4,
   "metadata": {
    "nbgrader": {
     "grade": true,
     "grade_id": "cell-3883c4ef269a897c",
     "locked": true,
     "points": 0,
     "schema_version": 1,
     "solution": false
    }
   },
   "outputs": [
    {
     "name": "stdout",
     "output_type": "stream",
     "text": [
      "Antrag abgelehnt\n",
      "Test 1 erfolgreich\n",
      "Antrag angenommen\n",
      "Test 2 erfolgreich\n"
     ]
    }
   ],
   "source": [
    "from nose.tools import assert_equal\n",
    "\n",
    "monthly_income = 1500\n",
    "is_eligible = request_verification(monthly_income)\n",
    "try:\n",
    "    assert_equal(is_eligible, False)\n",
    "    print(\"Test 1 erfolgreich\")\n",
    "except AssertionError as e:\n",
    "    print(\"Das Ergebnis soll auch dann False sein wenn der Antragsteller ein Einkommen von genau 1500€ hat.\")\n",
    "    print(e)\n",
    "    \n",
    "    \n",
    "monthly_income = 1500.01\n",
    "is_eligible = request_verification(monthly_income)\n",
    "try:\n",
    "    assert_equal(is_eligible, True)\n",
    "    print(\"Test 2 erfolgreich\")\n",
    "except AssertionError as e:\n",
    "    print(\"Das Ergebnis soll auch dann True sein wenn der Antragsteller ein Einkommen von nur knapp über 1500€ hat.\")\n",
    "    print(e)\n",
    "    \n",
    "    "
   ]
  }
 ],
 "metadata": {
  "celltoolbar": "Create Assignment",
  "file_extension": ".py",
  "kernelspec": {
   "display_name": "Python 3",
   "language": "python",
   "name": "python3"
  },
  "language_info": {
   "codemirror_mode": {
    "name": "ipython",
    "version": 3
   },
   "file_extension": ".py",
   "mimetype": "text/x-python",
   "name": "python",
   "nbconvert_exporter": "python",
   "pygments_lexer": "ipython3",
   "version": "3.7.2"
  },
  "mimetype": "text/x-python",
  "name": "python",
  "npconvert_exporter": "python",
  "pygments_lexer": "ipython3",
  "version": 3
 },
 "nbformat": 4,
 "nbformat_minor": 2
}
