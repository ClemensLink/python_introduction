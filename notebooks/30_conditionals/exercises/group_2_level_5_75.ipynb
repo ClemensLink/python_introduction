{
 "cells": [
  {
   "cell_type": "markdown",
   "metadata": {
    "nbgrader": {
     "grade": false,
     "grade_id": "cell-85f66a2bb1295531",
     "locked": true,
     "schema_version": 1,
     "solution": false
    }
   },
   "source": [
    "# Aufgabe 5 \n",
    "\n",
    "In einem Versicherungsunternehmen soll, im Rahmen der Gebäudeversicherungen, ein Programm zur automatischen Risikobewertung implementiert werden. Setzen Sie in diesem Schritt folgendes Regelwerk um:\n",
    "- Falls das Alter eines Hauses kleiner oder gleich 10 Jahre ist und es sich um ein Reihenhaus oder Einfamilienhaus   handelt, ist die Risikoklasse A \n",
    "- Falls es sich um ein Reihenhaus in Alter von 11 - 20 Jahren handelt ist die Risikoklasse B \n",
    "- Falls es sich um ein Einfamilienhaus im Alter zwischen 11 – 15 Jahre handelt ist die Risikoklasse B \n",
    "- Falls es sich um ein Einfamilienhaus im Alter zwischen 16 – 20 Jahre handelt ist die Risikoklasse C \n",
    "- Bei Mehrfamilienhäusern ist die Risikoklasse D \n",
    "- Bei Häusern ab einem Alter von 21 Jahren ist die Risikoklasse D. \n",
    "\n",
    "Implementieren Sie nun die Funktion `insurance_classification`. Diese Funktion erhält einen Parameter `age`, welcher in Form eines Integer-Wertes angibt wie alt das Gebäude ist (in Jahren). Außerdem den Parameter `building_type`, der in Form eines Strings angibt ob das Gebäude ein \"detached_house\" (Einfamilienhaus), \"townhouse\" (Reihenhaus) oder \"apartement_building\" (Mehrfamilienhaus) ist.  \n",
    "**Testen Sie bevor Sie das Regelwerk umsetzen ob der Parameter \"building_type\" tatsächlich ein String ist damit Sie diesen verwenden können. Andernfalls geben Sie als Risikoklasse \"ERROR\" zurück.**  \n",
    "Als Ergebnis soll jedoch die Risikoklasse in Form eines Buchstabens zurückgegeben werden (\"A\",\"B\", \"C\" oder \"D\"). \n",
    "\n",
    "\n",
    "## Wichtige Hinweise\n",
    "Bisher haben Sie im Rahmen dieser Einführung in Python Funktionen noch nicht kennen gelernt. Aus diesem Grund hier ein paar Hinweise zum Umgang mit Funktionen im Rahmen dieser Übungsaufgaben:\n",
    "\n",
    "1. Erstellen Sie Ihre Lösung innerhalb des mit `### START` und `### ENDE` markierten Bereichs. Ändern Sie den Programmcode außerhalb des markierten Bereichs nicht. \n",
    "1. Funktionen besitzen Parameter. Diese Parameter haben Namen. Behandel Sie die Parameter einfach wie Variablen in Ihrer Lösung. \n",
    "1. Bitte löschen Sie ggf die Zeile `raise NotImplementedError()`\n",
    "\n",
    "### Hilfe\n",
    "Sie können Ihre Lösung mit den automatisierten [Tests](#Automatische-Tests) weiter unten im Dokument überprüfen.<br>\n",
    "Eine Einführung in die `Kontrollstrukturen`in Python finden Sie [hier](../../30_conditionals/10_conditionals.ipynb)."
   ]
  },
  {
   "cell_type": "code",
   "execution_count": 3,
   "metadata": {
    "nbgrader": {
     "grade": false,
     "grade_id": "cell-44dd4fd08f2e3fce",
     "locked": false,
     "schema_version": 1,
     "solution": true
    }
   },
   "outputs": [
    {
     "name": "stdout",
     "output_type": "stream",
     "text": [
      "Wenn Ihre Funktion mit den Parametern \"age = 5\" und \"building_type = townhouse\" aufgerufen wird ist das Ergebnis: A\n"
     ]
    }
   ],
   "source": [
    "def insurance_classification(age, building_type):\n",
    "    \n",
    "    ###START\n",
    "    insurance_class = \"ERROR\"\n",
    "    if isinstance(building_type, str):\n",
    "        if building_type == \"apartement_building\" or #weitere Bedingung für Risikoklasse D (alter über 20):\n",
    "            insurance_class = \"D\"\n",
    "        elif age <= 10:\n",
    "            insurance_class = \"A\"\n",
    "        elif building_type == \"townhouse\" or #weitere Bedingung für Risikoklasse B (alter zwischen 11 und 15):\n",
    "            insurance_class = \"B\"\n",
    "        else:\n",
    "            insurance_class = \"C\"\n",
    "        \n",
    "        \n",
    "    ###ENDE\n",
    "    return insurance_class\n",
    "\n",
    "\n",
    "print(\"Wenn Ihre Funktion mit den Parametern \\\"age = 5\\\" und \\\"building_type = townhouse\\\" aufgerufen wird ist das Ergebnis:\", insurance_classification(5, \"townhouse\"))"
   ]
  },
  {
   "cell_type": "markdown",
   "metadata": {
    "nbgrader": {
     "grade": false,
     "grade_id": "cell-7233ecb1a20280f8",
     "locked": true,
     "schema_version": 1,
     "solution": false
    }
   },
   "source": [
    "***\n",
    "# Automatische Tests\n",
    "Ab hier finden Sie einige automatisierte Tests um Ihre Lösungen zu überprüfen. Um Ihre Lösung zu prüfen führen Sie bitte zuerst die Zelle mit Ihrer Lösung und danach die Zelle mit dem zugehörigen Test aus.\n"
   ]
  },
  {
   "cell_type": "code",
   "execution_count": 4,
   "metadata": {
    "nbgrader": {
     "grade": true,
     "grade_id": "cell-fd946f16b75ae09c",
     "locked": true,
     "points": 0,
     "schema_version": 1,
     "solution": false
    }
   },
   "outputs": [],
   "source": [
    "try:\n",
    "    insurance_classification(5, \"townhouse\")\n",
    "except NotImplementedError:\n",
    "    print(\"Bitte entfernen Sie das \\\"raise NotImplementedError()\\\"\")"
   ]
  },
  {
   "cell_type": "markdown",
   "metadata": {
    "nbgrader": {
     "grade": false,
     "grade_id": "cell-db7c3d95f3afaf12",
     "locked": true,
     "schema_version": 1,
     "solution": false
    }
   },
   "source": [
    "## Test 1 - ERROR bei fehlerhaftem Parameter\n",
    "Sollte der Parameter `building_type` kein String sein, so muss dies als \"ERROR\" von Ihrem Programm abgefangen werden. Sonst ist der weiter Umgang mit dem Parameter nicht möglich."
   ]
  },
  {
   "cell_type": "code",
   "execution_count": 5,
   "metadata": {
    "nbgrader": {
     "grade": true,
     "grade_id": "cell-ea31930496ec0f0c",
     "locked": true,
     "points": 0,
     "schema_version": 1,
     "solution": false
    }
   },
   "outputs": [
    {
     "name": "stdout",
     "output_type": "stream",
     "text": [
      "Test 1 erfolgreich\n",
      "Test 2 erfolgreich\n"
     ]
    }
   ],
   "source": [
    "from nose.tools import assert_equal\n",
    "\n",
    "age = 5\n",
    "building_type = 15\n",
    "insurance_class = insurance_classification(age, building_type)\n",
    "try:\n",
    "    assert_equal(insurance_class, \"ERROR\")\n",
    "    print(\"Test 1 erfolgreich\")\n",
    "except AssertionError as e:\n",
    "    print(\"Das Ergebnis soll \\\"ERROR\\\" sein wenn der Parameter `building_type` kein String ist.\")\n",
    "    print(e)\n",
    "    \n",
    "    \n",
    "age = 5\n",
    "building_type = True\n",
    "insurance_class = insurance_classification(age, building_type)\n",
    "try:\n",
    "    assert_equal(insurance_class, \"ERROR\")\n",
    "    print(\"Test 2 erfolgreich\")\n",
    "except AssertionError as e:\n",
    "    print(\"Das Ergebnis soll \\\"ERROR\\\" sein wenn der Parameter `building_type` kein String ist.\")\n",
    "    print(e)"
   ]
  },
  {
   "cell_type": "markdown",
   "metadata": {
    "nbgrader": {
     "grade": false,
     "grade_id": "cell-946e714d46f8dc44",
     "locked": true,
     "schema_version": 1,
     "solution": false
    }
   },
   "source": [
    "## Test 2 - Korrekte Bedingungen"
   ]
  },
  {
   "cell_type": "code",
   "execution_count": 6,
   "metadata": {
    "nbgrader": {
     "grade": true,
     "grade_id": "cell-6ab3b525d6f12ab1",
     "locked": true,
     "points": 0,
     "schema_version": 1,
     "solution": false
    }
   },
   "outputs": [
    {
     "name": "stdout",
     "output_type": "stream",
     "text": [
      "Test 1 erfolgreich\n",
      "Test 2 erfolgreich\n",
      "Test 3 erfolgreich\n",
      "Test 4 erfolgreich\n",
      "Test 5 erfolgreich\n",
      "Test 6 erfolgreich\n",
      "Test 7 erfolgreich\n"
     ]
    }
   ],
   "source": [
    "from nose.tools import assert_equal\n",
    "\n",
    "age = 5\n",
    "building_type = \"townhouse\"\n",
    "insurance_class = insurance_classification(age, building_type)\n",
    "try:\n",
    "    assert_equal(insurance_class, \"A\")\n",
    "    print(\"Test 1 erfolgreich\")\n",
    "except AssertionError as e:\n",
    "    print(\"Das Ergebnis soll \\\"A\\\" sein wenn das Gebäude ein Reihenhaus, jünger als 10 Jahre ist.\")\n",
    "    print(e)\n",
    "    \n",
    "    \n",
    "age = 5\n",
    "building_type = \"detached_house\"\n",
    "insurance_class = insurance_classification(age, building_type)\n",
    "try:\n",
    "    assert_equal(insurance_class, \"A\")\n",
    "    print(\"Test 2 erfolgreich\")\n",
    "except AssertionError as e:\n",
    "    print(\"Das Ergebnis soll \\\"A\\\" sein wenn das Gebäude ein Einfamilienhaus, jünger als 10 Jahre ist.\")\n",
    "    print(e)\n",
    "    \n",
    "    \n",
    "age = 15\n",
    "building_type = \"townhouse\"\n",
    "insurance_class = insurance_classification(age, building_type)\n",
    "try:\n",
    "    assert_equal(insurance_class, \"B\")\n",
    "    print(\"Test 3 erfolgreich\")\n",
    "except AssertionError as e:\n",
    "    print(\"Das Ergebnis soll \\\"B\\\" sein wenn das Gebäude ein Reihenhaus, zwischen 11-20 Jahren alt ist.\")\n",
    "    print(e)\n",
    "    \n",
    "    \n",
    "age = 13\n",
    "building_type = \"detached_house\"\n",
    "insurance_class = insurance_classification(age, building_type)\n",
    "try:\n",
    "    assert_equal(insurance_class, \"B\")\n",
    "    print(\"Test 4 erfolgreich\")\n",
    "except AssertionError as e:\n",
    "    print(\"Das Ergebnis soll \\\"B\\\" sein wenn das Gebäude ein Einfamilienhaus, zwischen 11-15 Jahren alt ist.\")\n",
    "    print(e)\n",
    "    \n",
    "\n",
    "age = 17\n",
    "building_type = \"detached_house\"\n",
    "insurance_class = insurance_classification(age, building_type)\n",
    "try:\n",
    "    assert_equal(insurance_class, \"C\")\n",
    "    print(\"Test 5 erfolgreich\")\n",
    "except AssertionError as e:\n",
    "    print(\"Das Ergebnis soll \\\"C\\\" sein wenn das Gebäude ein Einfamilienhaus, zwischen 16-20 Jahren alt ist.\")\n",
    "    print(e)\n",
    "\n",
    "    \n",
    "age = 0\n",
    "building_type = \"apartement_building\"\n",
    "insurance_class = insurance_classification(age, building_type)\n",
    "try:\n",
    "    assert_equal(insurance_class, \"D\")\n",
    "    print(\"Test 6 erfolgreich\")\n",
    "except AssertionError as e:\n",
    "    print(\"Das Ergebnis soll \\\"D\\\" sein wenn das Gebäude ein Mehrfamilienhaus ist.\")\n",
    "    print(e)\n",
    "    \n",
    "    \n",
    "age = 25\n",
    "building_type = \"townhouse\"\n",
    "insurance_class = insurance_classification(age, building_type)\n",
    "\n",
    "try:\n",
    "    assert_equal(insurance_class, \"D\")\n",
    "    print(\"Test 7 erfolgreich\")\n",
    "except AssertionError as e:\n",
    "    print(\"Das Ergebnis soll \\\"D\\\" sein wenn das Gebäude 21 Jahre oder älter ist.\")\n",
    "    print(e)"
   ]
  },
  {
   "cell_type": "markdown",
   "metadata": {
    "nbgrader": {
     "grade": false,
     "grade_id": "cell-44bcb19fe7a2dfe1",
     "locked": true,
     "schema_version": 1,
     "solution": false
    }
   },
   "source": [
    "## Test 3 - Beachtung der Randfälle"
   ]
  },
  {
   "cell_type": "code",
   "execution_count": 7,
   "metadata": {
    "nbgrader": {
     "grade": true,
     "grade_id": "cell-71d2c10fcd3a87ca",
     "locked": true,
     "points": 0,
     "schema_version": 1,
     "solution": false
    }
   },
   "outputs": [
    {
     "name": "stdout",
     "output_type": "stream",
     "text": [
      "Test 1 erfolgreich\n",
      "Test 2 erfolgreich\n",
      "Test 3 erfolgreich\n"
     ]
    }
   ],
   "source": [
    "from nose.tools import assert_equal\n",
    "\n",
    "age = 10\n",
    "building_type = \"townhouse\"\n",
    "insurance_class = insurance_classification(age, building_type)\n",
    "try:\n",
    "    assert_equal(insurance_class, \"A\")\n",
    "    print(\"Test 1 erfolgreich\")\n",
    "except AssertionError as e:\n",
    "    print(\"Das Ergebnis soll \\\"A\\\" sein auch wenn das Reihenhaus genau 10 Jahre alt ist.\")\n",
    "    print(e)\n",
    "    \n",
    "    \n",
    "age = 15\n",
    "building_type = \"detached_house\"\n",
    "insurance_class = insurance_classification(age, building_type)\n",
    "try:\n",
    "    assert_equal(insurance_class, \"B\")\n",
    "    print(\"Test 2 erfolgreich\")\n",
    "except AssertionError as e:\n",
    "    print(\"Das Ergebnis soll \\\"B\\\" sein auch wenn das Einfamilienhaus genau 15 Jahre alt ist.\")\n",
    "    print(e)\n",
    "\n",
    "age = 20\n",
    "building_type = \"detached_house\"\n",
    "insurance_class = insurance_classification(age, building_type)\n",
    "try:\n",
    "    assert_equal(insurance_class, \"C\")\n",
    "    print(\"Test 3 erfolgreich\")\n",
    "except AssertionError as e:\n",
    "    print(\"Das Ergebnis soll \\\"C\\\" sein auch wenn das Einfamilienhaus genau 20 Jahre alt ist.\")\n",
    "    print(e)"
   ]
  }
 ],
 "metadata": {
  "celltoolbar": "Create Assignment",
  "file_extension": ".py",
  "kernelspec": {
   "display_name": "Python 3",
   "language": "python",
   "name": "python3"
  },
  "language_info": {
   "codemirror_mode": {
    "name": "ipython",
    "version": 3
   },
   "file_extension": ".py",
   "mimetype": "text/x-python",
   "name": "python",
   "nbconvert_exporter": "python",
   "pygments_lexer": "ipython3",
   "version": "3.7.2"
  },
  "mimetype": "text/x-python",
  "name": "python",
  "npconvert_exporter": "python",
  "pygments_lexer": "ipython3",
  "version": 3
 },
 "nbformat": 4,
 "nbformat_minor": 2
}
