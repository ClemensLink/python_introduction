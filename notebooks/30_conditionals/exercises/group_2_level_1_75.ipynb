{
 "cells": [
  {
   "cell_type": "markdown",
   "metadata": {
    "nbgrader": {
     "grade": false,
     "grade_id": "cell-3137e4dfead20a14",
     "locked": true,
     "schema_version": 1,
     "solution": false
    }
   },
   "source": [
    "  # Aufgabe 1\n",
    "\n",
    "  In einem Versicherungsunternehmen soll, im Rahmen der Gebäudeversicherungen, ein Programm zur automatischen Risikobewertung implementiert werden. Im ersten Schritt wollen Sie zunächst nur überprüfen ob es sich bei einem Gebäude um ein Mehrfamilienhaus handelt. Ist dies der Fall so ist die Risikoklasse in jedem Fall \"D\".\n",
    "\n",
    "  Implementieren Sie nun die Funktion `insurance_classification`. Diese Funktion erhält einen Parameter `is_apartement_building`, welcher in Form eines Boolean-Wertes angibt ob das Gebäude ein Mehrfamilienhaus ist (True oder False).\n",
    "  Als Ergebnis soll jedoch die Risikoklasse in Form eines Buchstabens zurückgegeben werden. Ist das Gebäude ein Mehrfamilienhaus, so geben Sie \"D\" zurück. Ansonsten geben Sie \"A\" zurück.\n",
    "\n",
    "\n",
    "## Wichtige Hinweise\n",
    "Bisher haben Sie im Rahmen dieser Einführung in Python Funktionen noch nicht kennen gelernt. Aus diesem Grund hier ein paar Hinweise zum Umgang mit Funktionen im Rahmen dieser Übungsaufgaben:\n",
    "\n",
    "1. Erstellen Sie Ihre Lösung innerhalb des mit `### START` und `### ENDE` markierten Bereichs. Ändern Sie den Programmcode außerhalb des markierten Bereichs nicht. \n",
    "1. Funktionen besitzen Parameter. Diese Parameter haben Namen. Behandel Sie die Parameter einfach wie Variablen in Ihrer Lösung. \n",
    "1. Bitte löschen Sie ggf die Zeile `raise NotImplementedError()`\n",
    "\n",
    "### Hilfe\n",
    "  Sie können Ihre Lösung mit den automatisierten [Tests](#Automatische-Tests) weiter unten im Dokument überprüfen.<br>\n",
    "  Eine Einführung in die `Kontrollstrukturen`in Python finden Sie [hier](../../30_conditionals/10_conditionals.ipynb)."
   ]
  },
  {
   "cell_type": "code",
   "execution_count": 2,
   "metadata": {
    "nbgrader": {
     "grade": true,
     "grade_id": "cell-6ab468750feb45ab",
     "locked": false,
     "points": 0,
     "schema_version": 1,
     "solution": true
    }
   },
   "outputs": [
    {
     "name": "stdout",
     "output_type": "stream",
     "text": [
      "Wenn Ihre Funktion mit einem Parameter \"is_apartement_building = True\" aufgerufen wird ist das Ergebnis: D\n"
     ]
    }
   ],
   "source": [
    "def insurance_classification(is_apartement_building):\n",
    "    \n",
    "    ###START\n",
    "    insurance_class = \"A\"\n",
    "    if #Bedingung (wenn das Gebäude ein Mehrfamilienhaus ist):\n",
    "        insurance_class = \"D\"\n",
    "    \n",
    "    ###ENDE\n",
    "    return insurance_class\n",
    "\n",
    "\n",
    "print(\"Wenn Ihre Funktion mit einem Parameter \\\"is_apartement_building = True\\\" aufgerufen wird ist das Ergebnis:\", insurance_classification(True))"
   ]
  },
  {
   "cell_type": "markdown",
   "metadata": {
    "nbgrader": {
     "grade": false,
     "grade_id": "cell-e36517d903046e1c",
     "locked": true,
     "schema_version": 1,
     "solution": false
    }
   },
   "source": [
    "  ***\n",
    "  # Automatische Tests\n",
    "  Ab hier finden Sie einige automatisierte Tests um Ihre Lösungen zu überprüfen. Um Ihre Lösung zu prüfen führen Sie bitte zuerst die Zelle mit Ihrer Lösung und danach die Zelle mit dem zugehörigen Test aus.\n"
   ]
  },
  {
   "cell_type": "code",
   "execution_count": 3,
   "metadata": {
    "nbgrader": {
     "grade": true,
     "grade_id": "cell-d7d9f738cba20cc4",
     "locked": true,
     "points": 0,
     "schema_version": 1,
     "solution": false
    }
   },
   "outputs": [],
   "source": [
    "try:\n",
    "    insurance_classification(True)\n",
    "except NotImplementedError:\n",
    "    print(\"Bitte entfernen Sie das \\\"raise NotImplementedError()\\\"\")"
   ]
  },
  {
   "cell_type": "markdown",
   "metadata": {
    "nbgrader": {
     "grade": false,
     "grade_id": "cell-112566354cbd5d45",
     "locked": true,
     "schema_version": 1,
     "solution": false
    }
   },
   "source": [
    "  ## Test 1 - Korrekte Bedingung\n",
    "  Die Risikoklasse (`insurance_class`) soll \"D\" sein wenn das Gebäude ein Mehrfamilienhaus ist. Ansonsten soll sie \"A\" sein."
   ]
  },
  {
   "cell_type": "code",
   "execution_count": 4,
   "metadata": {
    "nbgrader": {
     "grade": true,
     "grade_id": "cell-49278b35ff89383a",
     "locked": true,
     "points": 0,
     "schema_version": 1,
     "solution": false
    }
   },
   "outputs": [
    {
     "name": "stdout",
     "output_type": "stream",
     "text": [
      "Test 1 erfolgreich\n",
      "Test 2 erfolgreich\n"
     ]
    }
   ],
   "source": [
    "from nose.tools import assert_equal\n",
    "\n",
    "is_apartement_building = True\n",
    "insurance_class = insurance_classification(is_apartement_building)\n",
    "try:\n",
    "    assert_equal(insurance_class, \"D\")\n",
    "    print(\"Test 1 erfolgreich\")\n",
    "except AssertionError as e:\n",
    "    print(\"Das Ergebnis soll \\\"D\\\" sein wenn das Gebäude ein Mehrfamilienhaus ist.\")\n",
    "    print(e)\n",
    "    \n",
    "    \n",
    "is_apartement_building = False\n",
    "insurance_class = insurance_classification(is_apartement_building)\n",
    "try:\n",
    "    assert_equal(insurance_class, \"A\")\n",
    "    print(\"Test 2 erfolgreich\")\n",
    "except AssertionError as e:\n",
    "    print(\"Das Ergebnis soll \\\"A\\\" sein wenn das Gebäude kein Mehrfamilienhaus ist.\")\n",
    "    print(e)"
   ]
  },
  {
   "cell_type": "markdown",
   "metadata": {
    "nbgrader": {
     "grade": false,
     "grade_id": "cell-5f46541c4c73d28f",
     "locked": true,
     "schema_version": 1,
     "solution": false
    }
   },
   "source": [
    "  ## Test 2 - Truthyness in Python\n",
    "  In Python wird unter bestimmten Umständen auch andere Datentypen als `Boolean` als `True` oder `False`interpretiert.\n",
    "  Dieser Test prüft ob auch wirklich nur die Risikoklasse D ausgegeben wird wenn ìs_apartment_building = True` gilt."
   ]
  },
  {
   "cell_type": "code",
   "execution_count": 7,
   "metadata": {
    "nbgrader": {
     "grade": true,
     "grade_id": "cell-1b45c0887df397fa",
     "locked": true,
     "points": 0,
     "schema_version": 1,
     "solution": false
    }
   },
   "outputs": [
    {
     "name": "stdout",
     "output_type": "stream",
     "text": [
      "Test 1 erfolgreich\n"
     ]
    }
   ],
   "source": [
    "is_apartement_building = \"Tolles Haus mit Aussicht\"\n",
    "insurance_class = insurance_classification(is_apartement_building)\n",
    "try:\n",
    "    assert_equal(insurance_class, \"A\")\n",
    "    print(\"Test 1 erfolgreich\")\n",
    "except AssertionError as e:\n",
    "    print(\"Das Ergebnis soll \\\"A\\\" sein wenn das Gebäude kein Mehrfamilienhaus ist.\")\n",
    "    print(e)"
   ]
  }
 ],
 "metadata": {
  "celltoolbar": "Create Assignment",
  "file_extension": ".py",
  "kernelspec": {
   "display_name": "Python 3",
   "language": "python",
   "name": "python3"
  },
  "language_info": {
   "codemirror_mode": {
    "name": "ipython",
    "version": 3
   },
   "file_extension": ".py",
   "mimetype": "text/x-python",
   "name": "python",
   "nbconvert_exporter": "python",
   "pygments_lexer": "ipython3",
   "version": "3.7.2"
  },
  "mimetype": "text/x-python",
  "name": "python",
  "npconvert_exporter": "python",
  "pygments_lexer": "ipython3",
  "version": 3
 },
 "nbformat": 4,
 "nbformat_minor": 2
}
