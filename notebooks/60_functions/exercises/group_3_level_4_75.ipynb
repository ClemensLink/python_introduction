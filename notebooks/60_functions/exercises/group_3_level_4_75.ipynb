{
 "cells": [
  {
   "cell_type": "markdown",
   "metadata": {
    "nbgrader": {
     "grade": false,
     "grade_id": "cell-f68c0e6e9b2d8da8",
     "locked": true,
     "schema_version": 1,
     "solution": false
    }
   },
   "source": [
    "# Aufgabe 4\n",
    "\n",
    "Im Rahmen der Steuerrechnung soll ein Programm zur automatischen Analyse der Umsatzsteuer, welche von Ihrem Unternehmen eingenommen wird, implementiert werden. Dazu sollen die Netto-Verkaufspreise analysiert werden. So soll aus einer Liste mit vielen Einnahmen heruasgefiltert werden, welches die höchste eingenommene Umsatzsteuer ist. Außerdem soll die Summe aller eingenommenen Umsatzsteuern berechnet werden.\n",
    "\n",
    "Implementieren Sie nun die einzelnen Funktionen `calculate_taxes` und `calculate_highest`.  \n",
    "Diese Funktionen erhalten als Parameter jeweils eine Liste `sales`, welche in Form von Float-Werten die Netto-Verkaufspreise aller verkauften Artikel angibt (in etwa `[500.00, 299.99, 1.79, 149.49]`).   \n",
    "Als Ergebnis sollen (je nach Funktion):  \n",
    "Der gesamte Betrag, welcher durch die Umsatzsteuer eingenommen wurde, in Form eines Float-Wertes zurückgegeben werden (\"taxes\").  \n",
    "Der höchste Betrag, welcher durch die Umsatzsteuer an einem Artikel eingenommen wurde, in Form eines Float-Wertes (\"highest_tax\").    \n",
    "\n",
    "Des Weiteren soll eine Hauptfunktion (`analyse_taxes`) implementiert werden. Diese soll die oben genannten Funktionen nur aufrufen und das Ergebnis ausgeben. Dazu soll auch die Hauptfunktion als Parameter eine Liste `sales` akzeptieren. Die Ausgabe soll wie folgt aussehen:  \n",
    "`Die insgesamt eingenommene Umsatzsteuer beträgt: 180.7413\n",
    "Die höchste eingenommene Umsatzsteuer beträgt: 95.0`\n",
    "\n",
    "\n",
    "Achten Sie bei dieser Aufgabe darauf dass sowohl alle Funktionen einzeln funktionieren, als auch die gesamte Ausgabe über die Hauptfunktion (analyse_taxes).\n",
    "\n",
    "Tipp: $ Umsatzsteuer = Nettobetrag * 0.19 $\n",
    "\n",
    "\n",
    "### Hilfe\n",
    "Sie können Ihre Lösung mit den automatisierten [Tests](#Automatische-Tests) weiter unten im Dokument überprüfen.<br>\n",
    "Eine Einführung in die `For-Schleifen` in Python finden Sie [hier](../../50_loops/for_loop.ipynb)."
   ]
  },
  {
   "cell_type": "code",
   "execution_count": 2,
   "metadata": {
    "nbgrader": {
     "grade": false,
     "grade_id": "cell-d430232ec3d29238",
     "locked": false,
     "schema_version": 1,
     "solution": true
    }
   },
   "outputs": [],
   "source": [
    "# Hauptfunktion\n",
    "\n",
    "def calculate_taxes(sales):\n",
    "    taxes = 0\n",
    "    for sale in sales:\n",
    "        taxes += sale * 0.19\n",
    "    return taxes\n",
    "    \n",
    "def calculate_highest(sales):\n",
    "    highest_tax = 0\n",
    "    for sale in sales:\n",
    "        if (sale * 0.19) > highest_tax:\n",
    "            highest_tax = sale * 0.19\n",
    "    return highest_tax"
   ]
  },
  {
   "cell_type": "markdown",
   "metadata": {
    "nbgrader": {
     "grade": false,
     "grade_id": "cell-1b73e8f1a21cc6c2",
     "locked": true,
     "schema_version": 1,
     "solution": false
    }
   },
   "source": [
    "  ***\n",
    "  # Automatische Tests\n",
    "  Ab hier finden Sie einige automatisierte Tests um Ihre Lösungen zu überprüfen. Um Ihre Lösung zu prüfen führen Sie bitte zuerst die Zelle mit Ihrer Lösung und danach die Zelle mit dem zugehörigen Test aus.\n"
   ]
  },
  {
   "cell_type": "code",
   "execution_count": 4,
   "metadata": {
    "nbgrader": {
     "grade": true,
     "grade_id": "cell-a1204d9bf4dfef11",
     "locked": true,
     "points": 0,
     "schema_version": 1,
     "solution": false
    }
   },
   "outputs": [
    {
     "name": "stdout",
     "output_type": "stream",
     "text": [
      "Die insgesamt eingenommene Umsatzsteuer beträgt: 108.8681\n",
      "Die höchste eingenommene Umsatzsteuer beträgt: 56.9981\n"
     ]
    }
   ],
   "source": [
    "try:\n",
    "    analyse_taxes([299.99, 250.00, 23.00])\n",
    "except NotImplementedError:\n",
    "    print(\"Bitte entfernen Sie das \\\"raise NotImplementedError()\\\"\")"
   ]
  },
  {
   "cell_type": "markdown",
   "metadata": {
    "nbgrader": {
     "grade": false,
     "grade_id": "cell-2a6689e0ae6ec490",
     "locked": true,
     "schema_version": 1,
     "solution": false
    }
   },
   "source": [
    "## Test 1 - Korrekte Berechnung der gesamten Umsatzsteuer\n",
    "Die Umsatzsteuer (`taxes`) soll mittels der Funktion `calculate_taxes` korrekt berechnet werden."
   ]
  },
  {
   "cell_type": "code",
   "execution_count": 19,
   "metadata": {
    "nbgrader": {
     "grade": true,
     "grade_id": "cell-940f7131dcf9bda6",
     "locked": true,
     "points": 0,
     "schema_version": 1,
     "solution": false
    }
   },
   "outputs": [
    {
     "name": "stdout",
     "output_type": "stream",
     "text": [
      "Test 1 erfolgreich\n",
      "Test 2 erfolgreich\n",
      "Test 3 erfolgreich\n"
     ]
    }
   ],
   "source": [
    "from nose.tools import assert_equal\n",
    "\n",
    "sales = [519.55, 250.00, 19.37, 12.34, 234.56]\n",
    "taxes = calculate_taxes(sales)\n",
    "assert_equal(taxes, 196.80579999999998, \"Das Ergebnis ist falsch\")\n",
    "print(\"Test 1 erfolgreich\")\n",
    "\n",
    "sales = [99999999.99, 1234567.89, 9876543.22]\n",
    "taxes = calculate_taxes(sales)\n",
    "assert_equal(taxes, 21111111.108999997, \"Das Ergebnis ist falsch\")\n",
    "print(\"Test 2 erfolgreich\")\n",
    "\n",
    "sales = [12.34, 20.00]\n",
    "taxes = calculate_taxes(sales)\n",
    "assert_equal(taxes, 6.1446, \"Das Ergebnis ist falsch\")\n",
    "print(\"Test 3 erfolgreich\")"
   ]
  },
  {
   "cell_type": "markdown",
   "metadata": {
    "nbgrader": {
     "grade": false,
     "grade_id": "cell-257ab27af63b0df1",
     "locked": true,
     "schema_version": 1,
     "solution": false
    }
   },
   "source": [
    "## Test 2 - Korrekte Bestimmung der höchsten Umsatzsteuer\n",
    "Die höchste Umsatzsteuer (`highest_tax`) soll mittels der Funktion `calculate_highest` für jede Liste korrekt bestimmt werden.  "
   ]
  },
  {
   "cell_type": "code",
   "execution_count": 25,
   "metadata": {
    "nbgrader": {
     "grade": true,
     "grade_id": "cell-c6675d6074a2b535",
     "locked": true,
     "points": 0,
     "schema_version": 1,
     "solution": false
    }
   },
   "outputs": [
    {
     "name": "stdout",
     "output_type": "stream",
     "text": [
      "Test 1 erfolgreich\n",
      "Test 2 erfolgreich\n",
      "Test 3 erfolgreich\n",
      "Test 4 erfolgreich\n"
     ]
    }
   ],
   "source": [
    "from nose.tools import assert_equal\n",
    "\n",
    "sales = [300.00, 250.00, 23.00, 210.00, 234.00]\n",
    "balance = calculate_highest(sales)\n",
    "assert_equal(balance, 57, \"Das Ergebnis ist falsch\")\n",
    "print(\"Test 1 erfolgreich\")\n",
    "\n",
    "sales = [200.00, 200.00, 200.00, 200.00]\n",
    "balance = calculate_highest(sales)\n",
    "assert_equal(balance, 38, \"Das Ergebnis ist falsch\")\n",
    "print(\"Test 2 erfolgreich\")\n",
    "\n",
    "sales = [15.00]\n",
    "balance = calculate_highest(sales)\n",
    "assert_equal(balance, 2.85, \"Das Ergebnis ist falsch\")\n",
    "print(\"Test 3 erfolgreich\")\n",
    "\n",
    "sales = [300.00, 500.00, 23.00, 210.00, 234.00]\n",
    "balance = calculate_highest(sales)\n",
    "assert_equal(balance, 95, \"Das Ergebnis ist falsch\")\n",
    "print(\"Test 4 erfolgreich\")"
   ]
  },
  {
   "cell_type": "markdown",
   "metadata": {
    "nbgrader": {
     "grade": false,
     "grade_id": "cell-56924d9b3ea69b76",
     "locked": true,
     "schema_version": 1,
     "solution": false
    }
   },
   "source": [
    "## Test 3 - Korrekte Ausgabe\n",
    "Die Hauptfunktion `analyse_taxes` soll die beiden oben getesteten Funktionen aufrufen und die Ausgabe erstellen wie im Aufgabentext beschrieben.  \n",
    "**Achtung: Der Ausgabetext muss exakt mit dem aus der Aufgabenstellung übereinstimmen damit dieser Test funktioniert**"
   ]
  },
  {
   "cell_type": "code",
   "execution_count": 31,
   "metadata": {
    "nbgrader": {
     "grade": true,
     "grade_id": "cell-dd66d9b6a2727a0d",
     "locked": true,
     "points": 0,
     "schema_version": 1,
     "solution": false
    }
   },
   "outputs": [
    {
     "name": "stdout",
     "output_type": "stream",
     "text": [
      "Test 1 erfolgreich.\n"
     ]
    }
   ],
   "source": [
    "from unittest import mock\n",
    "from nose.tools import assert_equal\n",
    "import unittest\n",
    "import io\n",
    "\n",
    "with mock.patch('sys.stdout', new=io.StringIO()) as fake_stdout:\n",
    "    analyse_taxes([299.99, 250.00, 23.00, 210.00, 234.00])\n",
    "\n",
    "assert_equal(fake_stdout.getvalue(), 'Die insgesamt eingenommene Umsatzsteuer beträgt: 193.2281\\nDie höchste eingenommene Umsatzsteuer beträgt: 56.9981\\n', \"Die Ausgabe ist nicht perfekt.\")\n",
    "print(\"Test 1 erfolgreich.\")"
   ]
  }
 ],
 "metadata": {
  "celltoolbar": "Create Assignment",
  "file_extension": ".py",
  "kernelspec": {
   "display_name": "Python 3",
   "language": "python",
   "name": "python3"
  },
  "language_info": {
   "codemirror_mode": {
    "name": "ipython",
    "version": 3
   },
   "file_extension": ".py",
   "mimetype": "text/x-python",
   "name": "python",
   "nbconvert_exporter": "python",
   "pygments_lexer": "ipython3",
   "version": "3.7.2"
  },
  "mimetype": "text/x-python",
  "name": "python",
  "npconvert_exporter": "python",
  "pygments_lexer": "ipython3",
  "version": 3
 },
 "nbformat": 4,
 "nbformat_minor": 2
}
