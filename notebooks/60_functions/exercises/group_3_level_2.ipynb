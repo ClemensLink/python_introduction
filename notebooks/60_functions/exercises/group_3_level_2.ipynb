{
 "cells": [
  {
   "cell_type": "markdown",
   "metadata": {
    "nbgrader": {
     "grade": false,
     "grade_id": "cell-5af2db4a976d2c43",
     "locked": true,
     "schema_version": 1,
     "solution": false
    }
   },
   "source": [
    "# Aufgabe 2\n",
    "\n",
    "Im Rahmen der Materialverwaltung soll ein Programm zur automatischen Analyse von Materialeingängen und Materialabgängen implementiert werden. So soll aus einer großen Liste von Eingängen und Abgängen erkannt werden wie der neue Materialbestand ist. Außerdem soll die durchschnittliche Höhe der Materialbewegungen berechnet werden, sowie der größte Ein- oder Abgang bestimmt werden.\n",
    "\n",
    "Implementieren Sie nun die Funktion `analyse_stock`. Diese Funktion erhält als Parameter eine Liste `incoming_outgoing`, welche in Form von Integer-Werten die Eingänge und Abgänge auf das Konto angibt (in etwa `[+500, -200, +70, -65]`).  \n",
    "Als Ergebnis soll der Materialbestand(`stock`) als Integer-Wert zurückgegeben werden.  \n",
    "Die durchschnittliche Höhe(`average`) der Eingänge und Abgänge eines Materials.  \n",
    "Die höchste Transaktion (`highest_transaction`). Hierbei sollen sowohl Abgänge als auch Eingänge berücksichtigt werden.  \n",
    "\n",
    "\n",
    "\n",
    "### Hilfe\n",
    "Sie können Ihre Lösung mit den automatisierten [Tests](#Automatische-Tests) weiter unten im Dokument überprüfen.<br>\n",
    "Eine Einführung in die `For-Schleifen` in Python finden Sie [hier](../../50_loops/for_loop.ipynb)."
   ]
  },
  {
   "cell_type": "code",
   "execution_count": 1,
   "metadata": {
    "nbgrader": {
     "grade": false,
     "grade_id": "cell-3785c4bc8f420267",
     "locked": false,
     "schema_version": 1,
     "solution": true
    }
   },
   "outputs": [],
   "source": [
    "###BEGIN SOLUTION\n",
    "def analyse_stock(incoming_outgoing):\n",
    "    stock = 0\n",
    "    highest_transaction = 0\n",
    "    for transaction in incoming_outgoing:\n",
    "        stock += transaction\n",
    "        if transaction ** 2 > highest_transaction ** 2:\n",
    "            highest_transaction = transaction\n",
    "    \n",
    "    average = stock / len(incoming_outgoing)\n",
    "    return stock, average, highest_transaction\n",
    "    \n",
    "###END SOLUTION"
   ]
  },
  {
   "cell_type": "markdown",
   "metadata": {
    "nbgrader": {
     "grade": false,
     "grade_id": "cell-c847824f224f66ce",
     "locked": true,
     "schema_version": 1,
     "solution": false
    }
   },
   "source": [
    "  ***\n",
    "  # Automatische Tests\n",
    "  Ab hier finden Sie einige automatisierte Tests um Ihre Lösungen zu überprüfen. Um Ihre Lösung zu prüfen führen Sie bitte zuerst die Zelle mit Ihrer Lösung und danach die Zelle mit dem zugehörigen Test aus.\n"
   ]
  },
  {
   "cell_type": "code",
   "execution_count": 2,
   "metadata": {
    "nbgrader": {
     "grade": true,
     "grade_id": "cell-5f14419ec5f6f74a",
     "locked": true,
     "points": 0,
     "schema_version": 1,
     "solution": false
    }
   },
   "outputs": [],
   "source": [
    "try:\n",
    "    analyse_stock([+519, -250, -19])\n",
    "except NotImplementedError:\n",
    "    print(\"Bitte entfernen Sie das \\\"raise NotImplementedError()\\\"\")"
   ]
  },
  {
   "cell_type": "markdown",
   "metadata": {
    "nbgrader": {
     "grade": false,
     "grade_id": "cell-850932d2ab1c3b8f",
     "locked": true,
     "schema_version": 1,
     "solution": false
    }
   },
   "source": [
    "## Test 1 - Korrekte Berechnung des Kontostands\n",
    "Der Materialbestand (`stock`) soll für jede Liste korrekt berechnet werden."
   ]
  },
  {
   "cell_type": "code",
   "execution_count": 17,
   "metadata": {
    "nbgrader": {
     "grade": true,
     "grade_id": "cell-4947e67a6bdf03c9",
     "locked": true,
     "points": 0,
     "schema_version": 1,
     "solution": false
    }
   },
   "outputs": [
    {
     "name": "stdout",
     "output_type": "stream",
     "text": [
      "Test 1 erfolgreich\n",
      "Test 2 erfolgreich\n",
      "Test 3 erfolgreich\n"
     ]
    }
   ],
   "source": [
    "from nose.tools import assert_equal\n",
    "\n",
    "incoming_outgoing = [+519, -250, -19, -12, +234]\n",
    "stock = analyse_stock(incoming_outgoing)\n",
    "assert_equal(stock[0], 472, \"Das Ergebnis ist falsch\")\n",
    "print(\"Test 1 erfolgreich\")\n",
    "\n",
    "incoming_outgoing = [+99999999, -1234567, -9876543]\n",
    "stock = analyse_stock(incoming_outgoing)\n",
    "assert_equal(stock[0], 88888889, \"Das Ergebnis ist falsch\")\n",
    "print(\"Test 2 erfolgreich\")\n",
    "\n",
    "incoming_outgoing = [-12, +20]\n",
    "stock = analyse_stock(incoming_outgoing)\n",
    "assert_equal(stock[0], 8, \"Das Ergebnis ist falsch\")\n",
    "print(\"Test 3 erfolgreich\")"
   ]
  },
  {
   "cell_type": "markdown",
   "metadata": {
    "nbgrader": {
     "grade": false,
     "grade_id": "cell-89f6f0be0d1e2628",
     "locked": true,
     "schema_version": 1,
     "solution": false
    }
   },
   "source": [
    "## Test 2 - Korrekte Berechnung des Durchschnitts\n",
    "Der Durchschnitt (`average`) soll für jede Liste korrekt berechnet werden."
   ]
  },
  {
   "cell_type": "code",
   "execution_count": 18,
   "metadata": {
    "nbgrader": {
     "grade": true,
     "grade_id": "cell-a2c7901a696087f5",
     "locked": true,
     "points": 0,
     "schema_version": 1,
     "solution": false
    }
   },
   "outputs": [
    {
     "name": "stdout",
     "output_type": "stream",
     "text": [
      "Test 1 erfolgreich\n",
      "Test 2 erfolgreich\n",
      "Test 3 erfolgreich\n"
     ]
    }
   ],
   "source": [
    "from nose.tools import assert_equal\n",
    "\n",
    "incoming_outgoing = [+300, -15, +230, -123, +987]\n",
    "average = analyse_stock(incoming_outgoing)\n",
    "assert_equal(average[1], 275.8, \"Das Ergebnis ist falsch\")\n",
    "print(\"Test 1 erfolgreich\")\n",
    "\n",
    "incoming_outgoing = [+200, -200, +200, -200]\n",
    "average = analyse_stock(incoming_outgoing)\n",
    "assert_equal(average[1], 0, \"Das Ergebnis ist falsch\")\n",
    "print(\"Test 2 erfolgreich\")\n",
    "\n",
    "incoming_outgoing = [+15]\n",
    "average = analyse_stock(incoming_outgoing)\n",
    "assert_equal(average[1], 15, \"Das Ergebnis ist falsch\")\n",
    "print(\"Test 3 erfolgreich\")"
   ]
  },
  {
   "cell_type": "markdown",
   "metadata": {
    "nbgrader": {
     "grade": false,
     "grade_id": "cell-5095ccab8fbdb574",
     "locked": true,
     "schema_version": 1,
     "solution": false
    }
   },
   "source": [
    "## Test 3 - Korrekte Bestimmung der höchsten Materialtransaktion\n",
    "Die höchste Warenbewegung (`highest_transaction`) soll für jede Liste korrekt bestimmt werden.  \n",
    "Hierbei gilt es insbesondere auch Materialabgänge zu berücksichtigen."
   ]
  },
  {
   "cell_type": "code",
   "execution_count": 21,
   "metadata": {
    "nbgrader": {
     "grade": true,
     "grade_id": "cell-32db5ee92c2544f0",
     "locked": true,
     "points": 0,
     "schema_version": 1,
     "solution": false
    }
   },
   "outputs": [
    {
     "name": "stdout",
     "output_type": "stream",
     "text": [
      "Test 1 erfolgreich\n",
      "Test 2 erfolgreich\n",
      "Test 3 erfolgreich\n",
      "Test 4 erfolgreich\n"
     ]
    }
   ],
   "source": [
    "from nose.tools import assert_equal\n",
    "\n",
    "incoming_outgoing = [+100, -26, -23, +210, +234]\n",
    "highest_transaction = analyse_stock(incoming_outgoing)\n",
    "assert_equal(highest_transaction[2], 234, \"Das Ergebnis ist falsch\")\n",
    "print(\"Test 1 erfolgreich\")\n",
    "\n",
    "incoming_outgoing = [+200, -200, +200, -200]\n",
    "highest_transaction = analyse_stock(incoming_outgoing)\n",
    "assert_equal(highest_transaction[2], 200, \"Das Ergebnis ist falsch\")\n",
    "print(\"Test 2 erfolgreich\")\n",
    "\n",
    "incoming_outgoing = [+15]\n",
    "highest_transaction = analyse_stock(incoming_outgoing)\n",
    "assert_equal(highest_transaction[2], 15, \"Das Ergebnis ist falsch\")\n",
    "print(\"Test 3 erfolgreich\")\n",
    "\n",
    "incoming_outgoing = [+300, -500, -23, +210, +234]\n",
    "highest_transaction = analyse_stock(incoming_outgoing)\n",
    "assert_equal(highest_transaction[2], -500, \"Das Ergebnis ist falsch\")\n",
    "print(\"Test 4 erfolgreich\")"
   ]
  }
 ],
 "metadata": {
  "celltoolbar": "Create Assignment",
  "file_extension": ".py",
  "kernelspec": {
   "display_name": "Python 3",
   "language": "python",
   "name": "python3"
  },
  "language_info": {
   "codemirror_mode": {
    "name": "ipython",
    "version": 3
   },
   "file_extension": ".py",
   "mimetype": "text/x-python",
   "name": "python",
   "nbconvert_exporter": "python",
   "pygments_lexer": "ipython3",
   "version": "3.7.2"
  },
  "mimetype": "text/x-python",
  "name": "python",
  "npconvert_exporter": "python",
  "pygments_lexer": "ipython3",
  "version": 3
 },
 "nbformat": 4,
 "nbformat_minor": 2
}
