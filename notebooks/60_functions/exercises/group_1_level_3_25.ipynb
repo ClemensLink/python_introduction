{
 "cells": [
  {
   "cell_type": "markdown",
   "metadata": {
    "nbgrader": {
     "grade": false,
     "grade_id": "cell-8b1d1cf586517743",
     "locked": true,
     "schema_version": 1,
     "solution": false
    }
   },
   "source": [
    "# Aufgabe 3\n",
    "\n",
    "Im Rahmen der Bestellungsabwicklung soll ein Programm zur automatischen Bewertung mehrerer Bestellungen implementiert werden. So soll anhand einer Liste von Bestellungen und einer (separaten) Liste von Zahlungen erkannt werden, welche Bestellungen noch nicht bezahlt wurden.  \n",
    "\n",
    "Implementieren Sie nun die Funktion `analyse_orders`. Diese Funktion erhält als Parameter eine Liste `orders`. Diese Liste besteht allerding aus mehreren Listen. So ist jedes Element der Liste `orders` eine Liste bestehend aus der Bestellnummer als erstem Wert, gefolgt von einer Artikelbezeichnung. Die Liste sieht also in etwa so aus: `[[10001, \"Erdbeermüsli\"], [10002, \"Blaubeermüsli\"], [\"10003\", \"Früchtemüsli\"]]`.   \n",
    "Zusätzlich gibt es als zweiten Parameter eine weitere Liste `payments`. Diese Liste beinhält alle Bestellnummern, welche bezahlt wurden. Also in etwa so: `[10001, 10003]`.  \n",
    "Als Ergebnis sollen alle Bestellungen zurückgegeben werden, welche noch nicht bezahlt wurden. Für die obigen Beispiele wäre die Ergebnis-Liste also: `[[10002, \"Blaubeermüsli\"]`\n",
    "\n",
    "\n",
    "\n",
    "### Hilfe\n",
    "Sie können Ihre Lösung mit den automatisierten [Tests](#Automatische-Tests) weiter unten im Dokument überprüfen.<br>\n",
    "Eine Einführung in die `For-Schleifen` in Python finden Sie [hier](../../50_loops/for_loop.ipynb)."
   ]
  },
  {
   "cell_type": "code",
   "execution_count": 7,
   "metadata": {
    "nbgrader": {
     "grade": false,
     "grade_id": "cell-aa93af9f23515e63",
     "locked": false,
     "schema_version": 1,
     "solution": true
    }
   },
   "outputs": [],
   "source": [
    "\n",
    "    \n",
    "    unpaid_orders = orders\n",
    "\n",
    "    for #durchlaufe alle bestellungen: \n",
    "        for #durchlaufe alle bezahlungen:\n",
    "            if payment == order[0]:\n",
    "                unpaid_orders.remove(order)\n",
    "                \n"
   ]
  },
  {
   "cell_type": "markdown",
   "metadata": {
    "nbgrader": {
     "grade": false,
     "grade_id": "cell-742f913cf910b9c2",
     "locked": true,
     "schema_version": 1,
     "solution": false
    }
   },
   "source": [
    "  ***\n",
    "  # Automatische Tests\n",
    "  Ab hier finden Sie einige automatisierte Tests um Ihre Lösungen zu überprüfen. Um Ihre Lösung zu prüfen führen Sie bitte zuerst die Zelle mit Ihrer Lösung und danach die Zelle mit dem zugehörigen Test aus.\n"
   ]
  },
  {
   "cell_type": "code",
   "execution_count": 8,
   "metadata": {
    "nbgrader": {
     "grade": true,
     "grade_id": "cell-5af9ee7d975a6047",
     "locked": true,
     "points": 0,
     "schema_version": 1,
     "solution": false
    }
   },
   "outputs": [],
   "source": [
    "try:\n",
    "    analyse_orders([[10001, \"Erdbeermüsli\"], [10002, \"Blaubeermüsli\"]], [10001, 10003])\n",
    "except NotImplementedError:\n",
    "    print(\"Bitte entfernen Sie das \\\"raise NotImplementedError()\\\"\")"
   ]
  },
  {
   "cell_type": "markdown",
   "metadata": {
    "nbgrader": {
     "grade": false,
     "grade_id": "cell-0456f10aef0c1f15",
     "locked": true,
     "schema_version": 1,
     "solution": false
    }
   },
   "source": [
    "## Test 1 - Korrekte Filterung der Bestellungen\n",
    "Die noch *nicht* bezahlten Bestellungen sollen zurückgegeben werden."
   ]
  },
  {
   "cell_type": "code",
   "execution_count": 9,
   "metadata": {
    "nbgrader": {
     "grade": true,
     "grade_id": "cell-2755d5398e49ab99",
     "locked": true,
     "points": 0,
     "schema_version": 1,
     "solution": false
    }
   },
   "outputs": [
    {
     "name": "stdout",
     "output_type": "stream",
     "text": [
      "Test 1 erfolgreich\n",
      "Test 2 erfolgreich\n",
      "Test 3 erfolgreich\n"
     ]
    }
   ],
   "source": [
    "from nose.tools import assert_equal\n",
    "\n",
    "orders = [[10001, \"Erdbeermüsli\"], [10002, \"Blaubeermüsli\"], [10003, \"Früchtemüsli\"]]\n",
    "payments = [10001, 10003]\n",
    "paid_orders = analyse_orders(orders, payments)\n",
    "assert_equal(paid_orders, [[10002, \"Blaubeermüsli\"]], \"Die Bestellung \\\"10002 Blaubeermüsli\\\" soll zurückgegeben werden.\")\n",
    "print(\"Test 1 erfolgreich\")\n",
    "\n",
    "orders = [[10001, \"Erdbeermüsli\"], [10002, \"Blaubeermüsli\"], [10003, \"Früchtemüsli\"], [10004, \"Früchtemüsli\"]]\n",
    "payments = [10001, 10003]\n",
    "paid_orders = analyse_orders(orders, payments)\n",
    "assert_equal(paid_orders, [[10002, \"Blaubeermüsli\"], [10004, \"Früchtemüsli\"]], \"Die Bestellungen \\\"10002 Blaubeermüsli\\\" und \\\"10004 Früchtemüsli\\\" sollen zurückgegeben werden.\")\n",
    "print(\"Test 2 erfolgreich\")\n",
    "\n",
    "orders = [[10001, \"Erdbeermüsli\"], [10002, \"Blaubeermüsli\"], [10003, \"Früchtemüsli\"], [10004, \"Früchtemüsli\"]]\n",
    "payments = [10004]\n",
    "paid_orders = analyse_orders(orders, payments)\n",
    "assert_equal(paid_orders, [[10001, \"Erdbeermüsli\"], [10002, \"Blaubeermüsli\"], [10003, \"Früchtemüsli\"]], \"Die Bestellungen \\\"10001 Erdbeermüsli\\\", \\\"10002 Blaubeermüsli\\\" und \\\"10003 Früchtemüsli\\\" sollen zurückgegeben werden.\")\n",
    "print(\"Test 3 erfolgreich\")\n"
   ]
  }
 ],
 "metadata": {
  "celltoolbar": "Create Assignment",
  "file_extension": ".py",
  "kernelspec": {
   "display_name": "Python 3",
   "language": "python",
   "name": "python3"
  },
  "language_info": {
   "codemirror_mode": {
    "name": "ipython",
    "version": 3
   },
   "file_extension": ".py",
   "mimetype": "text/x-python",
   "name": "python",
   "nbconvert_exporter": "python",
   "pygments_lexer": "ipython3",
   "version": "3.7.2"
  },
  "mimetype": "text/x-python",
  "name": "python",
  "npconvert_exporter": "python",
  "pygments_lexer": "ipython3",
  "version": 3
 },
 "nbformat": 4,
 "nbformat_minor": 2
}
