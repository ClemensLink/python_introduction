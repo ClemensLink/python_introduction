{
 "cells": [
  {
   "cell_type": "markdown",
   "metadata": {
    "nbgrader": {
     "grade": false,
     "grade_id": "cell-0bbc35bf0a7ad03c",
     "locked": true,
     "schema_version": 1,
     "solution": false
    }
   },
   "source": [
    "# Aufgabe 3\n",
    "\n",
    "Im Rahmen der Materialverwaltung soll ein Programm zur automatischen Bewertung mehrerer Materialien implementiert werden. So sollen aus einer Liste mehrerer Materialien alle herausgefiltert werden, deren Lagerbestand unter dem Meldebstand von 200 liegt, damit diese neu bestellt werden können.  \n",
    "\n",
    "Implementieren Sie nun die Funktion `analyse_stock`. Diese Funktion erhält als Parameter eine Liste `materials`. Diese Liste besteht allerding aus mehreren Listen. So ist jedes Element der Liste `materials` eine Liste bestehend aus dem Materialnamen als erstem Wert, gefolgt von dem Materialbestand als zweitem Wert. Die Liste sieht also in etwa so aus: `[[\"Schrauben\", 330], [\"Nägel\", 2500], [\"Muttern\", 150]]`.  \n",
    "\n",
    "Als Ergebnis soll eine Liste mit nur den Materialien unter dem Meldebstand von 200Stück zurückgegeben werden (`to_reorder`). Ergebnis für obiges Beispiel wäre also: `[[\"Muttern\", 150]]`\n",
    "\n",
    "\n",
    "\n",
    "### Hilfe\n",
    "Sie können Ihre Lösung mit den automatisierten [Tests](#Automatische-Tests) weiter unten im Dokument überprüfen.<br>\n",
    "Eine Einführung in die `For-Schleifen` in Python finden Sie [hier](../../50_loops/for_loop.ipynb)."
   ]
  },
  {
   "cell_type": "code",
   "execution_count": 1,
   "metadata": {
    "nbgrader": {
     "grade": false,
     "grade_id": "cell-35309a5761d24069",
     "locked": false,
     "schema_version": 1,
     "solution": true
    }
   },
   "outputs": [],
   "source": [
    "    \n",
    "    \n",
    "    to_reorder = []\n",
    "    for material in materials:\n",
    "        if material[1] < 200:\n",
    "            # Ergänze die Liste der zu bestellenden Materialien durch das aktuell geprüfte\n",
    "    \n",
    "    "
   ]
  },
  {
   "cell_type": "markdown",
   "metadata": {
    "nbgrader": {
     "grade": false,
     "grade_id": "cell-8aba2ac98d3b5f29",
     "locked": true,
     "schema_version": 1,
     "solution": false
    }
   },
   "source": [
    "  ***\n",
    "  # Automatische Tests\n",
    "  Ab hier finden Sie einige automatisierte Tests um Ihre Lösungen zu überprüfen. Um Ihre Lösung zu prüfen führen Sie bitte zuerst die Zelle mit Ihrer Lösung und danach die Zelle mit dem zugehörigen Test aus.\n"
   ]
  },
  {
   "cell_type": "code",
   "execution_count": 2,
   "metadata": {
    "nbgrader": {
     "grade": true,
     "grade_id": "cell-8d8c306f10e0bb1a",
     "locked": true,
     "points": 0,
     "schema_version": 1,
     "solution": false
    }
   },
   "outputs": [],
   "source": [
    "try:\n",
    "    analyse_stock([[\"Schrauben\", 330], [\"Nägel\", 2500]])\n",
    "except NotImplementedError:\n",
    "    print(\"Bitte entfernen Sie das \\\"raise NotImplementedError()\\\"\")"
   ]
  },
  {
   "cell_type": "markdown",
   "metadata": {
    "nbgrader": {
     "grade": false,
     "grade_id": "cell-afaf3e4892f0670b",
     "locked": true,
     "schema_version": 1,
     "solution": false
    }
   },
   "source": [
    "## Test 1 - Richtige Filterung\n",
    "Es sollen die Materialien herausgefiltert werden, bei denen der Bestand unter 200 Stück liegt."
   ]
  },
  {
   "cell_type": "code",
   "execution_count": 9,
   "metadata": {
    "nbgrader": {
     "grade": true,
     "grade_id": "cell-bfba5cc6b7420fdf",
     "locked": true,
     "points": 0,
     "schema_version": 1,
     "solution": false
    }
   },
   "outputs": [
    {
     "name": "stdout",
     "output_type": "stream",
     "text": [
      "Test 1 erfolgreich\n",
      "Test 2 erfolgreich\n",
      "Test 3 erfolgreich\n"
     ]
    }
   ],
   "source": [
    "from nose.tools import assert_equal\n",
    "\n",
    "materials = [[\"Schrauben\", 330], [\"Nägel\", 2500], [\"Muttern\", 150]]\n",
    "to_reorder = analyse_stock(materials)\n",
    "assert_equal(to_reorder, [[\"Muttern\", 150]], \"Das Material \\\"Muttern\\\" sollte als einziges Material zurückgegeben werden\")\n",
    "print(\"Test 1 erfolgreich\")\n",
    "\n",
    "materials = [[\"Gewinde\", 230], [\"Knopfzellen\", 120]]\n",
    "to_reorder = analyse_stock(materials)\n",
    "assert_equal(to_reorder, [[\"Knopfzellen\", 120]], \"Das Material \\\"Knopfzellen\\\" sollte als einziges Material zurückgegeben werden\")\n",
    "print(\"Test 2 erfolgreich\")\n",
    "\n",
    "materials = [[\"Mandeln\", 150], [\"Haselnüsse\", 2500], [\"Erdnüsse\", 300], [\"Haselnüsse\", 180]]\n",
    "to_reorder = analyse_stock(materials)\n",
    "assert_equal(to_reorder, [[\"Mandeln\", 150], [\"Haselnüsse\", 180]], \"Die Materialien \\\"Mandeln\\\" und \\\"Haselnüsse\\\" sollten als zurückgegeben werden\")\n",
    "print(\"Test 3 erfolgreich\")"
   ]
  }
 ],
 "metadata": {
  "celltoolbar": "Create Assignment",
  "file_extension": ".py",
  "kernelspec": {
   "display_name": "Python 3",
   "language": "python",
   "name": "python3"
  },
  "language_info": {
   "codemirror_mode": {
    "name": "ipython",
    "version": 3
   },
   "file_extension": ".py",
   "mimetype": "text/x-python",
   "name": "python",
   "nbconvert_exporter": "python",
   "pygments_lexer": "ipython3",
   "version": "3.7.2"
  },
  "mimetype": "text/x-python",
  "name": "python",
  "npconvert_exporter": "python",
  "pygments_lexer": "ipython3",
  "version": 3
 },
 "nbformat": 4,
 "nbformat_minor": 2
}
