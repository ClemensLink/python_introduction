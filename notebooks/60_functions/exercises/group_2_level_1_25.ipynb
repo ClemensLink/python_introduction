{
 "cells": [
  {
   "cell_type": "markdown",
   "metadata": {
    "nbgrader": {
     "grade": false,
     "grade_id": "cell-57c7bad7491db7f6",
     "locked": true,
     "schema_version": 1,
     "solution": false
    }
   },
   "source": [
    "# Aufgabe 1\n",
    "\n",
    "Es soll ein Programm zur automatischen Analyse von Kontobewegungen implementiert werden. So soll aus einer großen Liste von Zugängen und Abgängen erkannt werden welche die größte ist\n",
    "\n",
    "Implementieren Sie nun die Funktion `analyse_transfers`. Diese Funktion erhält als Parameter eine Liste `transfers`, welche in Form von Float-Werten die Zugänge und Abgänge auf das Konto angibt (in etwa `[+500.00, -200.00, +0.70, -0.65]`).   \n",
    "Als Ergebnis soll der `höchste Transfer` als Float-Wert zurückgegeben werden (\"highest_transfer\"). Hierbei sollen sowohl negative als auch positive Transfers berücksichtigt werden.\n",
    "\n",
    "\n",
    "\n",
    "### Hilfe\n",
    "Sie können Ihre Lösung mit den automatisierten [Tests](#Automatische-Tests) weiter unten im Dokument überprüfen.<br>\n",
    "Eine Einführung in die `For-Schleifen` in Python finden Sie [hier](../../50_loops/for_loop.ipynb)."
   ]
  },
  {
   "cell_type": "code",
   "execution_count": 2,
   "metadata": {
    "nbgrader": {
     "grade": false,
     "grade_id": "cell-5186165662b3ed1f",
     "locked": false,
     "schema_version": 1,
     "solution": true
    }
   },
   "outputs": [],
   "source": [
    "\n",
    "\n",
    "    highest_transfer = 0\n",
    "    for transfer in transfers:\n",
    "        # prüfe ob der transfer höher ist als der aktuell höchste transfer und ändere gegebenenfalls den Wert von \"highest_transfer\"\n",
    "    \n",
    "  "
   ]
  },
  {
   "cell_type": "markdown",
   "metadata": {
    "nbgrader": {
     "grade": false,
     "grade_id": "cell-f66c70ce4cfb1fc5",
     "locked": true,
     "schema_version": 1,
     "solution": false
    }
   },
   "source": [
    "  ***\n",
    "  # Automatische Tests\n",
    "  Ab hier finden Sie einige automatisierte Tests um Ihre Lösungen zu überprüfen. Um Ihre Lösung zu prüfen führen Sie bitte zuerst die Zelle mit Ihrer Lösung und danach die Zelle mit dem zugehörigen Test aus.\n"
   ]
  },
  {
   "cell_type": "code",
   "execution_count": 3,
   "metadata": {
    "nbgrader": {
     "grade": true,
     "grade_id": "cell-e076cdd05aca88c1",
     "locked": true,
     "points": 0,
     "schema_version": 1,
     "solution": false
    }
   },
   "outputs": [],
   "source": [
    "try:\n",
    "    analyse_transfers([+519.55, -250.00, -19.37])\n",
    "except NotImplementedError:\n",
    "    print(\"Bitte entfernen Sie das \\\"raise NotImplementedError()\\\"\")"
   ]
  },
  {
   "cell_type": "markdown",
   "metadata": {
    "nbgrader": {
     "grade": false,
     "grade_id": "cell-ba6e43d47746662f",
     "locked": true,
     "schema_version": 1,
     "solution": false
    }
   },
   "source": [
    "## Test 1 - Korrekte Bestimmung der höchsten Bankbewegung\n",
    "Die höchste Bankbewegung (`highest_transfer`) soll für jede Liste korrekt bestimmt werden.  \n",
    "Hierbei gilt es insbesondere auch negative Bewegungen zu berücksichtigen."
   ]
  },
  {
   "cell_type": "code",
   "execution_count": 45,
   "metadata": {
    "nbgrader": {
     "grade": true,
     "grade_id": "cell-923ff467b69ba94d",
     "locked": true,
     "points": 0,
     "schema_version": 1,
     "solution": false
    }
   },
   "outputs": [
    {
     "name": "stdout",
     "output_type": "stream",
     "text": [
      "Test 1 erfolgreich\n",
      "Test 2 erfolgreich\n",
      "Test 3 erfolgreich\n",
      "Test 4 erfolgreich\n"
     ]
    }
   ],
   "source": [
    "from nose.tools import assert_equal\n",
    "\n",
    "transfers = [+100.45, -26.89, -23.00, +210.00, +234.00]\n",
    "highest_transfer = analyse_transfers(transfers)\n",
    "assert_equal(highest_transfer, 234, \"Das Ergebnis ist falsch\")\n",
    "print(\"Test 1 erfolgreich\")\n",
    "\n",
    "transfers = [+200.00, -200.00, +200.00, -200.00]\n",
    "highest_transfer = analyse_transfers(transfers)\n",
    "assert_equal(highest_transfer, 200, \"Das Ergebnis ist falsch\")\n",
    "print(\"Test 2 erfolgreich\")\n",
    "\n",
    "transfers = [+15.00]\n",
    "highest_transfer = analyse_transfers(transfers)\n",
    "assert_equal(highest_transfer, 15, \"Das Ergebnis ist falsch\")\n",
    "print(\"Test 3 erfolgreich\")\n",
    "\n",
    "transfers = [+300.00, -500.00, -23.00, +210.00, +234.00]\n",
    "highest_transfer = analyse_transfers(transfers)\n",
    "assert_equal(highest_transfer, -500, \"Das Ergebnis ist falsch, beachten Sie auch negative Buchungen\")\n",
    "print(\"Test 4 erfolgreich\")"
   ]
  }
 ],
 "metadata": {
  "celltoolbar": "Create Assignment",
  "file_extension": ".py",
  "kernelspec": {
   "display_name": "Python 3",
   "language": "python",
   "name": "python3"
  },
  "language_info": {
   "codemirror_mode": {
    "name": "ipython",
    "version": 3
   },
   "file_extension": ".py",
   "mimetype": "text/x-python",
   "name": "python",
   "nbconvert_exporter": "python",
   "pygments_lexer": "ipython3",
   "version": "3.7.2"
  },
  "mimetype": "text/x-python",
  "name": "python",
  "npconvert_exporter": "python",
  "pygments_lexer": "ipython3",
  "version": 3
 },
 "nbformat": 4,
 "nbformat_minor": 2
}
